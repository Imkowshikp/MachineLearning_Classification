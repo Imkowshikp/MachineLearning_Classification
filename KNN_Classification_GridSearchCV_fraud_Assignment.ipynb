{
 "cells": [
  {
   "cell_type": "markdown",
   "id": "620c5875",
   "metadata": {},
   "source": [
    "\n",
    "# Kowshik P \n",
    "\n",
    "## Classification Assignment submitted on 26-Apr-2022\n",
    "## ------------------------------------------------------------------------\n",
    "## Model Implemented - KNN-Grid SearchCV\n",
    "## Accuracy Rate of Model : 0.99\n",
    "## Type - 1 error: 6\n",
    "## Type - 2 error: 41 (Maximum)\n",
    "## Performance - Good\n",
    "## ------------------------------------------------------------------------\n"
   ]
  },
  {
   "cell_type": "code",
   "execution_count": 1,
   "id": "b3892083",
   "metadata": {},
   "outputs": [],
   "source": [
    "import pandas as pd;\n",
    "import numpy as np;\n",
    "import matplotlib.pyplot as mat;\n",
    "\n"
   ]
  },
  {
   "cell_type": "code",
   "execution_count": 2,
   "id": "66747058",
   "metadata": {},
   "outputs": [
    {
     "data": {
      "text/html": [
       "<div>\n",
       "<style scoped>\n",
       "    .dataframe tbody tr th:only-of-type {\n",
       "        vertical-align: middle;\n",
       "    }\n",
       "\n",
       "    .dataframe tbody tr th {\n",
       "        vertical-align: top;\n",
       "    }\n",
       "\n",
       "    .dataframe thead th {\n",
       "        text-align: right;\n",
       "    }\n",
       "</style>\n",
       "<table border=\"1\" class=\"dataframe\">\n",
       "  <thead>\n",
       "    <tr style=\"text-align: right;\">\n",
       "      <th></th>\n",
       "      <th>step</th>\n",
       "      <th>type</th>\n",
       "      <th>amount</th>\n",
       "      <th>oldbalanceOrg</th>\n",
       "      <th>newbalanceOrig</th>\n",
       "      <th>oldbalanceDest</th>\n",
       "      <th>newbalanceDest</th>\n",
       "      <th>isFraud</th>\n",
       "      <th>isFlaggedFraud</th>\n",
       "    </tr>\n",
       "  </thead>\n",
       "  <tbody>\n",
       "    <tr>\n",
       "      <th>0</th>\n",
       "      <td>1</td>\n",
       "      <td>PAYMENT</td>\n",
       "      <td>9839.64</td>\n",
       "      <td>170136.00</td>\n",
       "      <td>160296.36</td>\n",
       "      <td>0.00</td>\n",
       "      <td>0.00</td>\n",
       "      <td>0</td>\n",
       "      <td>0</td>\n",
       "    </tr>\n",
       "    <tr>\n",
       "      <th>1</th>\n",
       "      <td>1</td>\n",
       "      <td>PAYMENT</td>\n",
       "      <td>1864.28</td>\n",
       "      <td>21249.00</td>\n",
       "      <td>19384.72</td>\n",
       "      <td>0.00</td>\n",
       "      <td>0.00</td>\n",
       "      <td>0</td>\n",
       "      <td>0</td>\n",
       "    </tr>\n",
       "    <tr>\n",
       "      <th>2</th>\n",
       "      <td>1</td>\n",
       "      <td>PAYMENT</td>\n",
       "      <td>11668.14</td>\n",
       "      <td>41554.00</td>\n",
       "      <td>29885.86</td>\n",
       "      <td>0.00</td>\n",
       "      <td>0.00</td>\n",
       "      <td>0</td>\n",
       "      <td>0</td>\n",
       "    </tr>\n",
       "    <tr>\n",
       "      <th>3</th>\n",
       "      <td>1</td>\n",
       "      <td>PAYMENT</td>\n",
       "      <td>7817.71</td>\n",
       "      <td>53860.00</td>\n",
       "      <td>46042.29</td>\n",
       "      <td>0.00</td>\n",
       "      <td>0.00</td>\n",
       "      <td>0</td>\n",
       "      <td>0</td>\n",
       "    </tr>\n",
       "    <tr>\n",
       "      <th>4</th>\n",
       "      <td>1</td>\n",
       "      <td>PAYMENT</td>\n",
       "      <td>7107.77</td>\n",
       "      <td>183195.00</td>\n",
       "      <td>176087.23</td>\n",
       "      <td>0.00</td>\n",
       "      <td>0.00</td>\n",
       "      <td>0</td>\n",
       "      <td>0</td>\n",
       "    </tr>\n",
       "    <tr>\n",
       "      <th>...</th>\n",
       "      <td>...</td>\n",
       "      <td>...</td>\n",
       "      <td>...</td>\n",
       "      <td>...</td>\n",
       "      <td>...</td>\n",
       "      <td>...</td>\n",
       "      <td>...</td>\n",
       "      <td>...</td>\n",
       "      <td>...</td>\n",
       "    </tr>\n",
       "    <tr>\n",
       "      <th>16421</th>\n",
       "      <td>743</td>\n",
       "      <td>CASH_OUT</td>\n",
       "      <td>339682.13</td>\n",
       "      <td>339682.13</td>\n",
       "      <td>0.00</td>\n",
       "      <td>0.00</td>\n",
       "      <td>339682.13</td>\n",
       "      <td>1</td>\n",
       "      <td>0</td>\n",
       "    </tr>\n",
       "    <tr>\n",
       "      <th>16422</th>\n",
       "      <td>743</td>\n",
       "      <td>TRANSFER</td>\n",
       "      <td>6311409.28</td>\n",
       "      <td>6311409.28</td>\n",
       "      <td>0.00</td>\n",
       "      <td>0.00</td>\n",
       "      <td>0.00</td>\n",
       "      <td>1</td>\n",
       "      <td>0</td>\n",
       "    </tr>\n",
       "    <tr>\n",
       "      <th>16423</th>\n",
       "      <td>743</td>\n",
       "      <td>CASH_OUT</td>\n",
       "      <td>6311409.28</td>\n",
       "      <td>6311409.28</td>\n",
       "      <td>0.00</td>\n",
       "      <td>68488.84</td>\n",
       "      <td>6379898.11</td>\n",
       "      <td>1</td>\n",
       "      <td>0</td>\n",
       "    </tr>\n",
       "    <tr>\n",
       "      <th>16424</th>\n",
       "      <td>743</td>\n",
       "      <td>TRANSFER</td>\n",
       "      <td>850002.52</td>\n",
       "      <td>850002.52</td>\n",
       "      <td>0.00</td>\n",
       "      <td>0.00</td>\n",
       "      <td>0.00</td>\n",
       "      <td>1</td>\n",
       "      <td>0</td>\n",
       "    </tr>\n",
       "    <tr>\n",
       "      <th>16425</th>\n",
       "      <td>743</td>\n",
       "      <td>CASH_OUT</td>\n",
       "      <td>850002.52</td>\n",
       "      <td>850002.52</td>\n",
       "      <td>0.00</td>\n",
       "      <td>6510099.11</td>\n",
       "      <td>7360101.63</td>\n",
       "      <td>1</td>\n",
       "      <td>0</td>\n",
       "    </tr>\n",
       "  </tbody>\n",
       "</table>\n",
       "<p>16426 rows × 9 columns</p>\n",
       "</div>"
      ],
      "text/plain": [
       "       step      type      amount  oldbalanceOrg  newbalanceOrig  \\\n",
       "0         1   PAYMENT     9839.64      170136.00       160296.36   \n",
       "1         1   PAYMENT     1864.28       21249.00        19384.72   \n",
       "2         1   PAYMENT    11668.14       41554.00        29885.86   \n",
       "3         1   PAYMENT     7817.71       53860.00        46042.29   \n",
       "4         1   PAYMENT     7107.77      183195.00       176087.23   \n",
       "...     ...       ...         ...            ...             ...   \n",
       "16421   743  CASH_OUT   339682.13      339682.13            0.00   \n",
       "16422   743  TRANSFER  6311409.28     6311409.28            0.00   \n",
       "16423   743  CASH_OUT  6311409.28     6311409.28            0.00   \n",
       "16424   743  TRANSFER   850002.52      850002.52            0.00   \n",
       "16425   743  CASH_OUT   850002.52      850002.52            0.00   \n",
       "\n",
       "       oldbalanceDest  newbalanceDest  isFraud  isFlaggedFraud  \n",
       "0                0.00            0.00        0               0  \n",
       "1                0.00            0.00        0               0  \n",
       "2                0.00            0.00        0               0  \n",
       "3                0.00            0.00        0               0  \n",
       "4                0.00            0.00        0               0  \n",
       "...               ...             ...      ...             ...  \n",
       "16421            0.00       339682.13        1               0  \n",
       "16422            0.00            0.00        1               0  \n",
       "16423        68488.84      6379898.11        1               0  \n",
       "16424            0.00            0.00        1               0  \n",
       "16425      6510099.11      7360101.63        1               0  \n",
       "\n",
       "[16426 rows x 9 columns]"
      ]
     },
     "execution_count": 2,
     "metadata": {},
     "output_type": "execute_result"
    }
   ],
   "source": [
    "clientInformation = pd.read_csv(\"fraud.csv\");\n",
    "\n",
    "clientInformation"
   ]
  },
  {
   "cell_type": "code",
   "execution_count": 3,
   "id": "b88ba6ae",
   "metadata": {},
   "outputs": [
    {
     "data": {
      "text/plain": [
       "(16426, 9)"
      ]
     },
     "execution_count": 3,
     "metadata": {},
     "output_type": "execute_result"
    }
   ],
   "source": [
    "clientInformation.shape"
   ]
  },
  {
   "cell_type": "code",
   "execution_count": 4,
   "id": "f62a1267",
   "metadata": {},
   "outputs": [
    {
     "data": {
      "text/html": [
       "<div>\n",
       "<style scoped>\n",
       "    .dataframe tbody tr th:only-of-type {\n",
       "        vertical-align: middle;\n",
       "    }\n",
       "\n",
       "    .dataframe tbody tr th {\n",
       "        vertical-align: top;\n",
       "    }\n",
       "\n",
       "    .dataframe thead th {\n",
       "        text-align: right;\n",
       "    }\n",
       "</style>\n",
       "<table border=\"1\" class=\"dataframe\">\n",
       "  <thead>\n",
       "    <tr style=\"text-align: right;\">\n",
       "      <th></th>\n",
       "      <th>step</th>\n",
       "      <th>amount</th>\n",
       "      <th>oldbalanceOrg</th>\n",
       "      <th>newbalanceOrig</th>\n",
       "      <th>oldbalanceDest</th>\n",
       "      <th>newbalanceDest</th>\n",
       "      <th>isFraud</th>\n",
       "      <th>isFlaggedFraud</th>\n",
       "      <th>type_CASH_OUT</th>\n",
       "      <th>type_DEBIT</th>\n",
       "      <th>type_PAYMENT</th>\n",
       "      <th>type_TRANSFER</th>\n",
       "    </tr>\n",
       "  </thead>\n",
       "  <tbody>\n",
       "    <tr>\n",
       "      <th>0</th>\n",
       "      <td>1</td>\n",
       "      <td>9839.64</td>\n",
       "      <td>170136.00</td>\n",
       "      <td>160296.36</td>\n",
       "      <td>0.00</td>\n",
       "      <td>0.00</td>\n",
       "      <td>0</td>\n",
       "      <td>0</td>\n",
       "      <td>0</td>\n",
       "      <td>0</td>\n",
       "      <td>1</td>\n",
       "      <td>0</td>\n",
       "    </tr>\n",
       "    <tr>\n",
       "      <th>1</th>\n",
       "      <td>1</td>\n",
       "      <td>1864.28</td>\n",
       "      <td>21249.00</td>\n",
       "      <td>19384.72</td>\n",
       "      <td>0.00</td>\n",
       "      <td>0.00</td>\n",
       "      <td>0</td>\n",
       "      <td>0</td>\n",
       "      <td>0</td>\n",
       "      <td>0</td>\n",
       "      <td>1</td>\n",
       "      <td>0</td>\n",
       "    </tr>\n",
       "    <tr>\n",
       "      <th>2</th>\n",
       "      <td>1</td>\n",
       "      <td>11668.14</td>\n",
       "      <td>41554.00</td>\n",
       "      <td>29885.86</td>\n",
       "      <td>0.00</td>\n",
       "      <td>0.00</td>\n",
       "      <td>0</td>\n",
       "      <td>0</td>\n",
       "      <td>0</td>\n",
       "      <td>0</td>\n",
       "      <td>1</td>\n",
       "      <td>0</td>\n",
       "    </tr>\n",
       "    <tr>\n",
       "      <th>3</th>\n",
       "      <td>1</td>\n",
       "      <td>7817.71</td>\n",
       "      <td>53860.00</td>\n",
       "      <td>46042.29</td>\n",
       "      <td>0.00</td>\n",
       "      <td>0.00</td>\n",
       "      <td>0</td>\n",
       "      <td>0</td>\n",
       "      <td>0</td>\n",
       "      <td>0</td>\n",
       "      <td>1</td>\n",
       "      <td>0</td>\n",
       "    </tr>\n",
       "    <tr>\n",
       "      <th>4</th>\n",
       "      <td>1</td>\n",
       "      <td>7107.77</td>\n",
       "      <td>183195.00</td>\n",
       "      <td>176087.23</td>\n",
       "      <td>0.00</td>\n",
       "      <td>0.00</td>\n",
       "      <td>0</td>\n",
       "      <td>0</td>\n",
       "      <td>0</td>\n",
       "      <td>0</td>\n",
       "      <td>1</td>\n",
       "      <td>0</td>\n",
       "    </tr>\n",
       "    <tr>\n",
       "      <th>...</th>\n",
       "      <td>...</td>\n",
       "      <td>...</td>\n",
       "      <td>...</td>\n",
       "      <td>...</td>\n",
       "      <td>...</td>\n",
       "      <td>...</td>\n",
       "      <td>...</td>\n",
       "      <td>...</td>\n",
       "      <td>...</td>\n",
       "      <td>...</td>\n",
       "      <td>...</td>\n",
       "      <td>...</td>\n",
       "    </tr>\n",
       "    <tr>\n",
       "      <th>16421</th>\n",
       "      <td>743</td>\n",
       "      <td>339682.13</td>\n",
       "      <td>339682.13</td>\n",
       "      <td>0.00</td>\n",
       "      <td>0.00</td>\n",
       "      <td>339682.13</td>\n",
       "      <td>1</td>\n",
       "      <td>0</td>\n",
       "      <td>1</td>\n",
       "      <td>0</td>\n",
       "      <td>0</td>\n",
       "      <td>0</td>\n",
       "    </tr>\n",
       "    <tr>\n",
       "      <th>16422</th>\n",
       "      <td>743</td>\n",
       "      <td>6311409.28</td>\n",
       "      <td>6311409.28</td>\n",
       "      <td>0.00</td>\n",
       "      <td>0.00</td>\n",
       "      <td>0.00</td>\n",
       "      <td>1</td>\n",
       "      <td>0</td>\n",
       "      <td>0</td>\n",
       "      <td>0</td>\n",
       "      <td>0</td>\n",
       "      <td>1</td>\n",
       "    </tr>\n",
       "    <tr>\n",
       "      <th>16423</th>\n",
       "      <td>743</td>\n",
       "      <td>6311409.28</td>\n",
       "      <td>6311409.28</td>\n",
       "      <td>0.00</td>\n",
       "      <td>68488.84</td>\n",
       "      <td>6379898.11</td>\n",
       "      <td>1</td>\n",
       "      <td>0</td>\n",
       "      <td>1</td>\n",
       "      <td>0</td>\n",
       "      <td>0</td>\n",
       "      <td>0</td>\n",
       "    </tr>\n",
       "    <tr>\n",
       "      <th>16424</th>\n",
       "      <td>743</td>\n",
       "      <td>850002.52</td>\n",
       "      <td>850002.52</td>\n",
       "      <td>0.00</td>\n",
       "      <td>0.00</td>\n",
       "      <td>0.00</td>\n",
       "      <td>1</td>\n",
       "      <td>0</td>\n",
       "      <td>0</td>\n",
       "      <td>0</td>\n",
       "      <td>0</td>\n",
       "      <td>1</td>\n",
       "    </tr>\n",
       "    <tr>\n",
       "      <th>16425</th>\n",
       "      <td>743</td>\n",
       "      <td>850002.52</td>\n",
       "      <td>850002.52</td>\n",
       "      <td>0.00</td>\n",
       "      <td>6510099.11</td>\n",
       "      <td>7360101.63</td>\n",
       "      <td>1</td>\n",
       "      <td>0</td>\n",
       "      <td>1</td>\n",
       "      <td>0</td>\n",
       "      <td>0</td>\n",
       "      <td>0</td>\n",
       "    </tr>\n",
       "  </tbody>\n",
       "</table>\n",
       "<p>16426 rows × 12 columns</p>\n",
       "</div>"
      ],
      "text/plain": [
       "       step      amount  oldbalanceOrg  newbalanceOrig  oldbalanceDest  \\\n",
       "0         1     9839.64      170136.00       160296.36            0.00   \n",
       "1         1     1864.28       21249.00        19384.72            0.00   \n",
       "2         1    11668.14       41554.00        29885.86            0.00   \n",
       "3         1     7817.71       53860.00        46042.29            0.00   \n",
       "4         1     7107.77      183195.00       176087.23            0.00   \n",
       "...     ...         ...            ...             ...             ...   \n",
       "16421   743   339682.13      339682.13            0.00            0.00   \n",
       "16422   743  6311409.28     6311409.28            0.00            0.00   \n",
       "16423   743  6311409.28     6311409.28            0.00        68488.84   \n",
       "16424   743   850002.52      850002.52            0.00            0.00   \n",
       "16425   743   850002.52      850002.52            0.00      6510099.11   \n",
       "\n",
       "       newbalanceDest  isFraud  isFlaggedFraud  type_CASH_OUT  type_DEBIT  \\\n",
       "0                0.00        0               0              0           0   \n",
       "1                0.00        0               0              0           0   \n",
       "2                0.00        0               0              0           0   \n",
       "3                0.00        0               0              0           0   \n",
       "4                0.00        0               0              0           0   \n",
       "...               ...      ...             ...            ...         ...   \n",
       "16421       339682.13        1               0              1           0   \n",
       "16422            0.00        1               0              0           0   \n",
       "16423      6379898.11        1               0              1           0   \n",
       "16424            0.00        1               0              0           0   \n",
       "16425      7360101.63        1               0              1           0   \n",
       "\n",
       "       type_PAYMENT  type_TRANSFER  \n",
       "0                 1              0  \n",
       "1                 1              0  \n",
       "2                 1              0  \n",
       "3                 1              0  \n",
       "4                 1              0  \n",
       "...             ...            ...  \n",
       "16421             0              0  \n",
       "16422             0              1  \n",
       "16423             0              0  \n",
       "16424             0              1  \n",
       "16425             0              0  \n",
       "\n",
       "[16426 rows x 12 columns]"
      ]
     },
     "execution_count": 4,
     "metadata": {},
     "output_type": "execute_result"
    }
   ],
   "source": [
    "clientInformation = pd.get_dummies(clientInformation, drop_first = True);\n",
    "\n",
    "clientInformation"
   ]
  },
  {
   "cell_type": "code",
   "execution_count": 5,
   "id": "816abd5a",
   "metadata": {},
   "outputs": [
    {
     "data": {
      "text/html": [
       "<div>\n",
       "<style scoped>\n",
       "    .dataframe tbody tr th:only-of-type {\n",
       "        vertical-align: middle;\n",
       "    }\n",
       "\n",
       "    .dataframe tbody tr th {\n",
       "        vertical-align: top;\n",
       "    }\n",
       "\n",
       "    .dataframe thead th {\n",
       "        text-align: right;\n",
       "    }\n",
       "</style>\n",
       "<table border=\"1\" class=\"dataframe\">\n",
       "  <thead>\n",
       "    <tr style=\"text-align: right;\">\n",
       "      <th></th>\n",
       "      <th>step</th>\n",
       "      <th>amount</th>\n",
       "      <th>oldbalanceOrg</th>\n",
       "      <th>newbalanceOrig</th>\n",
       "      <th>oldbalanceDest</th>\n",
       "      <th>newbalanceDest</th>\n",
       "      <th>isFraud</th>\n",
       "      <th>type_CASH_OUT</th>\n",
       "      <th>type_DEBIT</th>\n",
       "      <th>type_PAYMENT</th>\n",
       "      <th>type_TRANSFER</th>\n",
       "    </tr>\n",
       "  </thead>\n",
       "  <tbody>\n",
       "    <tr>\n",
       "      <th>0</th>\n",
       "      <td>1</td>\n",
       "      <td>9839.64</td>\n",
       "      <td>170136.00</td>\n",
       "      <td>160296.36</td>\n",
       "      <td>0.00</td>\n",
       "      <td>0.00</td>\n",
       "      <td>0</td>\n",
       "      <td>0</td>\n",
       "      <td>0</td>\n",
       "      <td>1</td>\n",
       "      <td>0</td>\n",
       "    </tr>\n",
       "    <tr>\n",
       "      <th>1</th>\n",
       "      <td>1</td>\n",
       "      <td>1864.28</td>\n",
       "      <td>21249.00</td>\n",
       "      <td>19384.72</td>\n",
       "      <td>0.00</td>\n",
       "      <td>0.00</td>\n",
       "      <td>0</td>\n",
       "      <td>0</td>\n",
       "      <td>0</td>\n",
       "      <td>1</td>\n",
       "      <td>0</td>\n",
       "    </tr>\n",
       "    <tr>\n",
       "      <th>2</th>\n",
       "      <td>1</td>\n",
       "      <td>11668.14</td>\n",
       "      <td>41554.00</td>\n",
       "      <td>29885.86</td>\n",
       "      <td>0.00</td>\n",
       "      <td>0.00</td>\n",
       "      <td>0</td>\n",
       "      <td>0</td>\n",
       "      <td>0</td>\n",
       "      <td>1</td>\n",
       "      <td>0</td>\n",
       "    </tr>\n",
       "    <tr>\n",
       "      <th>3</th>\n",
       "      <td>1</td>\n",
       "      <td>7817.71</td>\n",
       "      <td>53860.00</td>\n",
       "      <td>46042.29</td>\n",
       "      <td>0.00</td>\n",
       "      <td>0.00</td>\n",
       "      <td>0</td>\n",
       "      <td>0</td>\n",
       "      <td>0</td>\n",
       "      <td>1</td>\n",
       "      <td>0</td>\n",
       "    </tr>\n",
       "    <tr>\n",
       "      <th>4</th>\n",
       "      <td>1</td>\n",
       "      <td>7107.77</td>\n",
       "      <td>183195.00</td>\n",
       "      <td>176087.23</td>\n",
       "      <td>0.00</td>\n",
       "      <td>0.00</td>\n",
       "      <td>0</td>\n",
       "      <td>0</td>\n",
       "      <td>0</td>\n",
       "      <td>1</td>\n",
       "      <td>0</td>\n",
       "    </tr>\n",
       "    <tr>\n",
       "      <th>...</th>\n",
       "      <td>...</td>\n",
       "      <td>...</td>\n",
       "      <td>...</td>\n",
       "      <td>...</td>\n",
       "      <td>...</td>\n",
       "      <td>...</td>\n",
       "      <td>...</td>\n",
       "      <td>...</td>\n",
       "      <td>...</td>\n",
       "      <td>...</td>\n",
       "      <td>...</td>\n",
       "    </tr>\n",
       "    <tr>\n",
       "      <th>16421</th>\n",
       "      <td>743</td>\n",
       "      <td>339682.13</td>\n",
       "      <td>339682.13</td>\n",
       "      <td>0.00</td>\n",
       "      <td>0.00</td>\n",
       "      <td>339682.13</td>\n",
       "      <td>1</td>\n",
       "      <td>1</td>\n",
       "      <td>0</td>\n",
       "      <td>0</td>\n",
       "      <td>0</td>\n",
       "    </tr>\n",
       "    <tr>\n",
       "      <th>16422</th>\n",
       "      <td>743</td>\n",
       "      <td>6311409.28</td>\n",
       "      <td>6311409.28</td>\n",
       "      <td>0.00</td>\n",
       "      <td>0.00</td>\n",
       "      <td>0.00</td>\n",
       "      <td>1</td>\n",
       "      <td>0</td>\n",
       "      <td>0</td>\n",
       "      <td>0</td>\n",
       "      <td>1</td>\n",
       "    </tr>\n",
       "    <tr>\n",
       "      <th>16423</th>\n",
       "      <td>743</td>\n",
       "      <td>6311409.28</td>\n",
       "      <td>6311409.28</td>\n",
       "      <td>0.00</td>\n",
       "      <td>68488.84</td>\n",
       "      <td>6379898.11</td>\n",
       "      <td>1</td>\n",
       "      <td>1</td>\n",
       "      <td>0</td>\n",
       "      <td>0</td>\n",
       "      <td>0</td>\n",
       "    </tr>\n",
       "    <tr>\n",
       "      <th>16424</th>\n",
       "      <td>743</td>\n",
       "      <td>850002.52</td>\n",
       "      <td>850002.52</td>\n",
       "      <td>0.00</td>\n",
       "      <td>0.00</td>\n",
       "      <td>0.00</td>\n",
       "      <td>1</td>\n",
       "      <td>0</td>\n",
       "      <td>0</td>\n",
       "      <td>0</td>\n",
       "      <td>1</td>\n",
       "    </tr>\n",
       "    <tr>\n",
       "      <th>16425</th>\n",
       "      <td>743</td>\n",
       "      <td>850002.52</td>\n",
       "      <td>850002.52</td>\n",
       "      <td>0.00</td>\n",
       "      <td>6510099.11</td>\n",
       "      <td>7360101.63</td>\n",
       "      <td>1</td>\n",
       "      <td>1</td>\n",
       "      <td>0</td>\n",
       "      <td>0</td>\n",
       "      <td>0</td>\n",
       "    </tr>\n",
       "  </tbody>\n",
       "</table>\n",
       "<p>16426 rows × 11 columns</p>\n",
       "</div>"
      ],
      "text/plain": [
       "       step      amount  oldbalanceOrg  newbalanceOrig  oldbalanceDest  \\\n",
       "0         1     9839.64      170136.00       160296.36            0.00   \n",
       "1         1     1864.28       21249.00        19384.72            0.00   \n",
       "2         1    11668.14       41554.00        29885.86            0.00   \n",
       "3         1     7817.71       53860.00        46042.29            0.00   \n",
       "4         1     7107.77      183195.00       176087.23            0.00   \n",
       "...     ...         ...            ...             ...             ...   \n",
       "16421   743   339682.13      339682.13            0.00            0.00   \n",
       "16422   743  6311409.28     6311409.28            0.00            0.00   \n",
       "16423   743  6311409.28     6311409.28            0.00        68488.84   \n",
       "16424   743   850002.52      850002.52            0.00            0.00   \n",
       "16425   743   850002.52      850002.52            0.00      6510099.11   \n",
       "\n",
       "       newbalanceDest  isFraud  type_CASH_OUT  type_DEBIT  type_PAYMENT  \\\n",
       "0                0.00        0              0           0             1   \n",
       "1                0.00        0              0           0             1   \n",
       "2                0.00        0              0           0             1   \n",
       "3                0.00        0              0           0             1   \n",
       "4                0.00        0              0           0             1   \n",
       "...               ...      ...            ...         ...           ...   \n",
       "16421       339682.13        1              1           0             0   \n",
       "16422            0.00        1              0           0             0   \n",
       "16423      6379898.11        1              1           0             0   \n",
       "16424            0.00        1              0           0             0   \n",
       "16425      7360101.63        1              1           0             0   \n",
       "\n",
       "       type_TRANSFER  \n",
       "0                  0  \n",
       "1                  0  \n",
       "2                  0  \n",
       "3                  0  \n",
       "4                  0  \n",
       "...              ...  \n",
       "16421              0  \n",
       "16422              1  \n",
       "16423              0  \n",
       "16424              1  \n",
       "16425              0  \n",
       "\n",
       "[16426 rows x 11 columns]"
      ]
     },
     "execution_count": 5,
     "metadata": {},
     "output_type": "execute_result"
    }
   ],
   "source": [
    "clientInformation = clientInformation.drop(\"isFlaggedFraud\", axis = 1);\n",
    "\n",
    "clientInformation\n"
   ]
  },
  {
   "cell_type": "code",
   "execution_count": 6,
   "id": "91cba69f",
   "metadata": {},
   "outputs": [
    {
     "data": {
      "text/html": [
       "<div>\n",
       "<style scoped>\n",
       "    .dataframe tbody tr th:only-of-type {\n",
       "        vertical-align: middle;\n",
       "    }\n",
       "\n",
       "    .dataframe tbody tr th {\n",
       "        vertical-align: top;\n",
       "    }\n",
       "\n",
       "    .dataframe thead th {\n",
       "        text-align: right;\n",
       "    }\n",
       "</style>\n",
       "<table border=\"1\" class=\"dataframe\">\n",
       "  <thead>\n",
       "    <tr style=\"text-align: right;\">\n",
       "      <th></th>\n",
       "      <th>step</th>\n",
       "      <th>amount</th>\n",
       "      <th>oldbalanceOrg</th>\n",
       "      <th>newbalanceOrig</th>\n",
       "      <th>oldbalanceDest</th>\n",
       "      <th>newbalanceDest</th>\n",
       "      <th>type_CASH_OUT</th>\n",
       "      <th>type_DEBIT</th>\n",
       "      <th>type_PAYMENT</th>\n",
       "      <th>type_TRANSFER</th>\n",
       "    </tr>\n",
       "  </thead>\n",
       "  <tbody>\n",
       "    <tr>\n",
       "      <th>0</th>\n",
       "      <td>1</td>\n",
       "      <td>9839.64</td>\n",
       "      <td>170136.00</td>\n",
       "      <td>160296.36</td>\n",
       "      <td>0.00</td>\n",
       "      <td>0.00</td>\n",
       "      <td>0</td>\n",
       "      <td>0</td>\n",
       "      <td>1</td>\n",
       "      <td>0</td>\n",
       "    </tr>\n",
       "    <tr>\n",
       "      <th>1</th>\n",
       "      <td>1</td>\n",
       "      <td>1864.28</td>\n",
       "      <td>21249.00</td>\n",
       "      <td>19384.72</td>\n",
       "      <td>0.00</td>\n",
       "      <td>0.00</td>\n",
       "      <td>0</td>\n",
       "      <td>0</td>\n",
       "      <td>1</td>\n",
       "      <td>0</td>\n",
       "    </tr>\n",
       "    <tr>\n",
       "      <th>2</th>\n",
       "      <td>1</td>\n",
       "      <td>11668.14</td>\n",
       "      <td>41554.00</td>\n",
       "      <td>29885.86</td>\n",
       "      <td>0.00</td>\n",
       "      <td>0.00</td>\n",
       "      <td>0</td>\n",
       "      <td>0</td>\n",
       "      <td>1</td>\n",
       "      <td>0</td>\n",
       "    </tr>\n",
       "    <tr>\n",
       "      <th>3</th>\n",
       "      <td>1</td>\n",
       "      <td>7817.71</td>\n",
       "      <td>53860.00</td>\n",
       "      <td>46042.29</td>\n",
       "      <td>0.00</td>\n",
       "      <td>0.00</td>\n",
       "      <td>0</td>\n",
       "      <td>0</td>\n",
       "      <td>1</td>\n",
       "      <td>0</td>\n",
       "    </tr>\n",
       "    <tr>\n",
       "      <th>4</th>\n",
       "      <td>1</td>\n",
       "      <td>7107.77</td>\n",
       "      <td>183195.00</td>\n",
       "      <td>176087.23</td>\n",
       "      <td>0.00</td>\n",
       "      <td>0.00</td>\n",
       "      <td>0</td>\n",
       "      <td>0</td>\n",
       "      <td>1</td>\n",
       "      <td>0</td>\n",
       "    </tr>\n",
       "    <tr>\n",
       "      <th>...</th>\n",
       "      <td>...</td>\n",
       "      <td>...</td>\n",
       "      <td>...</td>\n",
       "      <td>...</td>\n",
       "      <td>...</td>\n",
       "      <td>...</td>\n",
       "      <td>...</td>\n",
       "      <td>...</td>\n",
       "      <td>...</td>\n",
       "      <td>...</td>\n",
       "    </tr>\n",
       "    <tr>\n",
       "      <th>16421</th>\n",
       "      <td>743</td>\n",
       "      <td>339682.13</td>\n",
       "      <td>339682.13</td>\n",
       "      <td>0.00</td>\n",
       "      <td>0.00</td>\n",
       "      <td>339682.13</td>\n",
       "      <td>1</td>\n",
       "      <td>0</td>\n",
       "      <td>0</td>\n",
       "      <td>0</td>\n",
       "    </tr>\n",
       "    <tr>\n",
       "      <th>16422</th>\n",
       "      <td>743</td>\n",
       "      <td>6311409.28</td>\n",
       "      <td>6311409.28</td>\n",
       "      <td>0.00</td>\n",
       "      <td>0.00</td>\n",
       "      <td>0.00</td>\n",
       "      <td>0</td>\n",
       "      <td>0</td>\n",
       "      <td>0</td>\n",
       "      <td>1</td>\n",
       "    </tr>\n",
       "    <tr>\n",
       "      <th>16423</th>\n",
       "      <td>743</td>\n",
       "      <td>6311409.28</td>\n",
       "      <td>6311409.28</td>\n",
       "      <td>0.00</td>\n",
       "      <td>68488.84</td>\n",
       "      <td>6379898.11</td>\n",
       "      <td>1</td>\n",
       "      <td>0</td>\n",
       "      <td>0</td>\n",
       "      <td>0</td>\n",
       "    </tr>\n",
       "    <tr>\n",
       "      <th>16424</th>\n",
       "      <td>743</td>\n",
       "      <td>850002.52</td>\n",
       "      <td>850002.52</td>\n",
       "      <td>0.00</td>\n",
       "      <td>0.00</td>\n",
       "      <td>0.00</td>\n",
       "      <td>0</td>\n",
       "      <td>0</td>\n",
       "      <td>0</td>\n",
       "      <td>1</td>\n",
       "    </tr>\n",
       "    <tr>\n",
       "      <th>16425</th>\n",
       "      <td>743</td>\n",
       "      <td>850002.52</td>\n",
       "      <td>850002.52</td>\n",
       "      <td>0.00</td>\n",
       "      <td>6510099.11</td>\n",
       "      <td>7360101.63</td>\n",
       "      <td>1</td>\n",
       "      <td>0</td>\n",
       "      <td>0</td>\n",
       "      <td>0</td>\n",
       "    </tr>\n",
       "  </tbody>\n",
       "</table>\n",
       "<p>16426 rows × 10 columns</p>\n",
       "</div>"
      ],
      "text/plain": [
       "       step      amount  oldbalanceOrg  newbalanceOrig  oldbalanceDest  \\\n",
       "0         1     9839.64      170136.00       160296.36            0.00   \n",
       "1         1     1864.28       21249.00        19384.72            0.00   \n",
       "2         1    11668.14       41554.00        29885.86            0.00   \n",
       "3         1     7817.71       53860.00        46042.29            0.00   \n",
       "4         1     7107.77      183195.00       176087.23            0.00   \n",
       "...     ...         ...            ...             ...             ...   \n",
       "16421   743   339682.13      339682.13            0.00            0.00   \n",
       "16422   743  6311409.28     6311409.28            0.00            0.00   \n",
       "16423   743  6311409.28     6311409.28            0.00        68488.84   \n",
       "16424   743   850002.52      850002.52            0.00            0.00   \n",
       "16425   743   850002.52      850002.52            0.00      6510099.11   \n",
       "\n",
       "       newbalanceDest  type_CASH_OUT  type_DEBIT  type_PAYMENT  type_TRANSFER  \n",
       "0                0.00              0           0             1              0  \n",
       "1                0.00              0           0             1              0  \n",
       "2                0.00              0           0             1              0  \n",
       "3                0.00              0           0             1              0  \n",
       "4                0.00              0           0             1              0  \n",
       "...               ...            ...         ...           ...            ...  \n",
       "16421       339682.13              1           0             0              0  \n",
       "16422            0.00              0           0             0              1  \n",
       "16423      6379898.11              1           0             0              0  \n",
       "16424            0.00              0           0             0              1  \n",
       "16425      7360101.63              1           0             0              0  \n",
       "\n",
       "[16426 rows x 10 columns]"
      ]
     },
     "execution_count": 6,
     "metadata": {},
     "output_type": "execute_result"
    }
   ],
   "source": [
    "independentVariable = clientInformation[[\"step\", \"amount\", \"oldbalanceOrg\", \"newbalanceOrig\", \"oldbalanceDest\", \"newbalanceDest\", \"type_CASH_OUT\", \"type_DEBIT\", \"type_PAYMENT\", \"type_TRANSFER\"]];\n",
    "\n",
    "independentVariable"
   ]
  },
  {
   "cell_type": "code",
   "execution_count": 7,
   "id": "2c2a4d7e",
   "metadata": {},
   "outputs": [
    {
     "data": {
      "text/html": [
       "<div>\n",
       "<style scoped>\n",
       "    .dataframe tbody tr th:only-of-type {\n",
       "        vertical-align: middle;\n",
       "    }\n",
       "\n",
       "    .dataframe tbody tr th {\n",
       "        vertical-align: top;\n",
       "    }\n",
       "\n",
       "    .dataframe thead th {\n",
       "        text-align: right;\n",
       "    }\n",
       "</style>\n",
       "<table border=\"1\" class=\"dataframe\">\n",
       "  <thead>\n",
       "    <tr style=\"text-align: right;\">\n",
       "      <th></th>\n",
       "      <th>isFraud</th>\n",
       "    </tr>\n",
       "  </thead>\n",
       "  <tbody>\n",
       "    <tr>\n",
       "      <th>0</th>\n",
       "      <td>0</td>\n",
       "    </tr>\n",
       "    <tr>\n",
       "      <th>1</th>\n",
       "      <td>0</td>\n",
       "    </tr>\n",
       "    <tr>\n",
       "      <th>2</th>\n",
       "      <td>0</td>\n",
       "    </tr>\n",
       "    <tr>\n",
       "      <th>3</th>\n",
       "      <td>0</td>\n",
       "    </tr>\n",
       "    <tr>\n",
       "      <th>4</th>\n",
       "      <td>0</td>\n",
       "    </tr>\n",
       "    <tr>\n",
       "      <th>...</th>\n",
       "      <td>...</td>\n",
       "    </tr>\n",
       "    <tr>\n",
       "      <th>16421</th>\n",
       "      <td>1</td>\n",
       "    </tr>\n",
       "    <tr>\n",
       "      <th>16422</th>\n",
       "      <td>1</td>\n",
       "    </tr>\n",
       "    <tr>\n",
       "      <th>16423</th>\n",
       "      <td>1</td>\n",
       "    </tr>\n",
       "    <tr>\n",
       "      <th>16424</th>\n",
       "      <td>1</td>\n",
       "    </tr>\n",
       "    <tr>\n",
       "      <th>16425</th>\n",
       "      <td>1</td>\n",
       "    </tr>\n",
       "  </tbody>\n",
       "</table>\n",
       "<p>16426 rows × 1 columns</p>\n",
       "</div>"
      ],
      "text/plain": [
       "       isFraud\n",
       "0            0\n",
       "1            0\n",
       "2            0\n",
       "3            0\n",
       "4            0\n",
       "...        ...\n",
       "16421        1\n",
       "16422        1\n",
       "16423        1\n",
       "16424        1\n",
       "16425        1\n",
       "\n",
       "[16426 rows x 1 columns]"
      ]
     },
     "execution_count": 7,
     "metadata": {},
     "output_type": "execute_result"
    }
   ],
   "source": [
    "dependentVariable = clientInformation[[\"isFraud\"]];\n",
    "\n",
    "dependentVariable"
   ]
  },
  {
   "cell_type": "code",
   "execution_count": 8,
   "id": "a350488a",
   "metadata": {},
   "outputs": [],
   "source": [
    "from sklearn.model_selection import train_test_split;\n",
    "\n",
    "x_train, x_test, y_train, y_test = train_test_split(independentVariable, dependentVariable, test_size = 1/3, random_state = 0);"
   ]
  },
  {
   "cell_type": "code",
   "execution_count": null,
   "id": "9c5d70e0",
   "metadata": {},
   "outputs": [],
   "source": [
    "x_train"
   ]
  },
  {
   "cell_type": "code",
   "execution_count": null,
   "id": "b78859f7",
   "metadata": {},
   "outputs": [],
   "source": [
    "y_train"
   ]
  },
  {
   "cell_type": "code",
   "execution_count": null,
   "id": "c35396b9",
   "metadata": {},
   "outputs": [],
   "source": [
    "x_test"
   ]
  },
  {
   "cell_type": "code",
   "execution_count": null,
   "id": "1154e1b1",
   "metadata": {},
   "outputs": [],
   "source": [
    "y_test"
   ]
  },
  {
   "cell_type": "code",
   "execution_count": 9,
   "id": "8bc3a72d",
   "metadata": {},
   "outputs": [],
   "source": [
    "from sklearn.preprocessing import StandardScaler;\n",
    "\n",
    "standardization = StandardScaler();\n",
    "\n",
    "x_train = standardization.fit_transform(x_train);\n",
    "\n",
    "x_test = standardization.transform(x_test);\n"
   ]
  },
  {
   "cell_type": "code",
   "execution_count": 10,
   "id": "136a23ac",
   "metadata": {},
   "outputs": [
    {
     "name": "stdout",
     "output_type": "stream",
     "text": [
      "Fitting 5 folds for each of 96 candidates, totalling 480 fits\n"
     ]
    },
    {
     "name": "stderr",
     "output_type": "stream",
     "text": [
      "C:\\Users\\hp\\Anaconda3\\envs\\virtualml\\lib\\site-packages\\sklearn\\model_selection\\_validation.py:372: FitFailedWarning: \n",
      "80 fits failed out of a total of 480.\n",
      "The score on these train-test partitions for these parameters will be set to nan.\n",
      "If these failures are not expected, you can try to debug them by setting error_score='raise'.\n",
      "\n",
      "Below are more details about the failures:\n",
      "--------------------------------------------------------------------------------\n",
      "80 fits failed with the following error:\n",
      "Traceback (most recent call last):\n",
      "  File \"C:\\Users\\hp\\Anaconda3\\envs\\virtualml\\lib\\site-packages\\sklearn\\model_selection\\_validation.py\", line 680, in _fit_and_score\n",
      "    estimator.fit(X_train, y_train, **fit_params)\n",
      "  File \"C:\\Users\\hp\\Anaconda3\\envs\\virtualml\\lib\\site-packages\\sklearn\\neighbors\\_classification.py\", line 198, in fit\n",
      "    return self._fit(X, y)\n",
      "  File \"C:\\Users\\hp\\Anaconda3\\envs\\virtualml\\lib\\site-packages\\sklearn\\neighbors\\_base.py\", line 573, in _fit\n",
      "    % type(self.n_neighbors)\n",
      "TypeError: n_neighbors does not take <class 'float'> value, enter integer value\n",
      "\n",
      "  warnings.warn(some_fits_failed_message, FitFailedWarning)\n",
      "C:\\Users\\hp\\Anaconda3\\envs\\virtualml\\lib\\site-packages\\sklearn\\model_selection\\_search.py:972: UserWarning: One or more of the test scores are non-finite: [       nan        nan        nan        nan 0.99050156 0.99159772\n",
      " 0.9903186  0.99168899 0.9890396  0.99104961 0.98785171 0.98995323\n",
      " 0.98547559 0.98903948 0.98373919 0.98693785 0.98401316 0.98748591\n",
      " 0.98191083 0.98538399 0.98328183 0.98739457 0.98044789 0.98474424\n",
      "        nan        nan        nan        nan 0.99050156 0.99159772\n",
      " 0.9903186  0.99168899 0.9890396  0.99104961 0.98785171 0.98995323\n",
      " 0.98547559 0.98903948 0.98373919 0.98693785 0.98401316 0.98748591\n",
      " 0.98191083 0.98538399 0.98328183 0.98739457 0.98044789 0.98474424\n",
      "        nan        nan        nan        nan 0.99050156 0.99159772\n",
      " 0.9903186  0.99168899 0.9890396  0.99104961 0.98785171 0.98995323\n",
      " 0.98547559 0.98903948 0.98373919 0.98693785 0.98401316 0.98748591\n",
      " 0.98191083 0.98538399 0.98328183 0.98739457 0.98044789 0.98474424\n",
      "        nan        nan        nan        nan 0.99050156 0.99159772\n",
      " 0.9903186  0.99168899 0.9890396  0.99104961 0.98785171 0.98995323\n",
      " 0.98547559 0.98903948 0.98373919 0.98693785 0.98401316 0.98748591\n",
      " 0.98191083 0.98538399 0.98328183 0.98739457 0.98044789 0.98474424]\n",
      "  category=UserWarning,\n",
      "C:\\Users\\hp\\Anaconda3\\envs\\virtualml\\lib\\site-packages\\sklearn\\neighbors\\_classification.py:198: DataConversionWarning: A column-vector y was passed when a 1d array was expected. Please change the shape of y to (n_samples,), for example using ravel().\n",
      "  return self._fit(X, y)\n"
     ]
    }
   ],
   "source": [
    "from sklearn.neighbors import KNeighborsClassifier;\n",
    "\n",
    "from sklearn.model_selection import GridSearchCV;\n",
    "\n",
    "\n",
    "\n",
    "param_grid ={\"weights\":[\"uniform\", \"distance\"], \"n_neighbors\":[1.0, 10, 20, 50, 80, 100], \n",
    "             \n",
    "             \"p\":[1, 2], \"algorithm\":[\"auto\", \"ball_tree\", \"kd_tree\", \"brute\"], \"metric\":[\"minkowski\"]\n",
    "             \n",
    "            }\n",
    "\n",
    "grid = GridSearchCV(KNeighborsClassifier(), param_grid, refit = True, verbose = 3, n_jobs=-1, scoring=\"f1_weighted\");\n",
    "\n",
    "grid.fit(x_train, y_train);\n",
    "\n",
    "\n"
   ]
  },
  {
   "cell_type": "code",
   "execution_count": 11,
   "id": "7f71473d",
   "metadata": {},
   "outputs": [],
   "source": [
    "y_pred = grid.predict(x_test);"
   ]
  },
  {
   "cell_type": "code",
   "execution_count": 12,
   "id": "69c9594b",
   "metadata": {},
   "outputs": [
    {
     "name": "stdout",
     "output_type": "stream",
     "text": [
      "[[2716    6]\n",
      " [  41 2713]]\n"
     ]
    }
   ],
   "source": [
    "from sklearn.metrics import confusion_matrix;\n",
    "\n",
    "KNNConfusionMatrix = confusion_matrix(y_test, y_pred);\n",
    "\n",
    "print(KNNConfusionMatrix);\n"
   ]
  },
  {
   "cell_type": "code",
   "execution_count": 13,
   "id": "202da5bb",
   "metadata": {},
   "outputs": [
    {
     "name": "stdout",
     "output_type": "stream",
     "text": [
      "              precision    recall  f1-score   support\n",
      "\n",
      "           0       0.99      1.00      0.99      2722\n",
      "           1       1.00      0.99      0.99      2754\n",
      "\n",
      "    accuracy                           0.99      5476\n",
      "   macro avg       0.99      0.99      0.99      5476\n",
      "weighted avg       0.99      0.99      0.99      5476\n",
      "\n"
     ]
    }
   ],
   "source": [
    "from sklearn.metrics import classification_report;\n",
    "\n",
    "KNNClassifierReport = classification_report(y_test, y_pred);\n",
    "\n",
    "print(KNNClassifierReport);"
   ]
  },
  {
   "cell_type": "markdown",
   "id": "e13f3f91",
   "metadata": {},
   "source": [
    "# 1. Metric(Accuracy Score)\n",
    "## The best performance is 1"
   ]
  },
  {
   "cell_type": "code",
   "execution_count": 14,
   "id": "5cc0b7a5",
   "metadata": {},
   "outputs": [
    {
     "name": "stdout",
     "output_type": "stream",
     "text": [
      "0.9914170927684441\n"
     ]
    }
   ],
   "source": [
    "from sklearn.metrics import accuracy_score;\n",
    "\n",
    "KNNClassifierAccuracy = accuracy_score(y_test, y_pred);\n",
    "\n",
    "print(KNNClassifierAccuracy);"
   ]
  },
  {
   "cell_type": "markdown",
   "id": "dafa4524",
   "metadata": {},
   "source": [
    "# 2. Metric(Balanced Accuracy)\n",
    "## The best value is 1 and the worst value is 0"
   ]
  },
  {
   "cell_type": "code",
   "execution_count": 15,
   "id": "81a49c5f",
   "metadata": {},
   "outputs": [
    {
     "name": "stdout",
     "output_type": "stream",
     "text": [
      "0.9914541509857814\n"
     ]
    }
   ],
   "source": [
    "from sklearn.metrics import balanced_accuracy_score;\n",
    "\n",
    "KNNClassifierBalanced = balanced_accuracy_score(y_test, y_pred);\n",
    "\n",
    "print(KNNClassifierBalanced);"
   ]
  },
  {
   "cell_type": "markdown",
   "id": "67aa199d",
   "metadata": {},
   "source": [
    "# 3. Metric(Top K-Accuracy Score)\n",
    "## The top-k accuracy score. The best performance is 1"
   ]
  },
  {
   "cell_type": "code",
   "execution_count": 16,
   "id": "a610a051",
   "metadata": {},
   "outputs": [
    {
     "name": "stdout",
     "output_type": "stream",
     "text": [
      "1.0\n"
     ]
    },
    {
     "name": "stderr",
     "output_type": "stream",
     "text": [
      "C:\\Users\\hp\\Anaconda3\\envs\\virtualml\\lib\\site-packages\\sklearn\\metrics\\_ranking.py:1751: UndefinedMetricWarning: 'k' (2) greater than or equal to 'n_classes' (2) will result in a perfect score and is therefore meaningless.\n",
      "  UndefinedMetricWarning,\n"
     ]
    }
   ],
   "source": [
    "from sklearn.metrics import top_k_accuracy_score;\n",
    "\n",
    "KNNClassiferTopK = top_k_accuracy_score(y_test, y_pred);\n",
    "\n",
    "print(KNNClassiferTopK);"
   ]
  },
  {
   "cell_type": "markdown",
   "id": "e2544784",
   "metadata": {},
   "source": [
    "# 4. Metric(Average Precision Score)\n",
    "## The best value is 1 and the worst value is 0"
   ]
  },
  {
   "cell_type": "code",
   "execution_count": 17,
   "id": "147bc44d",
   "metadata": {},
   "outputs": [
    {
     "name": "stdout",
     "output_type": "stream",
     "text": [
      "0.9904259388645501\n"
     ]
    }
   ],
   "source": [
    "from sklearn.metrics import average_precision_score;\n",
    "\n",
    "KNNClassifierPrecision = average_precision_score(y_test, y_pred);\n",
    "\n",
    "print(KNNClassifierPrecision);"
   ]
  },
  {
   "cell_type": "markdown",
   "id": "6865e721",
   "metadata": {},
   "source": [
    "# 5. Metric(Brier Score Loss)\n",
    "## The best value is 1 and the worst value is 0"
   ]
  },
  {
   "cell_type": "code",
   "execution_count": 18,
   "id": "2fa189d5",
   "metadata": {},
   "outputs": [
    {
     "name": "stdout",
     "output_type": "stream",
     "text": [
      "0.00858290723155588\n"
     ]
    }
   ],
   "source": [
    "from sklearn.metrics import brier_score_loss;\n",
    "\n",
    "KNNClassiferBrier = brier_score_loss(y_test, y_pred);\n",
    "\n",
    "print(KNNClassiferBrier);"
   ]
  },
  {
   "cell_type": "markdown",
   "id": "f0aa9a5e",
   "metadata": {},
   "source": [
    "# 6. Metric(F1 Score)\n",
    "## The best value is 1 and the worst value is 0"
   ]
  },
  {
   "cell_type": "code",
   "execution_count": 19,
   "id": "b8891908",
   "metadata": {},
   "outputs": [
    {
     "name": "stdout",
     "output_type": "stream",
     "text": [
      "0.9914123880869724\n"
     ]
    }
   ],
   "source": [
    "from sklearn.metrics import f1_score;\n",
    "\n",
    "KNNClassifierF1score = f1_score(y_test, y_pred);\n",
    "\n",
    "print(KNNClassifierF1score);"
   ]
  },
  {
   "cell_type": "markdown",
   "id": "be037884",
   "metadata": {},
   "source": [
    "# 7. Metric(F1 Score - Macro)\n",
    "## The best value is 1 and the worst value is 0"
   ]
  },
  {
   "cell_type": "code",
   "execution_count": 20,
   "id": "04639014",
   "metadata": {},
   "outputs": [
    {
     "name": "stdout",
     "output_type": "stream",
     "text": [
      "0.9914170901924184\n"
     ]
    }
   ],
   "source": [
    "from sklearn.metrics import f1_score;\n",
    "\n",
    "KNNClassifierF1Macro = f1_score(y_test, y_pred, average='macro');\n",
    "\n",
    "print(KNNClassifierF1Macro);"
   ]
  },
  {
   "cell_type": "markdown",
   "id": "6631ce1a",
   "metadata": {},
   "source": [
    "# 8. Metric(F1 Score - Micro)\n",
    "## The best value is 1 and the worst value is 0"
   ]
  },
  {
   "cell_type": "code",
   "execution_count": 21,
   "id": "0b10a1f6",
   "metadata": {},
   "outputs": [
    {
     "name": "stdout",
     "output_type": "stream",
     "text": [
      "0.9914170927684441\n"
     ]
    }
   ],
   "source": [
    "from sklearn.metrics import f1_score;\n",
    "\n",
    "KNNClassifierF1Micro = f1_score(y_test, y_pred, average='micro');\n",
    "\n",
    "print(KNNClassifierF1Micro);"
   ]
  },
  {
   "cell_type": "markdown",
   "id": "842ff3c4",
   "metadata": {},
   "source": [
    "# 9. Metric(F1 Score - Weighted)\n",
    "## The best value is 1 and the worst value is 0"
   ]
  },
  {
   "cell_type": "code",
   "execution_count": 22,
   "id": "473e6bff",
   "metadata": {},
   "outputs": [
    {
     "name": "stdout",
     "output_type": "stream",
     "text": [
      "0.9914170627148119\n"
     ]
    }
   ],
   "source": [
    "from sklearn.metrics import f1_score;\n",
    "\n",
    "KNNClassifierF1Weighted = f1_score(y_test, y_pred, average='weighted');\n",
    "\n",
    "print(KNNClassifierF1Weighted);"
   ]
  },
  {
   "cell_type": "markdown",
   "id": "cd31dd32",
   "metadata": {},
   "source": [
    "# 10. Metric(F1 Score - Samples)\n",
    "## The best value is 1 and the worst value is 0"
   ]
  },
  {
   "cell_type": "code",
   "execution_count": 23,
   "id": "78e3ccde",
   "metadata": {},
   "outputs": [
    {
     "name": "stdout",
     "output_type": "stream",
     "text": [
      "[0.99142179 0.99141239]\n"
     ]
    }
   ],
   "source": [
    "from sklearn.metrics import f1_score;\n",
    "\n",
    "KNNClassifierF1Samples = f1_score(y_test, y_pred, average= None);\n",
    "\n",
    "print(KNNClassifierF1Samples);"
   ]
  },
  {
   "cell_type": "markdown",
   "id": "2c9ff641",
   "metadata": {},
   "source": [
    "# 11. Metric(Log_Loss)\n",
    "## The best value is 1 and the worst value is 0"
   ]
  },
  {
   "cell_type": "code",
   "execution_count": 24,
   "id": "b5762a17",
   "metadata": {},
   "outputs": [
    {
     "name": "stdout",
     "output_type": "stream",
     "text": [
      "0.2964439898001075\n"
     ]
    }
   ],
   "source": [
    "from sklearn.metrics import log_loss;\n",
    "\n",
    "KNNClassifierLogLoss = log_loss(y_test, y_pred);\n",
    "\n",
    "print(KNNClassifierLogLoss);"
   ]
  },
  {
   "cell_type": "markdown",
   "id": "266c728d",
   "metadata": {},
   "source": [
    "# 12. Metric(Precision Score)\n",
    "## The best value is 1 and the worst value is 0"
   ]
  },
  {
   "cell_type": "code",
   "execution_count": 25,
   "id": "587a419f",
   "metadata": {},
   "outputs": [
    {
     "name": "stdout",
     "output_type": "stream",
     "text": [
      "0.9977933063626333\n"
     ]
    }
   ],
   "source": [
    "from sklearn.metrics import precision_score;\n",
    "\n",
    "KNNClassifierPrecisionScore = precision_score(y_test, y_pred);\n",
    "\n",
    "print(KNNClassifierPrecisionScore);"
   ]
  },
  {
   "cell_type": "markdown",
   "id": "19bf8886",
   "metadata": {},
   "source": [
    "# 13. Metric(Precision Score - Macro)\n",
    "## The best value is 1 and the worst value is 0"
   ]
  },
  {
   "cell_type": "code",
   "execution_count": 26,
   "id": "bb067891",
   "metadata": {},
   "outputs": [
    {
     "name": "stdout",
     "output_type": "stream",
     "text": [
      "0.9914610347554915\n"
     ]
    }
   ],
   "source": [
    "from sklearn.metrics import precision_score;\n",
    "\n",
    "KNNClassifierPrecisionScoreMacro = precision_score(y_test, y_pred, average='macro');\n",
    "\n",
    "print(KNNClassifierPrecisionScoreMacro);"
   ]
  },
  {
   "cell_type": "markdown",
   "id": "9e145bfb",
   "metadata": {},
   "source": [
    "# 14. Metric(Precision Score - Micro)\n",
    "## The best value is 1 and the worst value is 0"
   ]
  },
  {
   "cell_type": "code",
   "execution_count": 27,
   "id": "f68d5a32",
   "metadata": {},
   "outputs": [
    {
     "name": "stdout",
     "output_type": "stream",
     "text": [
      "0.9914170927684441\n"
     ]
    }
   ],
   "source": [
    "from sklearn.metrics import precision_score;\n",
    "\n",
    "KNNClassifierPrecisionScoreMicro = precision_score(y_test, y_pred, average='micro');\n",
    "\n",
    "print(KNNClassifierPrecisionScoreMicro);"
   ]
  },
  {
   "cell_type": "markdown",
   "id": "d64d37b8",
   "metadata": {},
   "source": [
    "# 15. Metric(Precision Score - Weighted)\n",
    "## The best value is 1 and the worst value is 0"
   ]
  },
  {
   "cell_type": "code",
   "execution_count": 28,
   "id": "9b72527b",
   "metadata": {},
   "outputs": [
    {
     "name": "stdout",
     "output_type": "stream",
     "text": [
      "0.9914980385340577\n"
     ]
    }
   ],
   "source": [
    "from sklearn.metrics import precision_score;\n",
    "\n",
    "KNNClassifierPrecisionScoreWeighted = precision_score(y_test, y_pred, average='weighted');\n",
    "\n",
    "print(KNNClassifierPrecisionScoreWeighted);"
   ]
  },
  {
   "cell_type": "markdown",
   "id": "4aa4a2e3",
   "metadata": {},
   "source": [
    "# 16. Metric(Precision Score - None)\n",
    "## The best value is 1 and the worst value is 0"
   ]
  },
  {
   "cell_type": "code",
   "execution_count": 29,
   "id": "50ea588d",
   "metadata": {},
   "outputs": [
    {
     "name": "stdout",
     "output_type": "stream",
     "text": [
      "[0.98512876 0.99779331]\n"
     ]
    }
   ],
   "source": [
    "from sklearn.metrics import precision_score;\n",
    "\n",
    "KNNClassifierPrecisionScoreNone = precision_score(y_test, y_pred, average=None);\n",
    "\n",
    "print(KNNClassifierPrecisionScoreNone);"
   ]
  },
  {
   "cell_type": "markdown",
   "id": "f0c3f0b4",
   "metadata": {},
   "source": [
    "# 17. Metric(Recall)\n",
    "## The best value is 1 and the worst value is 0"
   ]
  },
  {
   "cell_type": "code",
   "execution_count": 30,
   "id": "43a04e0b",
   "metadata": {},
   "outputs": [
    {
     "name": "stdout",
     "output_type": "stream",
     "text": [
      "0.9851125635439361\n"
     ]
    }
   ],
   "source": [
    "from sklearn.metrics import recall_score;\n",
    "\n",
    "KNNClassifierRecall = recall_score(y_test, y_pred);\n",
    "\n",
    "print(KNNClassifierRecall);"
   ]
  },
  {
   "cell_type": "markdown",
   "id": "97d6b0b3",
   "metadata": {},
   "source": [
    "# 18. Metric(Recall - Macro)\n",
    "## The best value is 1 and the worst value is 0"
   ]
  },
  {
   "cell_type": "code",
   "execution_count": 31,
   "id": "885c2c2f",
   "metadata": {},
   "outputs": [
    {
     "name": "stdout",
     "output_type": "stream",
     "text": [
      "0.9914541509857814\n"
     ]
    }
   ],
   "source": [
    "from sklearn.metrics import recall_score;\n",
    "\n",
    "KNNClassifierRecallMacro = recall_score(y_test, y_pred, average='macro');\n",
    "\n",
    "print(KNNClassifierRecallMacro);"
   ]
  },
  {
   "cell_type": "markdown",
   "id": "6e057e53",
   "metadata": {},
   "source": [
    "# 19. Metric(Recall - Micro)\n",
    "## The best value is 1 and the worst value is 0"
   ]
  },
  {
   "cell_type": "code",
   "execution_count": 32,
   "id": "9a5d8060",
   "metadata": {},
   "outputs": [
    {
     "name": "stdout",
     "output_type": "stream",
     "text": [
      "0.9914170927684441\n"
     ]
    }
   ],
   "source": [
    "from sklearn.metrics import recall_score;\n",
    "\n",
    "KNNClassifierRecallMicro = recall_score(y_test, y_pred, average='micro');\n",
    "\n",
    "print(KNNClassifierRecallMicro);"
   ]
  },
  {
   "cell_type": "markdown",
   "id": "fbfa41dd",
   "metadata": {},
   "source": [
    "# 20. Metric(Recall - Weighted)\n",
    "## The best value is 1 and the worst value is 0"
   ]
  },
  {
   "cell_type": "code",
   "execution_count": 33,
   "id": "2095e82c",
   "metadata": {},
   "outputs": [
    {
     "name": "stdout",
     "output_type": "stream",
     "text": [
      "0.9914170927684441\n"
     ]
    }
   ],
   "source": [
    "from sklearn.metrics import recall_score;\n",
    "\n",
    "KNNClassifierRecallWeighted = recall_score(y_test, y_pred, average='weighted');\n",
    "\n",
    "print(KNNClassifierRecallWeighted);"
   ]
  },
  {
   "cell_type": "markdown",
   "id": "d27972e6",
   "metadata": {},
   "source": [
    "# 21. Metric(Recall - None)\n",
    "## The best value is 1 and the worst value is 0"
   ]
  },
  {
   "cell_type": "code",
   "execution_count": 34,
   "id": "43db6ddc",
   "metadata": {},
   "outputs": [
    {
     "name": "stdout",
     "output_type": "stream",
     "text": [
      "[0.99779574 0.98511256]\n"
     ]
    }
   ],
   "source": [
    "from sklearn.metrics import recall_score;\n",
    "\n",
    "KNNClassifierRecallNone = recall_score(y_test, y_pred, average=None, zero_division=1);\n",
    "\n",
    "print(KNNClassifierRecallNone);"
   ]
  },
  {
   "cell_type": "markdown",
   "id": "5c754c8a",
   "metadata": {},
   "source": [
    "# 22. Metric(Jaccard Score)\n",
    "## The best value is 1 and the worst value is 0"
   ]
  },
  {
   "cell_type": "code",
   "execution_count": 35,
   "id": "d4c5499d",
   "metadata": {},
   "outputs": [
    {
     "name": "stdout",
     "output_type": "stream",
     "text": [
      "0.9829710144927536\n"
     ]
    }
   ],
   "source": [
    "from sklearn.metrics import jaccard_score;\n",
    "\n",
    "KNNClassifierJaccard = jaccard_score(y_test, y_pred);\n",
    "\n",
    "print(KNNClassifierJaccard);"
   ]
  },
  {
   "cell_type": "markdown",
   "id": "86b342eb",
   "metadata": {},
   "source": [
    "# 23. Metric(Jaccard - None)\n",
    "## The best value is 1 and the worst value is 0"
   ]
  },
  {
   "cell_type": "code",
   "execution_count": 36,
   "id": "47d016fd",
   "metadata": {},
   "outputs": [
    {
     "name": "stdout",
     "output_type": "stream",
     "text": [
      "[0.9829895  0.98297101]\n"
     ]
    }
   ],
   "source": [
    "from sklearn.metrics import jaccard_score;\n",
    "\n",
    "KNNClassifierJaccardNone = jaccard_score(y_test, y_pred, average=None);\n",
    "\n",
    "print(KNNClassifierJaccardNone);"
   ]
  },
  {
   "cell_type": "markdown",
   "id": "666c4897",
   "metadata": {},
   "source": [
    "# 24. Metric(Jaccard - Weighted)\n",
    "## The best value is 1 and the worst value is 0"
   ]
  },
  {
   "cell_type": "code",
   "execution_count": 37,
   "id": "3010bbd7",
   "metadata": {},
   "outputs": [
    {
     "name": "stdout",
     "output_type": "stream",
     "text": [
      "0.9829802053035784\n"
     ]
    }
   ],
   "source": [
    "from sklearn.metrics import jaccard_score;\n",
    "\n",
    "KNNClassifierJaccardWeighted = jaccard_score(y_test, y_pred, average='weighted');\n",
    "\n",
    "print(KNNClassifierJaccardWeighted);"
   ]
  },
  {
   "cell_type": "markdown",
   "id": "6152d21a",
   "metadata": {},
   "source": [
    "# 25. Metric(Jaccard - Micro)\n",
    "## The best value is 1 and the worst value is 0"
   ]
  },
  {
   "cell_type": "code",
   "execution_count": 38,
   "id": "054aec62",
   "metadata": {},
   "outputs": [
    {
     "name": "stdout",
     "output_type": "stream",
     "text": [
      "0.9829802643490857\n"
     ]
    }
   ],
   "source": [
    "from sklearn.metrics import jaccard_score;\n",
    "\n",
    "KNNClassifierJaccardMicro = jaccard_score(y_test, y_pred, average='micro');\n",
    "\n",
    "print(KNNClassifierJaccardMicro);"
   ]
  },
  {
   "cell_type": "markdown",
   "id": "122226af",
   "metadata": {},
   "source": [
    "# 26. Metric(Rac Auc Score)\n",
    "## The best value is 1 and the worst value is 0"
   ]
  },
  {
   "cell_type": "code",
   "execution_count": 39,
   "id": "6fc12139",
   "metadata": {},
   "outputs": [
    {
     "name": "stdout",
     "output_type": "stream",
     "text": [
      "0.9914541509857813\n"
     ]
    }
   ],
   "source": [
    "from sklearn.metrics import roc_auc_score;\n",
    "\n",
    "KNNClassifierRoc = roc_auc_score(y_test, y_pred);\n",
    "\n",
    "print(KNNClassifierRoc);"
   ]
  },
  {
   "cell_type": "markdown",
   "id": "06bec00f",
   "metadata": {},
   "source": [
    "# 27. Metric(Rac Auc Score - None)\n",
    "## The best value is 1 and the worst value is 0"
   ]
  },
  {
   "cell_type": "code",
   "execution_count": 40,
   "id": "9d2bf022",
   "metadata": {},
   "outputs": [
    {
     "name": "stdout",
     "output_type": "stream",
     "text": [
      "0.9914541509857813\n"
     ]
    }
   ],
   "source": [
    "from sklearn.metrics import roc_auc_score;\n",
    "\n",
    "KNNClassifierRocNone = roc_auc_score(y_test, y_pred, average=None);\n",
    "\n",
    "print(KNNClassifierRocNone);"
   ]
  },
  {
   "cell_type": "markdown",
   "id": "8b8c5e19",
   "metadata": {},
   "source": [
    "# 28. Metric(Rac Auc Score - Macro)\n",
    "## The best value is 1 and the worst value is 0"
   ]
  },
  {
   "cell_type": "code",
   "execution_count": 41,
   "id": "ef71c811",
   "metadata": {},
   "outputs": [
    {
     "name": "stdout",
     "output_type": "stream",
     "text": [
      "0.9914541509857813\n"
     ]
    }
   ],
   "source": [
    "from sklearn.metrics import roc_auc_score;\n",
    "\n",
    "KNNClassifierRocMacro = roc_auc_score(y_test, y_pred, average='macro');\n",
    "\n",
    "print(KNNClassifierRocMacro);"
   ]
  },
  {
   "cell_type": "markdown",
   "id": "2bffc453",
   "metadata": {},
   "source": [
    "# 29. Metric(Rac Auc Score - Micro)\n",
    "## The best value is 1 and the worst value is 0"
   ]
  },
  {
   "cell_type": "code",
   "execution_count": 42,
   "id": "c3bbae93",
   "metadata": {},
   "outputs": [
    {
     "name": "stdout",
     "output_type": "stream",
     "text": [
      "0.9914541509857813\n"
     ]
    }
   ],
   "source": [
    "from sklearn.metrics import roc_auc_score;\n",
    "\n",
    "KNNClassifierRocMicro = roc_auc_score(y_test, y_pred, average='micro');\n",
    "\n",
    "print(KNNClassifierRocMicro);"
   ]
  },
  {
   "cell_type": "markdown",
   "id": "5a0af084",
   "metadata": {},
   "source": [
    "# 30. Metric(Rac Auc Score - Weighted)\n",
    "## The best value is 1 and the worst value is 0"
   ]
  },
  {
   "cell_type": "code",
   "execution_count": 43,
   "id": "509a89c3",
   "metadata": {},
   "outputs": [
    {
     "name": "stdout",
     "output_type": "stream",
     "text": [
      "0.9914541509857813\n"
     ]
    }
   ],
   "source": [
    "from sklearn.metrics import roc_auc_score;\n",
    "\n",
    "KNNClassifierRocWeighted = roc_auc_score(y_test, y_pred, average='weighted');\n",
    "\n",
    "print(KNNClassifierRocWeighted);"
   ]
  }
 ],
 "metadata": {
  "kernelspec": {
   "display_name": "Python 3 (ipykernel)",
   "language": "python",
   "name": "python3"
  },
  "language_info": {
   "codemirror_mode": {
    "name": "ipython",
    "version": 3
   },
   "file_extension": ".py",
   "mimetype": "text/x-python",
   "name": "python",
   "nbconvert_exporter": "python",
   "pygments_lexer": "ipython3",
   "version": "3.7.6"
  }
 },
 "nbformat": 4,
 "nbformat_minor": 5
}
