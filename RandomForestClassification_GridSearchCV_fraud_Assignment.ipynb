{
 "cells": [
  {
   "cell_type": "markdown",
   "id": "2c708857",
   "metadata": {},
   "source": [
    "\n",
    "# Kowshik P \n",
    "\n",
    "## Classification Assignment submitted on 26-Apr-2022\n",
    "## ------------------------------------------------------------------------\n",
    "## Model Implemented - Random Forest-Grid SearchCV\n",
    "## Accuracy Rate of Model : 1.00\n",
    "## Type - 1 error: 0\n",
    "## Type - 2 error: 3 (Minimum error)\n",
    "## Performance - Excellent\n",
    "## ------------------------------------------------------------------------\n"
   ]
  },
  {
   "cell_type": "code",
   "execution_count": 1,
   "id": "b3892083",
   "metadata": {},
   "outputs": [],
   "source": [
    "import pandas as pd;\n",
    "import numpy as np;\n",
    "import matplotlib.pyplot as mat;\n",
    "\n"
   ]
  },
  {
   "cell_type": "code",
   "execution_count": 2,
   "id": "66747058",
   "metadata": {},
   "outputs": [
    {
     "data": {
      "text/html": [
       "<div>\n",
       "<style scoped>\n",
       "    .dataframe tbody tr th:only-of-type {\n",
       "        vertical-align: middle;\n",
       "    }\n",
       "\n",
       "    .dataframe tbody tr th {\n",
       "        vertical-align: top;\n",
       "    }\n",
       "\n",
       "    .dataframe thead th {\n",
       "        text-align: right;\n",
       "    }\n",
       "</style>\n",
       "<table border=\"1\" class=\"dataframe\">\n",
       "  <thead>\n",
       "    <tr style=\"text-align: right;\">\n",
       "      <th></th>\n",
       "      <th>step</th>\n",
       "      <th>type</th>\n",
       "      <th>amount</th>\n",
       "      <th>oldbalanceOrg</th>\n",
       "      <th>newbalanceOrig</th>\n",
       "      <th>oldbalanceDest</th>\n",
       "      <th>newbalanceDest</th>\n",
       "      <th>isFraud</th>\n",
       "      <th>isFlaggedFraud</th>\n",
       "    </tr>\n",
       "  </thead>\n",
       "  <tbody>\n",
       "    <tr>\n",
       "      <th>0</th>\n",
       "      <td>1</td>\n",
       "      <td>PAYMENT</td>\n",
       "      <td>9839.64</td>\n",
       "      <td>170136.00</td>\n",
       "      <td>160296.36</td>\n",
       "      <td>0.00</td>\n",
       "      <td>0.00</td>\n",
       "      <td>0</td>\n",
       "      <td>0</td>\n",
       "    </tr>\n",
       "    <tr>\n",
       "      <th>1</th>\n",
       "      <td>1</td>\n",
       "      <td>PAYMENT</td>\n",
       "      <td>1864.28</td>\n",
       "      <td>21249.00</td>\n",
       "      <td>19384.72</td>\n",
       "      <td>0.00</td>\n",
       "      <td>0.00</td>\n",
       "      <td>0</td>\n",
       "      <td>0</td>\n",
       "    </tr>\n",
       "    <tr>\n",
       "      <th>2</th>\n",
       "      <td>1</td>\n",
       "      <td>PAYMENT</td>\n",
       "      <td>11668.14</td>\n",
       "      <td>41554.00</td>\n",
       "      <td>29885.86</td>\n",
       "      <td>0.00</td>\n",
       "      <td>0.00</td>\n",
       "      <td>0</td>\n",
       "      <td>0</td>\n",
       "    </tr>\n",
       "    <tr>\n",
       "      <th>3</th>\n",
       "      <td>1</td>\n",
       "      <td>PAYMENT</td>\n",
       "      <td>7817.71</td>\n",
       "      <td>53860.00</td>\n",
       "      <td>46042.29</td>\n",
       "      <td>0.00</td>\n",
       "      <td>0.00</td>\n",
       "      <td>0</td>\n",
       "      <td>0</td>\n",
       "    </tr>\n",
       "    <tr>\n",
       "      <th>4</th>\n",
       "      <td>1</td>\n",
       "      <td>PAYMENT</td>\n",
       "      <td>7107.77</td>\n",
       "      <td>183195.00</td>\n",
       "      <td>176087.23</td>\n",
       "      <td>0.00</td>\n",
       "      <td>0.00</td>\n",
       "      <td>0</td>\n",
       "      <td>0</td>\n",
       "    </tr>\n",
       "    <tr>\n",
       "      <th>...</th>\n",
       "      <td>...</td>\n",
       "      <td>...</td>\n",
       "      <td>...</td>\n",
       "      <td>...</td>\n",
       "      <td>...</td>\n",
       "      <td>...</td>\n",
       "      <td>...</td>\n",
       "      <td>...</td>\n",
       "      <td>...</td>\n",
       "    </tr>\n",
       "    <tr>\n",
       "      <th>16421</th>\n",
       "      <td>743</td>\n",
       "      <td>CASH_OUT</td>\n",
       "      <td>339682.13</td>\n",
       "      <td>339682.13</td>\n",
       "      <td>0.00</td>\n",
       "      <td>0.00</td>\n",
       "      <td>339682.13</td>\n",
       "      <td>1</td>\n",
       "      <td>0</td>\n",
       "    </tr>\n",
       "    <tr>\n",
       "      <th>16422</th>\n",
       "      <td>743</td>\n",
       "      <td>TRANSFER</td>\n",
       "      <td>6311409.28</td>\n",
       "      <td>6311409.28</td>\n",
       "      <td>0.00</td>\n",
       "      <td>0.00</td>\n",
       "      <td>0.00</td>\n",
       "      <td>1</td>\n",
       "      <td>0</td>\n",
       "    </tr>\n",
       "    <tr>\n",
       "      <th>16423</th>\n",
       "      <td>743</td>\n",
       "      <td>CASH_OUT</td>\n",
       "      <td>6311409.28</td>\n",
       "      <td>6311409.28</td>\n",
       "      <td>0.00</td>\n",
       "      <td>68488.84</td>\n",
       "      <td>6379898.11</td>\n",
       "      <td>1</td>\n",
       "      <td>0</td>\n",
       "    </tr>\n",
       "    <tr>\n",
       "      <th>16424</th>\n",
       "      <td>743</td>\n",
       "      <td>TRANSFER</td>\n",
       "      <td>850002.52</td>\n",
       "      <td>850002.52</td>\n",
       "      <td>0.00</td>\n",
       "      <td>0.00</td>\n",
       "      <td>0.00</td>\n",
       "      <td>1</td>\n",
       "      <td>0</td>\n",
       "    </tr>\n",
       "    <tr>\n",
       "      <th>16425</th>\n",
       "      <td>743</td>\n",
       "      <td>CASH_OUT</td>\n",
       "      <td>850002.52</td>\n",
       "      <td>850002.52</td>\n",
       "      <td>0.00</td>\n",
       "      <td>6510099.11</td>\n",
       "      <td>7360101.63</td>\n",
       "      <td>1</td>\n",
       "      <td>0</td>\n",
       "    </tr>\n",
       "  </tbody>\n",
       "</table>\n",
       "<p>16426 rows × 9 columns</p>\n",
       "</div>"
      ],
      "text/plain": [
       "       step      type      amount  oldbalanceOrg  newbalanceOrig  \\\n",
       "0         1   PAYMENT     9839.64      170136.00       160296.36   \n",
       "1         1   PAYMENT     1864.28       21249.00        19384.72   \n",
       "2         1   PAYMENT    11668.14       41554.00        29885.86   \n",
       "3         1   PAYMENT     7817.71       53860.00        46042.29   \n",
       "4         1   PAYMENT     7107.77      183195.00       176087.23   \n",
       "...     ...       ...         ...            ...             ...   \n",
       "16421   743  CASH_OUT   339682.13      339682.13            0.00   \n",
       "16422   743  TRANSFER  6311409.28     6311409.28            0.00   \n",
       "16423   743  CASH_OUT  6311409.28     6311409.28            0.00   \n",
       "16424   743  TRANSFER   850002.52      850002.52            0.00   \n",
       "16425   743  CASH_OUT   850002.52      850002.52            0.00   \n",
       "\n",
       "       oldbalanceDest  newbalanceDest  isFraud  isFlaggedFraud  \n",
       "0                0.00            0.00        0               0  \n",
       "1                0.00            0.00        0               0  \n",
       "2                0.00            0.00        0               0  \n",
       "3                0.00            0.00        0               0  \n",
       "4                0.00            0.00        0               0  \n",
       "...               ...             ...      ...             ...  \n",
       "16421            0.00       339682.13        1               0  \n",
       "16422            0.00            0.00        1               0  \n",
       "16423        68488.84      6379898.11        1               0  \n",
       "16424            0.00            0.00        1               0  \n",
       "16425      6510099.11      7360101.63        1               0  \n",
       "\n",
       "[16426 rows x 9 columns]"
      ]
     },
     "execution_count": 2,
     "metadata": {},
     "output_type": "execute_result"
    }
   ],
   "source": [
    "clientInformation = pd.read_csv(\"fraud.csv\");\n",
    "\n",
    "clientInformation"
   ]
  },
  {
   "cell_type": "code",
   "execution_count": 3,
   "id": "b88ba6ae",
   "metadata": {},
   "outputs": [
    {
     "data": {
      "text/plain": [
       "(16426, 9)"
      ]
     },
     "execution_count": 3,
     "metadata": {},
     "output_type": "execute_result"
    }
   ],
   "source": [
    "clientInformation.shape"
   ]
  },
  {
   "cell_type": "code",
   "execution_count": 4,
   "id": "f62a1267",
   "metadata": {},
   "outputs": [
    {
     "data": {
      "text/html": [
       "<div>\n",
       "<style scoped>\n",
       "    .dataframe tbody tr th:only-of-type {\n",
       "        vertical-align: middle;\n",
       "    }\n",
       "\n",
       "    .dataframe tbody tr th {\n",
       "        vertical-align: top;\n",
       "    }\n",
       "\n",
       "    .dataframe thead th {\n",
       "        text-align: right;\n",
       "    }\n",
       "</style>\n",
       "<table border=\"1\" class=\"dataframe\">\n",
       "  <thead>\n",
       "    <tr style=\"text-align: right;\">\n",
       "      <th></th>\n",
       "      <th>step</th>\n",
       "      <th>amount</th>\n",
       "      <th>oldbalanceOrg</th>\n",
       "      <th>newbalanceOrig</th>\n",
       "      <th>oldbalanceDest</th>\n",
       "      <th>newbalanceDest</th>\n",
       "      <th>isFraud</th>\n",
       "      <th>isFlaggedFraud</th>\n",
       "      <th>type_CASH_OUT</th>\n",
       "      <th>type_DEBIT</th>\n",
       "      <th>type_PAYMENT</th>\n",
       "      <th>type_TRANSFER</th>\n",
       "    </tr>\n",
       "  </thead>\n",
       "  <tbody>\n",
       "    <tr>\n",
       "      <th>0</th>\n",
       "      <td>1</td>\n",
       "      <td>9839.64</td>\n",
       "      <td>170136.00</td>\n",
       "      <td>160296.36</td>\n",
       "      <td>0.00</td>\n",
       "      <td>0.00</td>\n",
       "      <td>0</td>\n",
       "      <td>0</td>\n",
       "      <td>0</td>\n",
       "      <td>0</td>\n",
       "      <td>1</td>\n",
       "      <td>0</td>\n",
       "    </tr>\n",
       "    <tr>\n",
       "      <th>1</th>\n",
       "      <td>1</td>\n",
       "      <td>1864.28</td>\n",
       "      <td>21249.00</td>\n",
       "      <td>19384.72</td>\n",
       "      <td>0.00</td>\n",
       "      <td>0.00</td>\n",
       "      <td>0</td>\n",
       "      <td>0</td>\n",
       "      <td>0</td>\n",
       "      <td>0</td>\n",
       "      <td>1</td>\n",
       "      <td>0</td>\n",
       "    </tr>\n",
       "    <tr>\n",
       "      <th>2</th>\n",
       "      <td>1</td>\n",
       "      <td>11668.14</td>\n",
       "      <td>41554.00</td>\n",
       "      <td>29885.86</td>\n",
       "      <td>0.00</td>\n",
       "      <td>0.00</td>\n",
       "      <td>0</td>\n",
       "      <td>0</td>\n",
       "      <td>0</td>\n",
       "      <td>0</td>\n",
       "      <td>1</td>\n",
       "      <td>0</td>\n",
       "    </tr>\n",
       "    <tr>\n",
       "      <th>3</th>\n",
       "      <td>1</td>\n",
       "      <td>7817.71</td>\n",
       "      <td>53860.00</td>\n",
       "      <td>46042.29</td>\n",
       "      <td>0.00</td>\n",
       "      <td>0.00</td>\n",
       "      <td>0</td>\n",
       "      <td>0</td>\n",
       "      <td>0</td>\n",
       "      <td>0</td>\n",
       "      <td>1</td>\n",
       "      <td>0</td>\n",
       "    </tr>\n",
       "    <tr>\n",
       "      <th>4</th>\n",
       "      <td>1</td>\n",
       "      <td>7107.77</td>\n",
       "      <td>183195.00</td>\n",
       "      <td>176087.23</td>\n",
       "      <td>0.00</td>\n",
       "      <td>0.00</td>\n",
       "      <td>0</td>\n",
       "      <td>0</td>\n",
       "      <td>0</td>\n",
       "      <td>0</td>\n",
       "      <td>1</td>\n",
       "      <td>0</td>\n",
       "    </tr>\n",
       "    <tr>\n",
       "      <th>...</th>\n",
       "      <td>...</td>\n",
       "      <td>...</td>\n",
       "      <td>...</td>\n",
       "      <td>...</td>\n",
       "      <td>...</td>\n",
       "      <td>...</td>\n",
       "      <td>...</td>\n",
       "      <td>...</td>\n",
       "      <td>...</td>\n",
       "      <td>...</td>\n",
       "      <td>...</td>\n",
       "      <td>...</td>\n",
       "    </tr>\n",
       "    <tr>\n",
       "      <th>16421</th>\n",
       "      <td>743</td>\n",
       "      <td>339682.13</td>\n",
       "      <td>339682.13</td>\n",
       "      <td>0.00</td>\n",
       "      <td>0.00</td>\n",
       "      <td>339682.13</td>\n",
       "      <td>1</td>\n",
       "      <td>0</td>\n",
       "      <td>1</td>\n",
       "      <td>0</td>\n",
       "      <td>0</td>\n",
       "      <td>0</td>\n",
       "    </tr>\n",
       "    <tr>\n",
       "      <th>16422</th>\n",
       "      <td>743</td>\n",
       "      <td>6311409.28</td>\n",
       "      <td>6311409.28</td>\n",
       "      <td>0.00</td>\n",
       "      <td>0.00</td>\n",
       "      <td>0.00</td>\n",
       "      <td>1</td>\n",
       "      <td>0</td>\n",
       "      <td>0</td>\n",
       "      <td>0</td>\n",
       "      <td>0</td>\n",
       "      <td>1</td>\n",
       "    </tr>\n",
       "    <tr>\n",
       "      <th>16423</th>\n",
       "      <td>743</td>\n",
       "      <td>6311409.28</td>\n",
       "      <td>6311409.28</td>\n",
       "      <td>0.00</td>\n",
       "      <td>68488.84</td>\n",
       "      <td>6379898.11</td>\n",
       "      <td>1</td>\n",
       "      <td>0</td>\n",
       "      <td>1</td>\n",
       "      <td>0</td>\n",
       "      <td>0</td>\n",
       "      <td>0</td>\n",
       "    </tr>\n",
       "    <tr>\n",
       "      <th>16424</th>\n",
       "      <td>743</td>\n",
       "      <td>850002.52</td>\n",
       "      <td>850002.52</td>\n",
       "      <td>0.00</td>\n",
       "      <td>0.00</td>\n",
       "      <td>0.00</td>\n",
       "      <td>1</td>\n",
       "      <td>0</td>\n",
       "      <td>0</td>\n",
       "      <td>0</td>\n",
       "      <td>0</td>\n",
       "      <td>1</td>\n",
       "    </tr>\n",
       "    <tr>\n",
       "      <th>16425</th>\n",
       "      <td>743</td>\n",
       "      <td>850002.52</td>\n",
       "      <td>850002.52</td>\n",
       "      <td>0.00</td>\n",
       "      <td>6510099.11</td>\n",
       "      <td>7360101.63</td>\n",
       "      <td>1</td>\n",
       "      <td>0</td>\n",
       "      <td>1</td>\n",
       "      <td>0</td>\n",
       "      <td>0</td>\n",
       "      <td>0</td>\n",
       "    </tr>\n",
       "  </tbody>\n",
       "</table>\n",
       "<p>16426 rows × 12 columns</p>\n",
       "</div>"
      ],
      "text/plain": [
       "       step      amount  oldbalanceOrg  newbalanceOrig  oldbalanceDest  \\\n",
       "0         1     9839.64      170136.00       160296.36            0.00   \n",
       "1         1     1864.28       21249.00        19384.72            0.00   \n",
       "2         1    11668.14       41554.00        29885.86            0.00   \n",
       "3         1     7817.71       53860.00        46042.29            0.00   \n",
       "4         1     7107.77      183195.00       176087.23            0.00   \n",
       "...     ...         ...            ...             ...             ...   \n",
       "16421   743   339682.13      339682.13            0.00            0.00   \n",
       "16422   743  6311409.28     6311409.28            0.00            0.00   \n",
       "16423   743  6311409.28     6311409.28            0.00        68488.84   \n",
       "16424   743   850002.52      850002.52            0.00            0.00   \n",
       "16425   743   850002.52      850002.52            0.00      6510099.11   \n",
       "\n",
       "       newbalanceDest  isFraud  isFlaggedFraud  type_CASH_OUT  type_DEBIT  \\\n",
       "0                0.00        0               0              0           0   \n",
       "1                0.00        0               0              0           0   \n",
       "2                0.00        0               0              0           0   \n",
       "3                0.00        0               0              0           0   \n",
       "4                0.00        0               0              0           0   \n",
       "...               ...      ...             ...            ...         ...   \n",
       "16421       339682.13        1               0              1           0   \n",
       "16422            0.00        1               0              0           0   \n",
       "16423      6379898.11        1               0              1           0   \n",
       "16424            0.00        1               0              0           0   \n",
       "16425      7360101.63        1               0              1           0   \n",
       "\n",
       "       type_PAYMENT  type_TRANSFER  \n",
       "0                 1              0  \n",
       "1                 1              0  \n",
       "2                 1              0  \n",
       "3                 1              0  \n",
       "4                 1              0  \n",
       "...             ...            ...  \n",
       "16421             0              0  \n",
       "16422             0              1  \n",
       "16423             0              0  \n",
       "16424             0              1  \n",
       "16425             0              0  \n",
       "\n",
       "[16426 rows x 12 columns]"
      ]
     },
     "execution_count": 4,
     "metadata": {},
     "output_type": "execute_result"
    }
   ],
   "source": [
    "clientInformation = pd.get_dummies(clientInformation, drop_first = True);\n",
    "\n",
    "clientInformation"
   ]
  },
  {
   "cell_type": "code",
   "execution_count": 5,
   "id": "816abd5a",
   "metadata": {},
   "outputs": [
    {
     "data": {
      "text/html": [
       "<div>\n",
       "<style scoped>\n",
       "    .dataframe tbody tr th:only-of-type {\n",
       "        vertical-align: middle;\n",
       "    }\n",
       "\n",
       "    .dataframe tbody tr th {\n",
       "        vertical-align: top;\n",
       "    }\n",
       "\n",
       "    .dataframe thead th {\n",
       "        text-align: right;\n",
       "    }\n",
       "</style>\n",
       "<table border=\"1\" class=\"dataframe\">\n",
       "  <thead>\n",
       "    <tr style=\"text-align: right;\">\n",
       "      <th></th>\n",
       "      <th>step</th>\n",
       "      <th>amount</th>\n",
       "      <th>oldbalanceOrg</th>\n",
       "      <th>newbalanceOrig</th>\n",
       "      <th>oldbalanceDest</th>\n",
       "      <th>newbalanceDest</th>\n",
       "      <th>isFraud</th>\n",
       "      <th>type_CASH_OUT</th>\n",
       "      <th>type_DEBIT</th>\n",
       "      <th>type_PAYMENT</th>\n",
       "      <th>type_TRANSFER</th>\n",
       "    </tr>\n",
       "  </thead>\n",
       "  <tbody>\n",
       "    <tr>\n",
       "      <th>0</th>\n",
       "      <td>1</td>\n",
       "      <td>9839.64</td>\n",
       "      <td>170136.00</td>\n",
       "      <td>160296.36</td>\n",
       "      <td>0.00</td>\n",
       "      <td>0.00</td>\n",
       "      <td>0</td>\n",
       "      <td>0</td>\n",
       "      <td>0</td>\n",
       "      <td>1</td>\n",
       "      <td>0</td>\n",
       "    </tr>\n",
       "    <tr>\n",
       "      <th>1</th>\n",
       "      <td>1</td>\n",
       "      <td>1864.28</td>\n",
       "      <td>21249.00</td>\n",
       "      <td>19384.72</td>\n",
       "      <td>0.00</td>\n",
       "      <td>0.00</td>\n",
       "      <td>0</td>\n",
       "      <td>0</td>\n",
       "      <td>0</td>\n",
       "      <td>1</td>\n",
       "      <td>0</td>\n",
       "    </tr>\n",
       "    <tr>\n",
       "      <th>2</th>\n",
       "      <td>1</td>\n",
       "      <td>11668.14</td>\n",
       "      <td>41554.00</td>\n",
       "      <td>29885.86</td>\n",
       "      <td>0.00</td>\n",
       "      <td>0.00</td>\n",
       "      <td>0</td>\n",
       "      <td>0</td>\n",
       "      <td>0</td>\n",
       "      <td>1</td>\n",
       "      <td>0</td>\n",
       "    </tr>\n",
       "    <tr>\n",
       "      <th>3</th>\n",
       "      <td>1</td>\n",
       "      <td>7817.71</td>\n",
       "      <td>53860.00</td>\n",
       "      <td>46042.29</td>\n",
       "      <td>0.00</td>\n",
       "      <td>0.00</td>\n",
       "      <td>0</td>\n",
       "      <td>0</td>\n",
       "      <td>0</td>\n",
       "      <td>1</td>\n",
       "      <td>0</td>\n",
       "    </tr>\n",
       "    <tr>\n",
       "      <th>4</th>\n",
       "      <td>1</td>\n",
       "      <td>7107.77</td>\n",
       "      <td>183195.00</td>\n",
       "      <td>176087.23</td>\n",
       "      <td>0.00</td>\n",
       "      <td>0.00</td>\n",
       "      <td>0</td>\n",
       "      <td>0</td>\n",
       "      <td>0</td>\n",
       "      <td>1</td>\n",
       "      <td>0</td>\n",
       "    </tr>\n",
       "    <tr>\n",
       "      <th>...</th>\n",
       "      <td>...</td>\n",
       "      <td>...</td>\n",
       "      <td>...</td>\n",
       "      <td>...</td>\n",
       "      <td>...</td>\n",
       "      <td>...</td>\n",
       "      <td>...</td>\n",
       "      <td>...</td>\n",
       "      <td>...</td>\n",
       "      <td>...</td>\n",
       "      <td>...</td>\n",
       "    </tr>\n",
       "    <tr>\n",
       "      <th>16421</th>\n",
       "      <td>743</td>\n",
       "      <td>339682.13</td>\n",
       "      <td>339682.13</td>\n",
       "      <td>0.00</td>\n",
       "      <td>0.00</td>\n",
       "      <td>339682.13</td>\n",
       "      <td>1</td>\n",
       "      <td>1</td>\n",
       "      <td>0</td>\n",
       "      <td>0</td>\n",
       "      <td>0</td>\n",
       "    </tr>\n",
       "    <tr>\n",
       "      <th>16422</th>\n",
       "      <td>743</td>\n",
       "      <td>6311409.28</td>\n",
       "      <td>6311409.28</td>\n",
       "      <td>0.00</td>\n",
       "      <td>0.00</td>\n",
       "      <td>0.00</td>\n",
       "      <td>1</td>\n",
       "      <td>0</td>\n",
       "      <td>0</td>\n",
       "      <td>0</td>\n",
       "      <td>1</td>\n",
       "    </tr>\n",
       "    <tr>\n",
       "      <th>16423</th>\n",
       "      <td>743</td>\n",
       "      <td>6311409.28</td>\n",
       "      <td>6311409.28</td>\n",
       "      <td>0.00</td>\n",
       "      <td>68488.84</td>\n",
       "      <td>6379898.11</td>\n",
       "      <td>1</td>\n",
       "      <td>1</td>\n",
       "      <td>0</td>\n",
       "      <td>0</td>\n",
       "      <td>0</td>\n",
       "    </tr>\n",
       "    <tr>\n",
       "      <th>16424</th>\n",
       "      <td>743</td>\n",
       "      <td>850002.52</td>\n",
       "      <td>850002.52</td>\n",
       "      <td>0.00</td>\n",
       "      <td>0.00</td>\n",
       "      <td>0.00</td>\n",
       "      <td>1</td>\n",
       "      <td>0</td>\n",
       "      <td>0</td>\n",
       "      <td>0</td>\n",
       "      <td>1</td>\n",
       "    </tr>\n",
       "    <tr>\n",
       "      <th>16425</th>\n",
       "      <td>743</td>\n",
       "      <td>850002.52</td>\n",
       "      <td>850002.52</td>\n",
       "      <td>0.00</td>\n",
       "      <td>6510099.11</td>\n",
       "      <td>7360101.63</td>\n",
       "      <td>1</td>\n",
       "      <td>1</td>\n",
       "      <td>0</td>\n",
       "      <td>0</td>\n",
       "      <td>0</td>\n",
       "    </tr>\n",
       "  </tbody>\n",
       "</table>\n",
       "<p>16426 rows × 11 columns</p>\n",
       "</div>"
      ],
      "text/plain": [
       "       step      amount  oldbalanceOrg  newbalanceOrig  oldbalanceDest  \\\n",
       "0         1     9839.64      170136.00       160296.36            0.00   \n",
       "1         1     1864.28       21249.00        19384.72            0.00   \n",
       "2         1    11668.14       41554.00        29885.86            0.00   \n",
       "3         1     7817.71       53860.00        46042.29            0.00   \n",
       "4         1     7107.77      183195.00       176087.23            0.00   \n",
       "...     ...         ...            ...             ...             ...   \n",
       "16421   743   339682.13      339682.13            0.00            0.00   \n",
       "16422   743  6311409.28     6311409.28            0.00            0.00   \n",
       "16423   743  6311409.28     6311409.28            0.00        68488.84   \n",
       "16424   743   850002.52      850002.52            0.00            0.00   \n",
       "16425   743   850002.52      850002.52            0.00      6510099.11   \n",
       "\n",
       "       newbalanceDest  isFraud  type_CASH_OUT  type_DEBIT  type_PAYMENT  \\\n",
       "0                0.00        0              0           0             1   \n",
       "1                0.00        0              0           0             1   \n",
       "2                0.00        0              0           0             1   \n",
       "3                0.00        0              0           0             1   \n",
       "4                0.00        0              0           0             1   \n",
       "...               ...      ...            ...         ...           ...   \n",
       "16421       339682.13        1              1           0             0   \n",
       "16422            0.00        1              0           0             0   \n",
       "16423      6379898.11        1              1           0             0   \n",
       "16424            0.00        1              0           0             0   \n",
       "16425      7360101.63        1              1           0             0   \n",
       "\n",
       "       type_TRANSFER  \n",
       "0                  0  \n",
       "1                  0  \n",
       "2                  0  \n",
       "3                  0  \n",
       "4                  0  \n",
       "...              ...  \n",
       "16421              0  \n",
       "16422              1  \n",
       "16423              0  \n",
       "16424              1  \n",
       "16425              0  \n",
       "\n",
       "[16426 rows x 11 columns]"
      ]
     },
     "execution_count": 5,
     "metadata": {},
     "output_type": "execute_result"
    }
   ],
   "source": [
    "clientInformation = clientInformation.drop(\"isFlaggedFraud\", axis = 1);\n",
    "\n",
    "clientInformation\n"
   ]
  },
  {
   "cell_type": "code",
   "execution_count": 6,
   "id": "91cba69f",
   "metadata": {},
   "outputs": [
    {
     "data": {
      "text/html": [
       "<div>\n",
       "<style scoped>\n",
       "    .dataframe tbody tr th:only-of-type {\n",
       "        vertical-align: middle;\n",
       "    }\n",
       "\n",
       "    .dataframe tbody tr th {\n",
       "        vertical-align: top;\n",
       "    }\n",
       "\n",
       "    .dataframe thead th {\n",
       "        text-align: right;\n",
       "    }\n",
       "</style>\n",
       "<table border=\"1\" class=\"dataframe\">\n",
       "  <thead>\n",
       "    <tr style=\"text-align: right;\">\n",
       "      <th></th>\n",
       "      <th>step</th>\n",
       "      <th>amount</th>\n",
       "      <th>oldbalanceOrg</th>\n",
       "      <th>newbalanceOrig</th>\n",
       "      <th>oldbalanceDest</th>\n",
       "      <th>newbalanceDest</th>\n",
       "      <th>type_CASH_OUT</th>\n",
       "      <th>type_DEBIT</th>\n",
       "      <th>type_PAYMENT</th>\n",
       "      <th>type_TRANSFER</th>\n",
       "    </tr>\n",
       "  </thead>\n",
       "  <tbody>\n",
       "    <tr>\n",
       "      <th>0</th>\n",
       "      <td>1</td>\n",
       "      <td>9839.64</td>\n",
       "      <td>170136.00</td>\n",
       "      <td>160296.36</td>\n",
       "      <td>0.00</td>\n",
       "      <td>0.00</td>\n",
       "      <td>0</td>\n",
       "      <td>0</td>\n",
       "      <td>1</td>\n",
       "      <td>0</td>\n",
       "    </tr>\n",
       "    <tr>\n",
       "      <th>1</th>\n",
       "      <td>1</td>\n",
       "      <td>1864.28</td>\n",
       "      <td>21249.00</td>\n",
       "      <td>19384.72</td>\n",
       "      <td>0.00</td>\n",
       "      <td>0.00</td>\n",
       "      <td>0</td>\n",
       "      <td>0</td>\n",
       "      <td>1</td>\n",
       "      <td>0</td>\n",
       "    </tr>\n",
       "    <tr>\n",
       "      <th>2</th>\n",
       "      <td>1</td>\n",
       "      <td>11668.14</td>\n",
       "      <td>41554.00</td>\n",
       "      <td>29885.86</td>\n",
       "      <td>0.00</td>\n",
       "      <td>0.00</td>\n",
       "      <td>0</td>\n",
       "      <td>0</td>\n",
       "      <td>1</td>\n",
       "      <td>0</td>\n",
       "    </tr>\n",
       "    <tr>\n",
       "      <th>3</th>\n",
       "      <td>1</td>\n",
       "      <td>7817.71</td>\n",
       "      <td>53860.00</td>\n",
       "      <td>46042.29</td>\n",
       "      <td>0.00</td>\n",
       "      <td>0.00</td>\n",
       "      <td>0</td>\n",
       "      <td>0</td>\n",
       "      <td>1</td>\n",
       "      <td>0</td>\n",
       "    </tr>\n",
       "    <tr>\n",
       "      <th>4</th>\n",
       "      <td>1</td>\n",
       "      <td>7107.77</td>\n",
       "      <td>183195.00</td>\n",
       "      <td>176087.23</td>\n",
       "      <td>0.00</td>\n",
       "      <td>0.00</td>\n",
       "      <td>0</td>\n",
       "      <td>0</td>\n",
       "      <td>1</td>\n",
       "      <td>0</td>\n",
       "    </tr>\n",
       "    <tr>\n",
       "      <th>...</th>\n",
       "      <td>...</td>\n",
       "      <td>...</td>\n",
       "      <td>...</td>\n",
       "      <td>...</td>\n",
       "      <td>...</td>\n",
       "      <td>...</td>\n",
       "      <td>...</td>\n",
       "      <td>...</td>\n",
       "      <td>...</td>\n",
       "      <td>...</td>\n",
       "    </tr>\n",
       "    <tr>\n",
       "      <th>16421</th>\n",
       "      <td>743</td>\n",
       "      <td>339682.13</td>\n",
       "      <td>339682.13</td>\n",
       "      <td>0.00</td>\n",
       "      <td>0.00</td>\n",
       "      <td>339682.13</td>\n",
       "      <td>1</td>\n",
       "      <td>0</td>\n",
       "      <td>0</td>\n",
       "      <td>0</td>\n",
       "    </tr>\n",
       "    <tr>\n",
       "      <th>16422</th>\n",
       "      <td>743</td>\n",
       "      <td>6311409.28</td>\n",
       "      <td>6311409.28</td>\n",
       "      <td>0.00</td>\n",
       "      <td>0.00</td>\n",
       "      <td>0.00</td>\n",
       "      <td>0</td>\n",
       "      <td>0</td>\n",
       "      <td>0</td>\n",
       "      <td>1</td>\n",
       "    </tr>\n",
       "    <tr>\n",
       "      <th>16423</th>\n",
       "      <td>743</td>\n",
       "      <td>6311409.28</td>\n",
       "      <td>6311409.28</td>\n",
       "      <td>0.00</td>\n",
       "      <td>68488.84</td>\n",
       "      <td>6379898.11</td>\n",
       "      <td>1</td>\n",
       "      <td>0</td>\n",
       "      <td>0</td>\n",
       "      <td>0</td>\n",
       "    </tr>\n",
       "    <tr>\n",
       "      <th>16424</th>\n",
       "      <td>743</td>\n",
       "      <td>850002.52</td>\n",
       "      <td>850002.52</td>\n",
       "      <td>0.00</td>\n",
       "      <td>0.00</td>\n",
       "      <td>0.00</td>\n",
       "      <td>0</td>\n",
       "      <td>0</td>\n",
       "      <td>0</td>\n",
       "      <td>1</td>\n",
       "    </tr>\n",
       "    <tr>\n",
       "      <th>16425</th>\n",
       "      <td>743</td>\n",
       "      <td>850002.52</td>\n",
       "      <td>850002.52</td>\n",
       "      <td>0.00</td>\n",
       "      <td>6510099.11</td>\n",
       "      <td>7360101.63</td>\n",
       "      <td>1</td>\n",
       "      <td>0</td>\n",
       "      <td>0</td>\n",
       "      <td>0</td>\n",
       "    </tr>\n",
       "  </tbody>\n",
       "</table>\n",
       "<p>16426 rows × 10 columns</p>\n",
       "</div>"
      ],
      "text/plain": [
       "       step      amount  oldbalanceOrg  newbalanceOrig  oldbalanceDest  \\\n",
       "0         1     9839.64      170136.00       160296.36            0.00   \n",
       "1         1     1864.28       21249.00        19384.72            0.00   \n",
       "2         1    11668.14       41554.00        29885.86            0.00   \n",
       "3         1     7817.71       53860.00        46042.29            0.00   \n",
       "4         1     7107.77      183195.00       176087.23            0.00   \n",
       "...     ...         ...            ...             ...             ...   \n",
       "16421   743   339682.13      339682.13            0.00            0.00   \n",
       "16422   743  6311409.28     6311409.28            0.00            0.00   \n",
       "16423   743  6311409.28     6311409.28            0.00        68488.84   \n",
       "16424   743   850002.52      850002.52            0.00            0.00   \n",
       "16425   743   850002.52      850002.52            0.00      6510099.11   \n",
       "\n",
       "       newbalanceDest  type_CASH_OUT  type_DEBIT  type_PAYMENT  type_TRANSFER  \n",
       "0                0.00              0           0             1              0  \n",
       "1                0.00              0           0             1              0  \n",
       "2                0.00              0           0             1              0  \n",
       "3                0.00              0           0             1              0  \n",
       "4                0.00              0           0             1              0  \n",
       "...               ...            ...         ...           ...            ...  \n",
       "16421       339682.13              1           0             0              0  \n",
       "16422            0.00              0           0             0              1  \n",
       "16423      6379898.11              1           0             0              0  \n",
       "16424            0.00              0           0             0              1  \n",
       "16425      7360101.63              1           0             0              0  \n",
       "\n",
       "[16426 rows x 10 columns]"
      ]
     },
     "execution_count": 6,
     "metadata": {},
     "output_type": "execute_result"
    }
   ],
   "source": [
    "independentVariable = clientInformation[[\"step\", \"amount\", \"oldbalanceOrg\", \"newbalanceOrig\", \"oldbalanceDest\", \"newbalanceDest\", \"type_CASH_OUT\", \"type_DEBIT\", \"type_PAYMENT\", \"type_TRANSFER\"]];\n",
    "\n",
    "independentVariable"
   ]
  },
  {
   "cell_type": "code",
   "execution_count": 7,
   "id": "2c2a4d7e",
   "metadata": {},
   "outputs": [
    {
     "data": {
      "text/html": [
       "<div>\n",
       "<style scoped>\n",
       "    .dataframe tbody tr th:only-of-type {\n",
       "        vertical-align: middle;\n",
       "    }\n",
       "\n",
       "    .dataframe tbody tr th {\n",
       "        vertical-align: top;\n",
       "    }\n",
       "\n",
       "    .dataframe thead th {\n",
       "        text-align: right;\n",
       "    }\n",
       "</style>\n",
       "<table border=\"1\" class=\"dataframe\">\n",
       "  <thead>\n",
       "    <tr style=\"text-align: right;\">\n",
       "      <th></th>\n",
       "      <th>isFraud</th>\n",
       "    </tr>\n",
       "  </thead>\n",
       "  <tbody>\n",
       "    <tr>\n",
       "      <th>0</th>\n",
       "      <td>0</td>\n",
       "    </tr>\n",
       "    <tr>\n",
       "      <th>1</th>\n",
       "      <td>0</td>\n",
       "    </tr>\n",
       "    <tr>\n",
       "      <th>2</th>\n",
       "      <td>0</td>\n",
       "    </tr>\n",
       "    <tr>\n",
       "      <th>3</th>\n",
       "      <td>0</td>\n",
       "    </tr>\n",
       "    <tr>\n",
       "      <th>4</th>\n",
       "      <td>0</td>\n",
       "    </tr>\n",
       "    <tr>\n",
       "      <th>...</th>\n",
       "      <td>...</td>\n",
       "    </tr>\n",
       "    <tr>\n",
       "      <th>16421</th>\n",
       "      <td>1</td>\n",
       "    </tr>\n",
       "    <tr>\n",
       "      <th>16422</th>\n",
       "      <td>1</td>\n",
       "    </tr>\n",
       "    <tr>\n",
       "      <th>16423</th>\n",
       "      <td>1</td>\n",
       "    </tr>\n",
       "    <tr>\n",
       "      <th>16424</th>\n",
       "      <td>1</td>\n",
       "    </tr>\n",
       "    <tr>\n",
       "      <th>16425</th>\n",
       "      <td>1</td>\n",
       "    </tr>\n",
       "  </tbody>\n",
       "</table>\n",
       "<p>16426 rows × 1 columns</p>\n",
       "</div>"
      ],
      "text/plain": [
       "       isFraud\n",
       "0            0\n",
       "1            0\n",
       "2            0\n",
       "3            0\n",
       "4            0\n",
       "...        ...\n",
       "16421        1\n",
       "16422        1\n",
       "16423        1\n",
       "16424        1\n",
       "16425        1\n",
       "\n",
       "[16426 rows x 1 columns]"
      ]
     },
     "execution_count": 7,
     "metadata": {},
     "output_type": "execute_result"
    }
   ],
   "source": [
    "dependentVariable = clientInformation[[\"isFraud\"]];\n",
    "\n",
    "dependentVariable"
   ]
  },
  {
   "cell_type": "code",
   "execution_count": 8,
   "id": "a350488a",
   "metadata": {},
   "outputs": [],
   "source": [
    "from sklearn.model_selection import train_test_split;\n",
    "\n",
    "x_train, x_test, y_train, y_test = train_test_split(independentVariable, dependentVariable, test_size = 1/3, random_state = 2);"
   ]
  },
  {
   "cell_type": "code",
   "execution_count": null,
   "id": "9c5d70e0",
   "metadata": {},
   "outputs": [],
   "source": [
    "x_train"
   ]
  },
  {
   "cell_type": "code",
   "execution_count": null,
   "id": "b78859f7",
   "metadata": {},
   "outputs": [],
   "source": [
    "y_train"
   ]
  },
  {
   "cell_type": "code",
   "execution_count": null,
   "id": "c35396b9",
   "metadata": {},
   "outputs": [],
   "source": [
    "x_test"
   ]
  },
  {
   "cell_type": "code",
   "execution_count": null,
   "id": "1154e1b1",
   "metadata": {},
   "outputs": [],
   "source": [
    "y_test"
   ]
  },
  {
   "cell_type": "code",
   "execution_count": 9,
   "id": "8bc3a72d",
   "metadata": {},
   "outputs": [],
   "source": [
    "from sklearn.preprocessing import StandardScaler;\n",
    "\n",
    "standardization = StandardScaler();\n",
    "\n",
    "x_train = standardization.fit_transform(x_train);\n",
    "\n",
    "x_test = standardization.transform(x_test);\n"
   ]
  },
  {
   "cell_type": "code",
   "execution_count": 10,
   "id": "136a23ac",
   "metadata": {},
   "outputs": [
    {
     "name": "stdout",
     "output_type": "stream",
     "text": [
      "Fitting 5 folds for each of 30 candidates, totalling 150 fits\n"
     ]
    },
    {
     "name": "stderr",
     "output_type": "stream",
     "text": [
      "C:\\Users\\hp\\Anaconda3\\envs\\virtualml\\lib\\site-packages\\sklearn\\model_selection\\_search.py:926: DataConversionWarning: A column-vector y was passed when a 1d array was expected. Please change the shape of y to (n_samples,), for example using ravel().\n",
      "  self.best_estimator_.fit(X, y, **fit_params)\n"
     ]
    }
   ],
   "source": [
    "from sklearn.ensemble import RandomForestClassifier;\n",
    "\n",
    "from sklearn.model_selection import GridSearchCV;\n",
    "\n",
    "param_grid = {'criterion':['gini','entropy'],\n",
    "              'max_features': ['auto','sqrt','log2'], \n",
    "              'n_estimators':[10, 20, 50, 80, 100]} \n",
    "\n",
    "grid = GridSearchCV(RandomForestClassifier(), param_grid, refit = True, verbose = 3, n_jobs=-1, scoring='f1') \n",
    "\n",
    "\n",
    "grid.fit(x_train, y_train);\n"
   ]
  },
  {
   "cell_type": "code",
   "execution_count": 11,
   "id": "7f71473d",
   "metadata": {},
   "outputs": [],
   "source": [
    "y_pred = grid.predict(x_test);"
   ]
  },
  {
   "cell_type": "markdown",
   "id": "61ec6954",
   "metadata": {},
   "source": [
    "# Metric(Confusion Matrix)\n",
    "## The best performance is 1"
   ]
  },
  {
   "cell_type": "code",
   "execution_count": 12,
   "id": "69c9594b",
   "metadata": {},
   "outputs": [
    {
     "name": "stdout",
     "output_type": "stream",
     "text": [
      "[[2722    0]\n",
      " [   3 2751]]\n"
     ]
    }
   ],
   "source": [
    "from sklearn.metrics import confusion_matrix;\n",
    "\n",
    "randamForestConfusionMatrix = confusion_matrix(y_test, y_pred);\n",
    "\n",
    "print(randamForestConfusionMatrix);\n"
   ]
  },
  {
   "cell_type": "code",
   "execution_count": 13,
   "id": "202da5bb",
   "metadata": {},
   "outputs": [
    {
     "name": "stdout",
     "output_type": "stream",
     "text": [
      "              precision    recall  f1-score   support\n",
      "\n",
      "           0       1.00      1.00      1.00      2722\n",
      "           1       1.00      1.00      1.00      2754\n",
      "\n",
      "    accuracy                           1.00      5476\n",
      "   macro avg       1.00      1.00      1.00      5476\n",
      "weighted avg       1.00      1.00      1.00      5476\n",
      "\n"
     ]
    }
   ],
   "source": [
    "from sklearn.metrics import classification_report;\n",
    "\n",
    "randamForestClassifierReport = classification_report(y_test, y_pred);\n",
    "\n",
    "print(randamForestClassifierReport);"
   ]
  },
  {
   "cell_type": "markdown",
   "id": "687fd655",
   "metadata": {},
   "source": [
    "# 1. Metric(Accuracy Score)\n",
    "## The best performance is 1"
   ]
  },
  {
   "cell_type": "code",
   "execution_count": 14,
   "id": "a6b9705a",
   "metadata": {},
   "outputs": [
    {
     "name": "stdout",
     "output_type": "stream",
     "text": [
      "0.9994521548575602\n"
     ]
    }
   ],
   "source": [
    "from sklearn.metrics import accuracy_score;\n",
    "\n",
    "RandomForestClassifierAccuracy = accuracy_score(y_test, y_pred);\n",
    "\n",
    "print(RandomForestClassifierAccuracy)"
   ]
  },
  {
   "cell_type": "markdown",
   "id": "b270ebbf",
   "metadata": {},
   "source": [
    "# 2. Metric(Balanced Accuracy)\n",
    "## The best value is 1 and the worst value is 0"
   ]
  },
  {
   "cell_type": "code",
   "execution_count": 15,
   "id": "20bc41c3",
   "metadata": {},
   "outputs": [
    {
     "name": "stdout",
     "output_type": "stream",
     "text": [
      "0.9994553376906319\n"
     ]
    }
   ],
   "source": [
    "from sklearn.metrics import balanced_accuracy_score;\n",
    "\n",
    "RandomForestClassifierBalanced = balanced_accuracy_score(y_test, y_pred);\n",
    "\n",
    "print(RandomForestClassifierBalanced);"
   ]
  },
  {
   "cell_type": "markdown",
   "id": "0056cca7",
   "metadata": {},
   "source": [
    "# 3. Metric(Top K-Accuracy Score)\n",
    "## The top-k accuracy score. The best performance is 1"
   ]
  },
  {
   "cell_type": "code",
   "execution_count": 16,
   "id": "148020ba",
   "metadata": {},
   "outputs": [
    {
     "name": "stdout",
     "output_type": "stream",
     "text": [
      "1.0\n"
     ]
    },
    {
     "name": "stderr",
     "output_type": "stream",
     "text": [
      "C:\\Users\\hp\\Anaconda3\\envs\\virtualml\\lib\\site-packages\\sklearn\\metrics\\_ranking.py:1751: UndefinedMetricWarning: 'k' (2) greater than or equal to 'n_classes' (2) will result in a perfect score and is therefore meaningless.\n",
      "  UndefinedMetricWarning,\n"
     ]
    }
   ],
   "source": [
    "from sklearn.metrics import top_k_accuracy_score;\n",
    "\n",
    "RandomForestClassiferTopK = top_k_accuracy_score(y_test, y_pred);\n",
    "\n",
    "print(RandomForestClassiferTopK);"
   ]
  },
  {
   "cell_type": "markdown",
   "id": "29d979a9",
   "metadata": {},
   "source": [
    "# 4. Metric(Average Precision Score)\n",
    "## The best value is 1 and the worst value is 0"
   ]
  },
  {
   "cell_type": "code",
   "execution_count": 17,
   "id": "60f973a7",
   "metadata": {},
   "outputs": [
    {
     "name": "stdout",
     "output_type": "stream",
     "text": [
      "0.9994585205237033\n"
     ]
    }
   ],
   "source": [
    "from sklearn.metrics import average_precision_score;\n",
    "\n",
    "RandomForestClassifierPrecision = average_precision_score(y_test, y_pred);\n",
    "\n",
    "print(RandomForestClassifierPrecision);"
   ]
  },
  {
   "cell_type": "markdown",
   "id": "1d53f7a4",
   "metadata": {},
   "source": [
    "# 5. Metric(Brier Score Loss)\n",
    "## The best value is 1 and the worst value is 0"
   ]
  },
  {
   "cell_type": "code",
   "execution_count": 18,
   "id": "f25528a9",
   "metadata": {},
   "outputs": [
    {
     "name": "stdout",
     "output_type": "stream",
     "text": [
      "0.000547845142439737\n"
     ]
    }
   ],
   "source": [
    "from sklearn.metrics import brier_score_loss;\n",
    "\n",
    "randomForestClassiferBrier = brier_score_loss(y_test, y_pred);\n",
    "\n",
    "print(randomForestClassiferBrier);"
   ]
  },
  {
   "cell_type": "markdown",
   "id": "a0e24a8f",
   "metadata": {},
   "source": [
    "# 6. Metric(F1 Score)\n",
    "## The best value is 1 and the worst value is 0"
   ]
  },
  {
   "cell_type": "code",
   "execution_count": 19,
   "id": "9c2708a8",
   "metadata": {},
   "outputs": [
    {
     "name": "stdout",
     "output_type": "stream",
     "text": [
      "0.9994550408719346\n"
     ]
    }
   ],
   "source": [
    "from sklearn.metrics import f1_score;\n",
    "\n",
    "randomForestClassifierF1score = f1_score(y_test, y_pred);\n",
    "\n",
    "print(randomForestClassifierF1score);"
   ]
  },
  {
   "cell_type": "markdown",
   "id": "34a0f223",
   "metadata": {},
   "source": [
    "# 7. Metric(F1 Score - Macro)\n",
    "## The best value is 1 and the worst value is 0"
   ]
  },
  {
   "cell_type": "code",
   "execution_count": 20,
   "id": "e24395eb",
   "metadata": {},
   "outputs": [
    {
     "name": "stdout",
     "output_type": "stream",
     "text": [
      "0.9994521394923286\n"
     ]
    }
   ],
   "source": [
    "from sklearn.metrics import f1_score;\n",
    "\n",
    "randomForestClassifierF1Macro = f1_score(y_test, y_pred, average='macro');\n",
    "\n",
    "print(randomForestClassifierF1Macro);"
   ]
  },
  {
   "cell_type": "markdown",
   "id": "128a7bd4",
   "metadata": {},
   "source": [
    "# 8. Metric(F1 Score - Micro)\n",
    "## The best value is 1 and the worst value is 0"
   ]
  },
  {
   "cell_type": "code",
   "execution_count": 21,
   "id": "a6780498",
   "metadata": {},
   "outputs": [
    {
     "name": "stdout",
     "output_type": "stream",
     "text": [
      "0.9994521548575602\n"
     ]
    }
   ],
   "source": [
    "from sklearn.metrics import f1_score;\n",
    "\n",
    "randomForestClassifierF1Micro = f1_score(y_test, y_pred, average='micro');\n",
    "\n",
    "print(randomForestClassifierF1Micro);"
   ]
  },
  {
   "cell_type": "markdown",
   "id": "b42350e5",
   "metadata": {},
   "source": [
    "# 9. Metric(F1 Score - Weighted)\n",
    "## The best value is 1 and the worst value is 0"
   ]
  },
  {
   "cell_type": "code",
   "execution_count": 22,
   "id": "c8aafe02",
   "metadata": {},
   "outputs": [
    {
     "name": "stdout",
     "output_type": "stream",
     "text": [
      "0.999452156447067\n"
     ]
    }
   ],
   "source": [
    "from sklearn.metrics import f1_score;\n",
    "\n",
    "randomForestClassifierF1Weighted = f1_score(y_test, y_pred, average='weighted');\n",
    "\n",
    "print(randomForestClassifierF1Weighted);"
   ]
  },
  {
   "cell_type": "markdown",
   "id": "ba089167",
   "metadata": {},
   "source": [
    "# 10. Metric(F1 Score - Samples)\n",
    "## The best value is 1 and the worst value is 0"
   ]
  },
  {
   "cell_type": "code",
   "execution_count": 23,
   "id": "0064c068",
   "metadata": {},
   "outputs": [
    {
     "name": "stdout",
     "output_type": "stream",
     "text": [
      "[0.99944924 0.99945504]\n"
     ]
    }
   ],
   "source": [
    "from sklearn.metrics import f1_score;\n",
    "\n",
    "randomForestClassifierF1Samples = f1_score(y_test, y_pred, average= None);\n",
    "\n",
    "print(randomForestClassifierF1Samples);"
   ]
  },
  {
   "cell_type": "markdown",
   "id": "17eb2303",
   "metadata": {},
   "source": [
    "# 11. Metric(Log_Loss)\n",
    "## The best value is 1 and the worst value is 0"
   ]
  },
  {
   "cell_type": "code",
   "execution_count": 24,
   "id": "a55b8ead",
   "metadata": {},
   "outputs": [
    {
     "name": "stdout",
     "output_type": "stream",
     "text": [
      "0.018921900873765066\n"
     ]
    }
   ],
   "source": [
    "from sklearn.metrics import log_loss;\n",
    "\n",
    "randomForestClassifierLogLoss = log_loss(y_test, y_pred);\n",
    "\n",
    "print(randomForestClassifierLogLoss);"
   ]
  },
  {
   "cell_type": "markdown",
   "id": "646ea03a",
   "metadata": {},
   "source": [
    "# 12. Metric(Precision Score)\n",
    "## The best value is 1 and the worst value is 0"
   ]
  },
  {
   "cell_type": "code",
   "execution_count": 25,
   "id": "c35ccf87",
   "metadata": {},
   "outputs": [
    {
     "name": "stdout",
     "output_type": "stream",
     "text": [
      "1.0\n"
     ]
    }
   ],
   "source": [
    "from sklearn.metrics import precision_score;\n",
    "\n",
    "randomForestClassifierPrecisionScore = precision_score(y_test, y_pred);\n",
    "\n",
    "print(randomForestClassifierPrecisionScore);"
   ]
  },
  {
   "cell_type": "markdown",
   "id": "665f4682",
   "metadata": {},
   "source": [
    "# 13. Metric(Precision Score - Macro)\n",
    "## The best value is 1 and the worst value is 0"
   ]
  },
  {
   "cell_type": "code",
   "execution_count": 26,
   "id": "73952390",
   "metadata": {},
   "outputs": [
    {
     "name": "stdout",
     "output_type": "stream",
     "text": [
      "0.9994495412844037\n"
     ]
    }
   ],
   "source": [
    "from sklearn.metrics import precision_score;\n",
    "\n",
    "randomForestClassifierPrecisionScoreMacro = precision_score(y_test, y_pred, average='macro');\n",
    "\n",
    "print(randomForestClassifierPrecisionScoreMacro);"
   ]
  },
  {
   "cell_type": "markdown",
   "id": "e175ed89",
   "metadata": {},
   "source": [
    "# 14. Metric(Precision Score - Micro)\n",
    "## The best value is 1 and the worst value is 0"
   ]
  },
  {
   "cell_type": "code",
   "execution_count": 27,
   "id": "2c0e8677",
   "metadata": {},
   "outputs": [
    {
     "name": "stdout",
     "output_type": "stream",
     "text": [
      "0.9994521548575602\n"
     ]
    }
   ],
   "source": [
    "from sklearn.metrics import precision_score;\n",
    "\n",
    "randomForestClassifierPrecisionScoreMicro = precision_score(y_test, y_pred, average='micro');\n",
    "\n",
    "print(randomForestClassifierPrecisionScoreMicro);"
   ]
  },
  {
   "cell_type": "markdown",
   "id": "6fa71c6b",
   "metadata": {},
   "source": [
    "# 15. Metric(Precision Score - Weighted)\n",
    "## The best value is 1 and the worst value is 0"
   ]
  },
  {
   "cell_type": "code",
   "execution_count": 28,
   "id": "f61d1473",
   "metadata": {},
   "outputs": [
    {
     "name": "stdout",
     "output_type": "stream",
     "text": [
      "0.9994527579898271\n"
     ]
    }
   ],
   "source": [
    "from sklearn.metrics import precision_score;\n",
    "\n",
    "randomForestClassifierPrecisionScoreWeighted = precision_score(y_test, y_pred, average='weighted');\n",
    "\n",
    "print(randomForestClassifierPrecisionScoreWeighted);"
   ]
  },
  {
   "cell_type": "markdown",
   "id": "a5d31543",
   "metadata": {},
   "source": [
    "# 16. Metric(Precision Score - None)\n",
    "## The best value is 1 and the worst value is 0"
   ]
  },
  {
   "cell_type": "code",
   "execution_count": 29,
   "id": "14169414",
   "metadata": {},
   "outputs": [
    {
     "name": "stdout",
     "output_type": "stream",
     "text": [
      "[0.99889908 1.        ]\n"
     ]
    }
   ],
   "source": [
    "from sklearn.metrics import precision_score;\n",
    "\n",
    "randomForestClassifierPrecisionScoreNone = precision_score(y_test, y_pred, average=None);\n",
    "\n",
    "print(randomForestClassifierPrecisionScoreNone);"
   ]
  },
  {
   "cell_type": "markdown",
   "id": "bbb9cadd",
   "metadata": {},
   "source": [
    "# 17. Metric(Recall)\n",
    "## The best value is 1 and the worst value is 0"
   ]
  },
  {
   "cell_type": "code",
   "execution_count": 30,
   "id": "0c7e3c9e",
   "metadata": {},
   "outputs": [
    {
     "name": "stdout",
     "output_type": "stream",
     "text": [
      "0.9989106753812637\n"
     ]
    }
   ],
   "source": [
    "from sklearn.metrics import recall_score;\n",
    "\n",
    "randomForestClassifierRecall = recall_score(y_test, y_pred);\n",
    "\n",
    "print(randomForestClassifierRecall);"
   ]
  },
  {
   "cell_type": "markdown",
   "id": "7d2274e6",
   "metadata": {},
   "source": [
    "# 18. Metric(Recall - Macro)\n",
    "## The best value is 1 and the worst value is 0"
   ]
  },
  {
   "cell_type": "code",
   "execution_count": 31,
   "id": "cd6a28d6",
   "metadata": {},
   "outputs": [
    {
     "name": "stdout",
     "output_type": "stream",
     "text": [
      "0.9994553376906319\n"
     ]
    }
   ],
   "source": [
    "from sklearn.metrics import recall_score;\n",
    "\n",
    "randomForestClassifierRecallMacro = recall_score(y_test, y_pred, average='macro');\n",
    "\n",
    "print(randomForestClassifierRecallMacro);"
   ]
  },
  {
   "cell_type": "markdown",
   "id": "46715f08",
   "metadata": {},
   "source": [
    "# 19. Metric(Recall - Micro)\n",
    "## The best value is 1 and the worst value is 0"
   ]
  },
  {
   "cell_type": "code",
   "execution_count": 32,
   "id": "db452f80",
   "metadata": {},
   "outputs": [
    {
     "name": "stdout",
     "output_type": "stream",
     "text": [
      "0.9994521548575602\n"
     ]
    }
   ],
   "source": [
    "from sklearn.metrics import recall_score;\n",
    "\n",
    "randomForestClassifierRecallMicro = recall_score(y_test, y_pred, average='micro');\n",
    "\n",
    "print(randomForestClassifierRecallMicro);"
   ]
  },
  {
   "cell_type": "markdown",
   "id": "e0078b59",
   "metadata": {},
   "source": [
    "# 20. Metric(Recall - Weighted)\n",
    "## The best value is 1 and the worst value is 0"
   ]
  },
  {
   "cell_type": "code",
   "execution_count": 33,
   "id": "5082d493",
   "metadata": {},
   "outputs": [
    {
     "name": "stdout",
     "output_type": "stream",
     "text": [
      "0.9994521548575602\n"
     ]
    }
   ],
   "source": [
    "from sklearn.metrics import recall_score;\n",
    "\n",
    "randomForestClassifierRecallWeighted = recall_score(y_test, y_pred, average='weighted');\n",
    "\n",
    "print(randomForestClassifierRecallWeighted);"
   ]
  },
  {
   "cell_type": "markdown",
   "id": "438aa188",
   "metadata": {},
   "source": [
    "# 21. Metric(Recall - None)\n",
    "## The best value is 1 and the worst value is 0"
   ]
  },
  {
   "cell_type": "code",
   "execution_count": 34,
   "id": "80199245",
   "metadata": {},
   "outputs": [
    {
     "name": "stdout",
     "output_type": "stream",
     "text": [
      "[1.         0.99891068]\n"
     ]
    }
   ],
   "source": [
    "from sklearn.metrics import recall_score;\n",
    "\n",
    "randomForestClassifierRecallNone = recall_score(y_test, y_pred, average=None, zero_division=1);\n",
    "\n",
    "print(randomForestClassifierRecallNone);"
   ]
  },
  {
   "cell_type": "markdown",
   "id": "53f255d4",
   "metadata": {},
   "source": [
    "# 22. Metric(Jaccard Score)\n",
    "## The best value is 1 and the worst value is 0"
   ]
  },
  {
   "cell_type": "code",
   "execution_count": 35,
   "id": "80578e1a",
   "metadata": {},
   "outputs": [
    {
     "name": "stdout",
     "output_type": "stream",
     "text": [
      "0.9989106753812637\n"
     ]
    }
   ],
   "source": [
    "from sklearn.metrics import jaccard_score;\n",
    "\n",
    "randomForestClassifierJaccard = jaccard_score(y_test, y_pred);\n",
    "\n",
    "print(randomForestClassifierJaccard);"
   ]
  },
  {
   "cell_type": "markdown",
   "id": "2f9d071f",
   "metadata": {},
   "source": [
    "# 23. Metric(Jaccard - None)\n",
    "## The best value is 1 and the worst value is 0"
   ]
  },
  {
   "cell_type": "code",
   "execution_count": 36,
   "id": "d21576c6",
   "metadata": {},
   "outputs": [
    {
     "name": "stdout",
     "output_type": "stream",
     "text": [
      "[0.99889908 0.99891068]\n"
     ]
    }
   ],
   "source": [
    "from sklearn.metrics import jaccard_score;\n",
    "\n",
    "randomForestClassifierJaccardNone = jaccard_score(y_test, y_pred, average=None);\n",
    "\n",
    "print(randomForestClassifierJaccardNone);"
   ]
  },
  {
   "cell_type": "markdown",
   "id": "363cad4a",
   "metadata": {},
   "source": [
    "# 24. Metric(Jaccard - Weighted)\n",
    "## The best value is 1 and the worst value is 0"
   ]
  },
  {
   "cell_type": "code",
   "execution_count": 37,
   "id": "f4479b3c",
   "metadata": {},
   "outputs": [
    {
     "name": "stdout",
     "output_type": "stream",
     "text": [
      "0.9989049128473874\n"
     ]
    }
   ],
   "source": [
    "from sklearn.metrics import jaccard_score;\n",
    "\n",
    "randomForestClassifierJaccardWeighted = jaccard_score(y_test, y_pred, average='weighted');\n",
    "\n",
    "print(randomForestClassifierJaccardWeighted);"
   ]
  },
  {
   "cell_type": "markdown",
   "id": "7938f35c",
   "metadata": {},
   "source": [
    "# 25. Metric(Jaccard - Micro)\n",
    "## The best value is 1 and the worst value is 0"
   ]
  },
  {
   "cell_type": "code",
   "execution_count": 38,
   "id": "57370d8c",
   "metadata": {},
   "outputs": [
    {
     "name": "stdout",
     "output_type": "stream",
     "text": [
      "0.9989049096550465\n"
     ]
    }
   ],
   "source": [
    "from sklearn.metrics import jaccard_score;\n",
    "\n",
    "randomForestClassifierJaccardMicro = jaccard_score(y_test, y_pred, average='micro');\n",
    "\n",
    "print(randomForestClassifierJaccardMicro);"
   ]
  },
  {
   "cell_type": "markdown",
   "id": "147c801f",
   "metadata": {},
   "source": [
    "# 26. Metric(Rac Auc Score)\n",
    "## The best value is 1 and the worst value is 0"
   ]
  },
  {
   "cell_type": "code",
   "execution_count": 39,
   "id": "ba8e3e43",
   "metadata": {},
   "outputs": [
    {
     "name": "stdout",
     "output_type": "stream",
     "text": [
      "0.9994553376906319\n"
     ]
    }
   ],
   "source": [
    "from sklearn.metrics import roc_auc_score;\n",
    "\n",
    "randomForestClassifierRoc = roc_auc_score(y_test, y_pred);\n",
    "\n",
    "print(randomForestClassifierRoc);"
   ]
  },
  {
   "cell_type": "markdown",
   "id": "3aba15d7",
   "metadata": {},
   "source": [
    "# 27. Metric(Rac Auc Score - None)\n",
    "## The best value is 1 and the worst value is 0"
   ]
  },
  {
   "cell_type": "code",
   "execution_count": 40,
   "id": "11e2bc5c",
   "metadata": {},
   "outputs": [
    {
     "name": "stdout",
     "output_type": "stream",
     "text": [
      "0.9994553376906319\n"
     ]
    }
   ],
   "source": [
    "from sklearn.metrics import roc_auc_score;\n",
    "\n",
    "randomForestClassifierRocNone = roc_auc_score(y_test, y_pred, average=None);\n",
    "\n",
    "print(randomForestClassifierRocNone);"
   ]
  },
  {
   "cell_type": "markdown",
   "id": "336aa1a6",
   "metadata": {},
   "source": [
    "# 28. Metric(Rac Auc Score - Macro)\n",
    "## The best value is 1 and the worst value is 0"
   ]
  },
  {
   "cell_type": "code",
   "execution_count": 41,
   "id": "4c4fcadb",
   "metadata": {},
   "outputs": [
    {
     "name": "stdout",
     "output_type": "stream",
     "text": [
      "0.9994553376906319\n"
     ]
    }
   ],
   "source": [
    "from sklearn.metrics import roc_auc_score;\n",
    "\n",
    "randomForestClassifierRocMacro = roc_auc_score(y_test, y_pred, average='macro');\n",
    "\n",
    "print(randomForestClassifierRocMacro);"
   ]
  },
  {
   "cell_type": "markdown",
   "id": "3206035f",
   "metadata": {},
   "source": [
    "# 29. Metric(Rac Auc Score - Micro)\n",
    "## The best value is 1 and the worst value is 0"
   ]
  },
  {
   "cell_type": "code",
   "execution_count": 42,
   "id": "998edbf8",
   "metadata": {},
   "outputs": [
    {
     "name": "stdout",
     "output_type": "stream",
     "text": [
      "0.9994553376906319\n"
     ]
    }
   ],
   "source": [
    "from sklearn.metrics import roc_auc_score;\n",
    "\n",
    "randomForestClassifierRocMicro = roc_auc_score(y_test, y_pred, average='micro');\n",
    "\n",
    "print(randomForestClassifierRocMicro);"
   ]
  },
  {
   "cell_type": "markdown",
   "id": "6769b387",
   "metadata": {},
   "source": [
    "# 30. Metric(Rac Auc Score - Weighted)\n",
    "## The best value is 1 and the worst value is 0"
   ]
  },
  {
   "cell_type": "code",
   "execution_count": 43,
   "id": "68d85313",
   "metadata": {},
   "outputs": [
    {
     "name": "stdout",
     "output_type": "stream",
     "text": [
      "0.9994553376906319\n"
     ]
    }
   ],
   "source": [
    "from sklearn.metrics import roc_auc_score;\n",
    "\n",
    "randomForestClassifierRocWeighted = roc_auc_score(y_test, y_pred, average='weighted');\n",
    "\n",
    "print(randomForestClassifierRocWeighted);"
   ]
  }
 ],
 "metadata": {
  "kernelspec": {
   "display_name": "Python 3 (ipykernel)",
   "language": "python",
   "name": "python3"
  },
  "language_info": {
   "codemirror_mode": {
    "name": "ipython",
    "version": 3
   },
   "file_extension": ".py",
   "mimetype": "text/x-python",
   "name": "python",
   "nbconvert_exporter": "python",
   "pygments_lexer": "ipython3",
   "version": "3.7.6"
  }
 },
 "nbformat": 4,
 "nbformat_minor": 5
}
