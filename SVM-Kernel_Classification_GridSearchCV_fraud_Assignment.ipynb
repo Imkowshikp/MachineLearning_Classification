{
 "cells": [
  {
   "cell_type": "markdown",
   "id": "09025b07",
   "metadata": {},
   "source": [
    "\n",
    "# Kowshik P \n",
    "\n",
    "## Classification Assignment submitted on 26-Apr-2022\n",
    "## ------------------------------------------------------------------------\n",
    "## Model Implemented - SVC-Grid SearchCV\n",
    "## Accuracy Rate of Model : 0.99\n",
    "## Type - 1 error: 3\n",
    "## Type - 2 error: 31 (Maximum)\n",
    "## Performance - Good\n",
    "## ------------------------------------------------------------------------\n"
   ]
  },
  {
   "cell_type": "code",
   "execution_count": null,
   "id": "b3892083",
   "metadata": {},
   "outputs": [],
   "source": [
    "import pandas as pd;\n",
    "import numpy as np;\n",
    "import matplotlib.pyplot as mat;\n",
    "\n"
   ]
  },
  {
   "cell_type": "code",
   "execution_count": null,
   "id": "66747058",
   "metadata": {},
   "outputs": [],
   "source": [
    "clientInformation = pd.read_csv(\"fraud.csv\");\n",
    "\n",
    "clientInformation"
   ]
  },
  {
   "cell_type": "code",
   "execution_count": null,
   "id": "b88ba6ae",
   "metadata": {},
   "outputs": [],
   "source": [
    "clientInformation.shape"
   ]
  },
  {
   "cell_type": "code",
   "execution_count": null,
   "id": "f62a1267",
   "metadata": {},
   "outputs": [],
   "source": [
    "clientInformation = pd.get_dummies(clientInformation, drop_first = True);\n",
    "\n",
    "clientInformation"
   ]
  },
  {
   "cell_type": "code",
   "execution_count": null,
   "id": "816abd5a",
   "metadata": {},
   "outputs": [],
   "source": [
    "clientInformation = clientInformation.drop(\"isFlaggedFraud\", axis = 1);\n",
    "\n",
    "clientInformation\n"
   ]
  },
  {
   "cell_type": "code",
   "execution_count": null,
   "id": "91cba69f",
   "metadata": {},
   "outputs": [],
   "source": [
    "independentVariable = clientInformation[[\"step\", \"amount\", \"oldbalanceOrg\", \"newbalanceOrig\", \"oldbalanceDest\", \"newbalanceDest\", \"type_CASH_OUT\", \"type_DEBIT\", \"type_PAYMENT\", \"type_TRANSFER\"]];\n",
    "\n",
    "independentVariable"
   ]
  },
  {
   "cell_type": "code",
   "execution_count": null,
   "id": "2c2a4d7e",
   "metadata": {},
   "outputs": [],
   "source": [
    "dependentVariable = clientInformation[[\"isFraud\"]];\n",
    "\n",
    "dependentVariable"
   ]
  },
  {
   "cell_type": "code",
   "execution_count": null,
   "id": "a350488a",
   "metadata": {},
   "outputs": [],
   "source": [
    "from sklearn.model_selection import train_test_split;\n",
    "\n",
    "x_train, x_test, y_train, y_test = train_test_split(independentVariable, dependentVariable, test_size = 1/3, random_state = 0);"
   ]
  },
  {
   "cell_type": "code",
   "execution_count": null,
   "id": "9c5d70e0",
   "metadata": {},
   "outputs": [],
   "source": [
    "x_train"
   ]
  },
  {
   "cell_type": "code",
   "execution_count": null,
   "id": "b78859f7",
   "metadata": {},
   "outputs": [],
   "source": [
    "y_train"
   ]
  },
  {
   "cell_type": "code",
   "execution_count": null,
   "id": "c35396b9",
   "metadata": {},
   "outputs": [],
   "source": [
    "x_test"
   ]
  },
  {
   "cell_type": "code",
   "execution_count": null,
   "id": "1154e1b1",
   "metadata": {},
   "outputs": [],
   "source": [
    "y_test"
   ]
  },
  {
   "cell_type": "code",
   "execution_count": null,
   "id": "8bc3a72d",
   "metadata": {},
   "outputs": [],
   "source": [
    "from sklearn.preprocessing import StandardScaler;\n",
    "\n",
    "standardization = StandardScaler();\n",
    "\n",
    "x_train = standardization.fit_transform(x_train);\n",
    "\n",
    "x_test = standardization.transform(x_test);\n"
   ]
  },
  {
   "cell_type": "code",
   "execution_count": null,
   "id": "136a23ac",
   "metadata": {},
   "outputs": [],
   "source": [
    "from sklearn.svm import SVC;\n",
    "\n",
    "from sklearn.model_selection import GridSearchCV;\n",
    "\n",
    "\n",
    "\n",
    "param_grid ={\"kernel\":[\"linear\", \"poly\", \"rbf\"], \"C\":[1.0, 10, 20, 50, 80, 100, 1000, 10000], \n",
    "             \n",
    "             \"degree\":[1, 2, 3], \"gamma\":[\"auto\", \"scale\"]\n",
    "             \n",
    "    \n",
    "            }\n",
    "\n",
    "grid = GridSearchCV(SVC(), param_grid, refit = True, verbose = 3, n_jobs=-1, scoring=\"f1_weighted\");\n",
    "\n",
    "grid.fit(x_train, y_train);\n",
    "\n",
    "\n"
   ]
  },
  {
   "cell_type": "code",
   "execution_count": null,
   "id": "7f71473d",
   "metadata": {},
   "outputs": [],
   "source": [
    "y_pred = grid.predict(x_test);"
   ]
  },
  {
   "cell_type": "code",
   "execution_count": null,
   "id": "69c9594b",
   "metadata": {},
   "outputs": [],
   "source": [
    "from sklearn.metrics import confusion_matrix;\n",
    "\n",
    "logisticRegressionConfusionMatrix = confusion_matrix(y_test, y_pred);\n",
    "\n",
    "print(logisticRegressionConfusionMatrix);\n"
   ]
  },
  {
   "cell_type": "code",
   "execution_count": null,
   "id": "202da5bb",
   "metadata": {},
   "outputs": [],
   "source": [
    "from sklearn.metrics import classification_report;\n",
    "\n",
    "logisticRegressionClassifierReport = classification_report(y_test, y_pred);\n",
    "\n",
    "print(logisticRegressionClassifierReport);"
   ]
  },
  {
   "cell_type": "markdown",
   "id": "0e42f480",
   "metadata": {},
   "source": [
    "# 1. Metric(Accuracy Score)\n",
    "## The best performance is 1"
   ]
  },
  {
   "cell_type": "code",
   "execution_count": null,
   "id": "5cc0b7a5",
   "metadata": {},
   "outputs": [],
   "source": [
    "from sklearn.metrics import accuracy_score;\n",
    "\n",
    "SVMClassifierAccuracy = accuracy_score(y_test, y_pred);\n",
    "\n",
    "print(SVMClassifierAccuracy);"
   ]
  },
  {
   "cell_type": "markdown",
   "id": "023865c1",
   "metadata": {},
   "source": [
    "# 2. Metric(Balanced Accuracy)\n",
    "## The best value is 1 and the worst value is 0"
   ]
  },
  {
   "cell_type": "code",
   "execution_count": null,
   "id": "81a49c5f",
   "metadata": {},
   "outputs": [],
   "source": [
    "from sklearn.metrics import balanced_accuracy_score;\n",
    "\n",
    "SVMClassifierBalanced = balanced_accuracy_score(y_test, y_pred);\n",
    "\n",
    "print(SVMClassifierBalanced);"
   ]
  },
  {
   "cell_type": "markdown",
   "id": "4865a795",
   "metadata": {},
   "source": [
    "# 3. Metric(Top K-Accuracy Score)\n",
    "## The top-k accuracy score. The best performance is 1"
   ]
  },
  {
   "cell_type": "code",
   "execution_count": null,
   "id": "a610a051",
   "metadata": {},
   "outputs": [],
   "source": [
    "from sklearn.metrics import top_k_accuracy_score;\n",
    "\n",
    "SVMClassiferTopK = top_k_accuracy_score(y_test, y_pred);\n",
    "\n",
    "print(SVMClassiferTopK);"
   ]
  },
  {
   "cell_type": "markdown",
   "id": "c48b9eab",
   "metadata": {},
   "source": [
    "# 4. Metric(Average Precision Score)\n",
    "## The best value is 1 and the worst value is 0"
   ]
  },
  {
   "cell_type": "code",
   "execution_count": null,
   "id": "147bc44d",
   "metadata": {},
   "outputs": [],
   "source": [
    "from sklearn.metrics import average_precision_score;\n",
    "\n",
    "SVMClassifierPrecision = average_precision_score(y_test, y_pred);\n",
    "\n",
    "print(SVMClassifierPrecision);"
   ]
  },
  {
   "cell_type": "markdown",
   "id": "3a436742",
   "metadata": {},
   "source": [
    "# 5. Metric(Brier Score Loss)\n",
    "## The best value is 1 and the worst value is 0"
   ]
  },
  {
   "cell_type": "code",
   "execution_count": null,
   "id": "2fa189d5",
   "metadata": {},
   "outputs": [],
   "source": [
    "from sklearn.metrics import brier_score_loss;\n",
    "\n",
    "SVMClassiferBrier = brier_score_loss(y_test, y_pred);\n",
    "\n",
    "print(SVMClassiferBrier);"
   ]
  },
  {
   "cell_type": "markdown",
   "id": "e80ddd92",
   "metadata": {},
   "source": [
    "# 6. Metric(F1 Score)\n",
    "## The best value is 1 and the worst value is 0"
   ]
  },
  {
   "cell_type": "code",
   "execution_count": null,
   "id": "b8891908",
   "metadata": {},
   "outputs": [],
   "source": [
    "from sklearn.metrics import f1_score;\n",
    "\n",
    "SVMClassifierF1score = f1_score(y_test, y_pred);\n",
    "\n",
    "print(SVMClassifierF1score);"
   ]
  },
  {
   "cell_type": "markdown",
   "id": "fb4c76d0",
   "metadata": {},
   "source": [
    "# 7. Metric(F1 Score - Macro)\n",
    "## The best value is 1 and the worst value is 0"
   ]
  },
  {
   "cell_type": "code",
   "execution_count": null,
   "id": "04639014",
   "metadata": {},
   "outputs": [],
   "source": [
    "from sklearn.metrics import f1_score;\n",
    "\n",
    "SVMClassifierF1Macro = f1_score(y_test, y_pred, average='macro');\n",
    "\n",
    "print(SVMClassifierF1Macro);"
   ]
  },
  {
   "cell_type": "markdown",
   "id": "e96384c1",
   "metadata": {},
   "source": [
    "# 8. Metric(F1 Score - Micro)\n",
    "## The best value is 1 and the worst value is 0"
   ]
  },
  {
   "cell_type": "code",
   "execution_count": null,
   "id": "0b10a1f6",
   "metadata": {},
   "outputs": [],
   "source": [
    "from sklearn.metrics import f1_score;\n",
    "\n",
    "SVMClassifierF1Micro = f1_score(y_test, y_pred, average='micro');\n",
    "\n",
    "print(SVMClassifierF1Micro);"
   ]
  },
  {
   "cell_type": "markdown",
   "id": "1a4e80d3",
   "metadata": {},
   "source": [
    "# 9. Metric(F1 Score - Weighted)\n",
    "## The best value is 1 and the worst value is 0"
   ]
  },
  {
   "cell_type": "code",
   "execution_count": null,
   "id": "473e6bff",
   "metadata": {},
   "outputs": [],
   "source": [
    "from sklearn.metrics import f1_score;\n",
    "\n",
    "SVMClassifierF1Weighted = f1_score(y_test, y_pred, average='weighted');\n",
    "\n",
    "print(SVMClassifierF1Weighted);"
   ]
  },
  {
   "cell_type": "markdown",
   "id": "be4f370d",
   "metadata": {},
   "source": [
    "# 10. Metric(F1 Score - Samples)\n",
    "## The best value is 1 and the worst value is 0"
   ]
  },
  {
   "cell_type": "code",
   "execution_count": null,
   "id": "78e3ccde",
   "metadata": {},
   "outputs": [],
   "source": [
    "from sklearn.metrics import f1_score;\n",
    "\n",
    "SVMClassifierF1Samples = f1_score(y_test, y_pred, average= None);\n",
    "\n",
    "print(SVMClassifierF1Samples);"
   ]
  },
  {
   "cell_type": "markdown",
   "id": "05363d17",
   "metadata": {},
   "source": [
    "# 11. Metric(Log_Loss)\n",
    "## The best value is 1 and the worst value is 0"
   ]
  },
  {
   "cell_type": "code",
   "execution_count": null,
   "id": "b5762a17",
   "metadata": {},
   "outputs": [],
   "source": [
    "from sklearn.metrics import log_loss;\n",
    "\n",
    "SVMClassifierLogLoss = log_loss(y_test, y_pred);\n",
    "\n",
    "print(SVMClassifierLogLoss);"
   ]
  },
  {
   "cell_type": "markdown",
   "id": "02071e4a",
   "metadata": {},
   "source": [
    "# 12. Metric(Precision Score)\n",
    "## The best value is 1 and the worst value is 0"
   ]
  },
  {
   "cell_type": "code",
   "execution_count": null,
   "id": "587a419f",
   "metadata": {},
   "outputs": [],
   "source": [
    "from sklearn.metrics import precision_score;\n",
    "\n",
    "SVMClassifierPrecisionScore = precision_score(y_test, y_pred);\n",
    "\n",
    "print(SVMClassifierPrecisionScore);"
   ]
  },
  {
   "cell_type": "markdown",
   "id": "8b84766a",
   "metadata": {},
   "source": [
    "# 13. Metric(Precision Score - Macro)\n",
    "## The best value is 1 and the worst value is 0"
   ]
  },
  {
   "cell_type": "code",
   "execution_count": null,
   "id": "bb067891",
   "metadata": {},
   "outputs": [],
   "source": [
    "from sklearn.metrics import precision_score;\n",
    "\n",
    "SVMClassifierPrecisionScoreMacro = precision_score(y_test, y_pred, average='macro');\n",
    "\n",
    "print(SVMClassifierPrecisionScoreMacro);"
   ]
  },
  {
   "cell_type": "markdown",
   "id": "29dff75c",
   "metadata": {},
   "source": [
    "# 14. Metric(Precision Score - Micro)\n",
    "## The best value is 1 and the worst value is 0"
   ]
  },
  {
   "cell_type": "code",
   "execution_count": null,
   "id": "f68d5a32",
   "metadata": {},
   "outputs": [],
   "source": [
    "from sklearn.metrics import precision_score;\n",
    "\n",
    "SVMClassifierPrecisionScoreMicro = precision_score(y_test, y_pred, average='micro');\n",
    "\n",
    "print(SVMClassifierPrecisionScoreMicro);"
   ]
  },
  {
   "cell_type": "markdown",
   "id": "945d8704",
   "metadata": {},
   "source": [
    "# 15. Metric(Precision Score - Weighted)\n",
    "## The best value is 1 and the worst value is 0"
   ]
  },
  {
   "cell_type": "code",
   "execution_count": null,
   "id": "9b72527b",
   "metadata": {},
   "outputs": [],
   "source": [
    "from sklearn.metrics import precision_score;\n",
    "\n",
    "SVMClassifierPrecisionScoreWeighted = precision_score(y_test, y_pred, average='weighted');\n",
    "\n",
    "print(SVMClassifierPrecisionScoreWeighted);"
   ]
  },
  {
   "cell_type": "markdown",
   "id": "aa318a07",
   "metadata": {},
   "source": [
    "# 16. Metric(Precision Score - None)\n",
    "## The best value is 1 and the worst value is 0"
   ]
  },
  {
   "cell_type": "code",
   "execution_count": null,
   "id": "50ea588d",
   "metadata": {},
   "outputs": [],
   "source": [
    "from sklearn.metrics import precision_score;\n",
    "\n",
    "SVMClassifierPrecisionScoreNone = precision_score(y_test, y_pred, average=None);\n",
    "\n",
    "print(SVMClassifierPrecisionScoreNone);"
   ]
  },
  {
   "cell_type": "markdown",
   "id": "09a65a2c",
   "metadata": {},
   "source": [
    "# 17. Metric(Recall)\n",
    "## The best value is 1 and the worst value is 0"
   ]
  },
  {
   "cell_type": "code",
   "execution_count": null,
   "id": "43a04e0b",
   "metadata": {},
   "outputs": [],
   "source": [
    "from sklearn.metrics import recall_score;\n",
    "\n",
    "SVMClassifierRecall = recall_score(y_test, y_pred);\n",
    "\n",
    "print(SVMClassifierRecall);"
   ]
  },
  {
   "cell_type": "markdown",
   "id": "b861ac85",
   "metadata": {},
   "source": [
    "# 18. Metric(Recall - Macro)\n",
    "## The best value is 1 and the worst value is 0"
   ]
  },
  {
   "cell_type": "code",
   "execution_count": null,
   "id": "885c2c2f",
   "metadata": {},
   "outputs": [],
   "source": [
    "from sklearn.metrics import recall_score;\n",
    "\n",
    "SVMClassifierRecallMacro = recall_score(y_test, y_pred, average='macro');\n",
    "\n",
    "print(SVMClassifierRecallMacro);"
   ]
  },
  {
   "cell_type": "markdown",
   "id": "475efcc5",
   "metadata": {},
   "source": [
    "# 19. Metric(Recall - Micro)\n",
    "## The best value is 1 and the worst value is 0"
   ]
  },
  {
   "cell_type": "code",
   "execution_count": null,
   "id": "9a5d8060",
   "metadata": {},
   "outputs": [],
   "source": [
    "from sklearn.metrics import recall_score;\n",
    "\n",
    "SVMClassifierRecallMicro = recall_score(y_test, y_pred, average='micro');\n",
    "\n",
    "print(SVMClassifierRecallMicro);"
   ]
  },
  {
   "cell_type": "markdown",
   "id": "9278d824",
   "metadata": {},
   "source": [
    "# 20. Metric(Recall - Weighted)\n",
    "## The best value is 1 and the worst value is 0"
   ]
  },
  {
   "cell_type": "code",
   "execution_count": null,
   "id": "2095e82c",
   "metadata": {},
   "outputs": [],
   "source": [
    "from sklearn.metrics import recall_score;\n",
    "\n",
    "SVMClassifierRecallWeighted = recall_score(y_test, y_pred, average='weighted');\n",
    "\n",
    "print(SVMClassifierRecallWeighted);"
   ]
  },
  {
   "cell_type": "markdown",
   "id": "293d3ede",
   "metadata": {},
   "source": [
    "# 21. Metric(Recall - None)\n",
    "## The best value is 1 and the worst value is 0"
   ]
  },
  {
   "cell_type": "code",
   "execution_count": null,
   "id": "43db6ddc",
   "metadata": {},
   "outputs": [],
   "source": [
    "from sklearn.metrics import recall_score;\n",
    "\n",
    "SVMClassifierRecallNone = recall_score(y_test, y_pred, average=None, zero_division=1);\n",
    "\n",
    "print(SVMClassifierRecallNone);"
   ]
  },
  {
   "cell_type": "markdown",
   "id": "c3b7f863",
   "metadata": {},
   "source": [
    "# 22. Metric(Jaccard Score)\n",
    "## The best value is 1 and the worst value is 0"
   ]
  },
  {
   "cell_type": "code",
   "execution_count": null,
   "id": "d4c5499d",
   "metadata": {},
   "outputs": [],
   "source": [
    "from sklearn.metrics import jaccard_score;\n",
    "\n",
    "SVMClassifierJaccard = jaccard_score(y_test, y_pred);\n",
    "\n",
    "print(SVMClassifierJaccard);"
   ]
  },
  {
   "cell_type": "markdown",
   "id": "bd8a6626",
   "metadata": {},
   "source": [
    "# 23. Metric(Jaccard - None)\n",
    "## The best value is 1 and the worst value is 0"
   ]
  },
  {
   "cell_type": "code",
   "execution_count": null,
   "id": "47d016fd",
   "metadata": {},
   "outputs": [],
   "source": [
    "from sklearn.metrics import jaccard_score;\n",
    "\n",
    "SVMClassifierJaccardNone = jaccard_score(y_test, y_pred, average=None);\n",
    "\n",
    "print(SVMClassifierJaccardNone);"
   ]
  },
  {
   "cell_type": "markdown",
   "id": "20b49c99",
   "metadata": {},
   "source": [
    "# 24. Metric(Jaccard - Weighted)\n",
    "## The best value is 1 and the worst value is 0"
   ]
  },
  {
   "cell_type": "code",
   "execution_count": null,
   "id": "3010bbd7",
   "metadata": {},
   "outputs": [],
   "source": [
    "from sklearn.metrics import jaccard_score;\n",
    "\n",
    "SVMClassifierJaccardWeighted = jaccard_score(y_test, y_pred, average='weighted');\n",
    "\n",
    "print(SVMClassifierJaccardWeighted);"
   ]
  },
  {
   "cell_type": "markdown",
   "id": "49312241",
   "metadata": {},
   "source": [
    "# 25. Metric(Jaccard - Micro)\n",
    "## The best value is 1 and the worst value is 0"
   ]
  },
  {
   "cell_type": "code",
   "execution_count": null,
   "id": "054aec62",
   "metadata": {},
   "outputs": [],
   "source": [
    "from sklearn.metrics import jaccard_score;\n",
    "\n",
    "SVMClassifierJaccardMicro = jaccard_score(y_test, y_pred, average='micro');\n",
    "\n",
    "print(SVMClassifierJaccardMicro);"
   ]
  },
  {
   "cell_type": "markdown",
   "id": "1da208b2",
   "metadata": {},
   "source": [
    "# 26. Metric(Rac Auc Score)\n",
    "## The best value is 1 and the worst value is 0"
   ]
  },
  {
   "cell_type": "code",
   "execution_count": null,
   "id": "6fc12139",
   "metadata": {},
   "outputs": [],
   "source": [
    "from sklearn.metrics import roc_auc_score;\n",
    "\n",
    "SVMClassifierRoc = roc_auc_score(y_test, y_pred);\n",
    "\n",
    "print(SVMClassifierRoc);"
   ]
  },
  {
   "cell_type": "markdown",
   "id": "6b04bb28",
   "metadata": {},
   "source": [
    "# 27. Metric(Rac Auc Score - None)\n",
    "## The best value is 1 and the worst value is 0"
   ]
  },
  {
   "cell_type": "code",
   "execution_count": null,
   "id": "9d2bf022",
   "metadata": {},
   "outputs": [],
   "source": [
    "from sklearn.metrics import roc_auc_score;\n",
    "\n",
    "SVMClassifierRocNone = roc_auc_score(y_test, y_pred, average=None);\n",
    "\n",
    "print(SVMClassifierRocNone);"
   ]
  },
  {
   "cell_type": "markdown",
   "id": "d8f4d51f",
   "metadata": {},
   "source": [
    "# 28. Metric(Rac Auc Score - Macro)\n",
    "## The best value is 1 and the worst value is 0"
   ]
  },
  {
   "cell_type": "code",
   "execution_count": null,
   "id": "ef71c811",
   "metadata": {},
   "outputs": [],
   "source": [
    "from sklearn.metrics import roc_auc_score;\n",
    "\n",
    "SVMClassifierRocMacro = roc_auc_score(y_test, y_pred, average='macro');\n",
    "\n",
    "print(SVMClassifierRocMacro);"
   ]
  },
  {
   "cell_type": "markdown",
   "id": "a32a30fd",
   "metadata": {},
   "source": [
    "# 29. Metric(Rac Auc Score - Micro)\n",
    "## The best value is 1 and the worst value is 0"
   ]
  },
  {
   "cell_type": "code",
   "execution_count": null,
   "id": "c3bbae93",
   "metadata": {},
   "outputs": [],
   "source": [
    "from sklearn.metrics import roc_auc_score;\n",
    "\n",
    "SVMClassifierRocMicro = roc_auc_score(y_test, y_pred, average='micro');\n",
    "\n",
    "print(SVMClassifierRocMicro);"
   ]
  },
  {
   "cell_type": "markdown",
   "id": "6741f34d",
   "metadata": {},
   "source": [
    "# 30. Metric(Rac Auc Score - Weighted)\n",
    "## The best value is 1 and the worst value is 0"
   ]
  },
  {
   "cell_type": "code",
   "execution_count": null,
   "id": "509a89c3",
   "metadata": {},
   "outputs": [],
   "source": [
    "from sklearn.metrics import roc_auc_score;\n",
    "\n",
    "SVMClassifierRocWeighted = roc_auc_score(y_test, y_pred, average='weighted');\n",
    "\n",
    "print(SVMClassifierRocWeighted);"
   ]
  }
 ],
 "metadata": {
  "kernelspec": {
   "display_name": "Python 3 (ipykernel)",
   "language": "python",
   "name": "python3"
  },
  "language_info": {
   "codemirror_mode": {
    "name": "ipython",
    "version": 3
   },
   "file_extension": ".py",
   "mimetype": "text/x-python",
   "name": "python",
   "nbconvert_exporter": "python",
   "pygments_lexer": "ipython3",
   "version": "3.7.6"
  }
 },
 "nbformat": 4,
 "nbformat_minor": 5
}
