{
 "cells": [
  {
   "cell_type": "markdown",
   "id": "a4da5a5f",
   "metadata": {},
   "source": [
    "\n",
    "# Kowshik P \n",
    "## Deployment stage\n",
    "## Classification Assignment submitted on 26-Apr-2022\n",
    "## ----------------------------------------------------------------------------\n",
    "## Model Implemented - Random Forest Classification\n",
    "## Accuracy Rate of Model : 1.00\n",
    "## Type - 1 error: 0\n",
    "## Type - 2 error: 3 (Minimum error)\n",
    "## Performance - Excellent\n",
    "## ----------------------------------------------------------------------------\n"
   ]
  },
  {
   "cell_type": "code",
   "execution_count": 1,
   "id": "f94c4606",
   "metadata": {},
   "outputs": [
    {
     "name": "stdout",
     "output_type": "stream",
     "text": [
      "Step:5\n",
      "Amount:3456\n",
      "Old Balance Orgin:5643\n",
      "New Balance Orgin:7865\n",
      "Old Balanced Destination:4567\n",
      "new Balanced Destination:32456\n",
      "Type Cash Out:1\n",
      "Type Debit:1\n",
      "Type Payment:1\n",
      "Type Transfer:1\n",
      "\n",
      "Result:  [1]\n"
     ]
    }
   ],
   "source": [
    "\n",
    "import pickle;\n",
    "\n",
    "loadModelClassifier = pickle.load(open(\"RandomForestClassification_finalModel.sav\", \"rb\"));\n",
    "\n",
    "stepValue_input = int(input(\"Step:\"));\n",
    "\n",
    "amount_input = float(input(\"Amount:\"));\n",
    "\n",
    "oldBalanceOrgin = float(input(\"Old Balance Orgin:\"));\n",
    "\n",
    "newBalanceOrgin = float(input(\"New Balance Orgin:\"));\n",
    "\n",
    "oldBalanceDestination = float(input(\"Old Balanced Destination:\"));\n",
    "\n",
    "newBalanceDestination = float(input(\"new Balanced Destination:\"));\n",
    "\n",
    "typeCash_Out = int(input(\"Type Cash Out:\"));\n",
    "\n",
    "typeDebit = int(input(\"Type Debit:\"));\n",
    "\n",
    "typePayment = int(input(\"Type Payment:\"));\n",
    "\n",
    "typeTransfer = int(input(\"Type Transfer:\"));\n",
    "\n",
    "Result = loadModelClassifier.predict([[stepValue_input, amount_input, oldBalanceOrgin, newBalanceOrgin, oldBalanceDestination, newBalanceDestination, typeCash_Out, typeDebit, typePayment, typeTransfer]]);\n",
    "\n",
    "print(\"\\nResult: \", Result);"
   ]
  }
 ],
 "metadata": {
  "kernelspec": {
   "display_name": "Python 3 (ipykernel)",
   "language": "python",
   "name": "python3"
  },
  "language_info": {
   "codemirror_mode": {
    "name": "ipython",
    "version": 3
   },
   "file_extension": ".py",
   "mimetype": "text/x-python",
   "name": "python",
   "nbconvert_exporter": "python",
   "pygments_lexer": "ipython3",
   "version": "3.7.6"
  }
 },
 "nbformat": 4,
 "nbformat_minor": 5
}
