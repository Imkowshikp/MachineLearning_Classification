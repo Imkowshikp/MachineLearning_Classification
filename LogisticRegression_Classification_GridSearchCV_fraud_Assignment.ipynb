{
 "cells": [
  {
   "cell_type": "markdown",
   "id": "44d9bf6d",
   "metadata": {},
   "source": [
    "\n",
    "# Kowshik P \n",
    "\n",
    "## Classification Assignment submitted on 26-Apr-2022\n",
    "## ------------------------------------------------------------------------\n",
    "## Model Implemented - Logistic Regression-Grid SearchCV\n",
    "## Accuracy Rate of Model : 1.00\n",
    "## Type - 1 error: 1\n",
    "## Type - 2 error: 24 (Maximum)\n",
    "## Performance - Good\n",
    "## ------------------------------------------------------------------------\n"
   ]
  },
  {
   "cell_type": "code",
   "execution_count": 1,
   "id": "b3892083",
   "metadata": {},
   "outputs": [],
   "source": [
    "import pandas as pd;\n",
    "import numpy as np;\n",
    "import matplotlib.pyplot as mat;\n",
    "\n"
   ]
  },
  {
   "cell_type": "code",
   "execution_count": 2,
   "id": "66747058",
   "metadata": {
    "scrolled": true
   },
   "outputs": [
    {
     "data": {
      "text/html": [
       "<div>\n",
       "<style scoped>\n",
       "    .dataframe tbody tr th:only-of-type {\n",
       "        vertical-align: middle;\n",
       "    }\n",
       "\n",
       "    .dataframe tbody tr th {\n",
       "        vertical-align: top;\n",
       "    }\n",
       "\n",
       "    .dataframe thead th {\n",
       "        text-align: right;\n",
       "    }\n",
       "</style>\n",
       "<table border=\"1\" class=\"dataframe\">\n",
       "  <thead>\n",
       "    <tr style=\"text-align: right;\">\n",
       "      <th></th>\n",
       "      <th>step</th>\n",
       "      <th>type</th>\n",
       "      <th>amount</th>\n",
       "      <th>oldbalanceOrg</th>\n",
       "      <th>newbalanceOrig</th>\n",
       "      <th>oldbalanceDest</th>\n",
       "      <th>newbalanceDest</th>\n",
       "      <th>isFraud</th>\n",
       "      <th>isFlaggedFraud</th>\n",
       "    </tr>\n",
       "  </thead>\n",
       "  <tbody>\n",
       "    <tr>\n",
       "      <th>0</th>\n",
       "      <td>1</td>\n",
       "      <td>PAYMENT</td>\n",
       "      <td>9839.64</td>\n",
       "      <td>170136.00</td>\n",
       "      <td>160296.36</td>\n",
       "      <td>0.00</td>\n",
       "      <td>0.00</td>\n",
       "      <td>0</td>\n",
       "      <td>0</td>\n",
       "    </tr>\n",
       "    <tr>\n",
       "      <th>1</th>\n",
       "      <td>1</td>\n",
       "      <td>PAYMENT</td>\n",
       "      <td>1864.28</td>\n",
       "      <td>21249.00</td>\n",
       "      <td>19384.72</td>\n",
       "      <td>0.00</td>\n",
       "      <td>0.00</td>\n",
       "      <td>0</td>\n",
       "      <td>0</td>\n",
       "    </tr>\n",
       "    <tr>\n",
       "      <th>2</th>\n",
       "      <td>1</td>\n",
       "      <td>PAYMENT</td>\n",
       "      <td>11668.14</td>\n",
       "      <td>41554.00</td>\n",
       "      <td>29885.86</td>\n",
       "      <td>0.00</td>\n",
       "      <td>0.00</td>\n",
       "      <td>0</td>\n",
       "      <td>0</td>\n",
       "    </tr>\n",
       "    <tr>\n",
       "      <th>3</th>\n",
       "      <td>1</td>\n",
       "      <td>PAYMENT</td>\n",
       "      <td>7817.71</td>\n",
       "      <td>53860.00</td>\n",
       "      <td>46042.29</td>\n",
       "      <td>0.00</td>\n",
       "      <td>0.00</td>\n",
       "      <td>0</td>\n",
       "      <td>0</td>\n",
       "    </tr>\n",
       "    <tr>\n",
       "      <th>4</th>\n",
       "      <td>1</td>\n",
       "      <td>PAYMENT</td>\n",
       "      <td>7107.77</td>\n",
       "      <td>183195.00</td>\n",
       "      <td>176087.23</td>\n",
       "      <td>0.00</td>\n",
       "      <td>0.00</td>\n",
       "      <td>0</td>\n",
       "      <td>0</td>\n",
       "    </tr>\n",
       "    <tr>\n",
       "      <th>...</th>\n",
       "      <td>...</td>\n",
       "      <td>...</td>\n",
       "      <td>...</td>\n",
       "      <td>...</td>\n",
       "      <td>...</td>\n",
       "      <td>...</td>\n",
       "      <td>...</td>\n",
       "      <td>...</td>\n",
       "      <td>...</td>\n",
       "    </tr>\n",
       "    <tr>\n",
       "      <th>16421</th>\n",
       "      <td>743</td>\n",
       "      <td>CASH_OUT</td>\n",
       "      <td>339682.13</td>\n",
       "      <td>339682.13</td>\n",
       "      <td>0.00</td>\n",
       "      <td>0.00</td>\n",
       "      <td>339682.13</td>\n",
       "      <td>1</td>\n",
       "      <td>0</td>\n",
       "    </tr>\n",
       "    <tr>\n",
       "      <th>16422</th>\n",
       "      <td>743</td>\n",
       "      <td>TRANSFER</td>\n",
       "      <td>6311409.28</td>\n",
       "      <td>6311409.28</td>\n",
       "      <td>0.00</td>\n",
       "      <td>0.00</td>\n",
       "      <td>0.00</td>\n",
       "      <td>1</td>\n",
       "      <td>0</td>\n",
       "    </tr>\n",
       "    <tr>\n",
       "      <th>16423</th>\n",
       "      <td>743</td>\n",
       "      <td>CASH_OUT</td>\n",
       "      <td>6311409.28</td>\n",
       "      <td>6311409.28</td>\n",
       "      <td>0.00</td>\n",
       "      <td>68488.84</td>\n",
       "      <td>6379898.11</td>\n",
       "      <td>1</td>\n",
       "      <td>0</td>\n",
       "    </tr>\n",
       "    <tr>\n",
       "      <th>16424</th>\n",
       "      <td>743</td>\n",
       "      <td>TRANSFER</td>\n",
       "      <td>850002.52</td>\n",
       "      <td>850002.52</td>\n",
       "      <td>0.00</td>\n",
       "      <td>0.00</td>\n",
       "      <td>0.00</td>\n",
       "      <td>1</td>\n",
       "      <td>0</td>\n",
       "    </tr>\n",
       "    <tr>\n",
       "      <th>16425</th>\n",
       "      <td>743</td>\n",
       "      <td>CASH_OUT</td>\n",
       "      <td>850002.52</td>\n",
       "      <td>850002.52</td>\n",
       "      <td>0.00</td>\n",
       "      <td>6510099.11</td>\n",
       "      <td>7360101.63</td>\n",
       "      <td>1</td>\n",
       "      <td>0</td>\n",
       "    </tr>\n",
       "  </tbody>\n",
       "</table>\n",
       "<p>16426 rows × 9 columns</p>\n",
       "</div>"
      ],
      "text/plain": [
       "       step      type      amount  oldbalanceOrg  newbalanceOrig  \\\n",
       "0         1   PAYMENT     9839.64      170136.00       160296.36   \n",
       "1         1   PAYMENT     1864.28       21249.00        19384.72   \n",
       "2         1   PAYMENT    11668.14       41554.00        29885.86   \n",
       "3         1   PAYMENT     7817.71       53860.00        46042.29   \n",
       "4         1   PAYMENT     7107.77      183195.00       176087.23   \n",
       "...     ...       ...         ...            ...             ...   \n",
       "16421   743  CASH_OUT   339682.13      339682.13            0.00   \n",
       "16422   743  TRANSFER  6311409.28     6311409.28            0.00   \n",
       "16423   743  CASH_OUT  6311409.28     6311409.28            0.00   \n",
       "16424   743  TRANSFER   850002.52      850002.52            0.00   \n",
       "16425   743  CASH_OUT   850002.52      850002.52            0.00   \n",
       "\n",
       "       oldbalanceDest  newbalanceDest  isFraud  isFlaggedFraud  \n",
       "0                0.00            0.00        0               0  \n",
       "1                0.00            0.00        0               0  \n",
       "2                0.00            0.00        0               0  \n",
       "3                0.00            0.00        0               0  \n",
       "4                0.00            0.00        0               0  \n",
       "...               ...             ...      ...             ...  \n",
       "16421            0.00       339682.13        1               0  \n",
       "16422            0.00            0.00        1               0  \n",
       "16423        68488.84      6379898.11        1               0  \n",
       "16424            0.00            0.00        1               0  \n",
       "16425      6510099.11      7360101.63        1               0  \n",
       "\n",
       "[16426 rows x 9 columns]"
      ]
     },
     "execution_count": 2,
     "metadata": {},
     "output_type": "execute_result"
    }
   ],
   "source": [
    "clientInformation = pd.read_csv(\"fraud.csv\");\n",
    "\n",
    "clientInformation"
   ]
  },
  {
   "cell_type": "code",
   "execution_count": 3,
   "id": "b88ba6ae",
   "metadata": {},
   "outputs": [
    {
     "data": {
      "text/plain": [
       "(16426, 9)"
      ]
     },
     "execution_count": 3,
     "metadata": {},
     "output_type": "execute_result"
    }
   ],
   "source": [
    "clientInformation.shape"
   ]
  },
  {
   "cell_type": "code",
   "execution_count": 4,
   "id": "f62a1267",
   "metadata": {},
   "outputs": [
    {
     "data": {
      "text/html": [
       "<div>\n",
       "<style scoped>\n",
       "    .dataframe tbody tr th:only-of-type {\n",
       "        vertical-align: middle;\n",
       "    }\n",
       "\n",
       "    .dataframe tbody tr th {\n",
       "        vertical-align: top;\n",
       "    }\n",
       "\n",
       "    .dataframe thead th {\n",
       "        text-align: right;\n",
       "    }\n",
       "</style>\n",
       "<table border=\"1\" class=\"dataframe\">\n",
       "  <thead>\n",
       "    <tr style=\"text-align: right;\">\n",
       "      <th></th>\n",
       "      <th>step</th>\n",
       "      <th>amount</th>\n",
       "      <th>oldbalanceOrg</th>\n",
       "      <th>newbalanceOrig</th>\n",
       "      <th>oldbalanceDest</th>\n",
       "      <th>newbalanceDest</th>\n",
       "      <th>isFraud</th>\n",
       "      <th>isFlaggedFraud</th>\n",
       "      <th>type_CASH_OUT</th>\n",
       "      <th>type_DEBIT</th>\n",
       "      <th>type_PAYMENT</th>\n",
       "      <th>type_TRANSFER</th>\n",
       "    </tr>\n",
       "  </thead>\n",
       "  <tbody>\n",
       "    <tr>\n",
       "      <th>0</th>\n",
       "      <td>1</td>\n",
       "      <td>9839.64</td>\n",
       "      <td>170136.00</td>\n",
       "      <td>160296.36</td>\n",
       "      <td>0.00</td>\n",
       "      <td>0.00</td>\n",
       "      <td>0</td>\n",
       "      <td>0</td>\n",
       "      <td>0</td>\n",
       "      <td>0</td>\n",
       "      <td>1</td>\n",
       "      <td>0</td>\n",
       "    </tr>\n",
       "    <tr>\n",
       "      <th>1</th>\n",
       "      <td>1</td>\n",
       "      <td>1864.28</td>\n",
       "      <td>21249.00</td>\n",
       "      <td>19384.72</td>\n",
       "      <td>0.00</td>\n",
       "      <td>0.00</td>\n",
       "      <td>0</td>\n",
       "      <td>0</td>\n",
       "      <td>0</td>\n",
       "      <td>0</td>\n",
       "      <td>1</td>\n",
       "      <td>0</td>\n",
       "    </tr>\n",
       "    <tr>\n",
       "      <th>2</th>\n",
       "      <td>1</td>\n",
       "      <td>11668.14</td>\n",
       "      <td>41554.00</td>\n",
       "      <td>29885.86</td>\n",
       "      <td>0.00</td>\n",
       "      <td>0.00</td>\n",
       "      <td>0</td>\n",
       "      <td>0</td>\n",
       "      <td>0</td>\n",
       "      <td>0</td>\n",
       "      <td>1</td>\n",
       "      <td>0</td>\n",
       "    </tr>\n",
       "    <tr>\n",
       "      <th>3</th>\n",
       "      <td>1</td>\n",
       "      <td>7817.71</td>\n",
       "      <td>53860.00</td>\n",
       "      <td>46042.29</td>\n",
       "      <td>0.00</td>\n",
       "      <td>0.00</td>\n",
       "      <td>0</td>\n",
       "      <td>0</td>\n",
       "      <td>0</td>\n",
       "      <td>0</td>\n",
       "      <td>1</td>\n",
       "      <td>0</td>\n",
       "    </tr>\n",
       "    <tr>\n",
       "      <th>4</th>\n",
       "      <td>1</td>\n",
       "      <td>7107.77</td>\n",
       "      <td>183195.00</td>\n",
       "      <td>176087.23</td>\n",
       "      <td>0.00</td>\n",
       "      <td>0.00</td>\n",
       "      <td>0</td>\n",
       "      <td>0</td>\n",
       "      <td>0</td>\n",
       "      <td>0</td>\n",
       "      <td>1</td>\n",
       "      <td>0</td>\n",
       "    </tr>\n",
       "    <tr>\n",
       "      <th>...</th>\n",
       "      <td>...</td>\n",
       "      <td>...</td>\n",
       "      <td>...</td>\n",
       "      <td>...</td>\n",
       "      <td>...</td>\n",
       "      <td>...</td>\n",
       "      <td>...</td>\n",
       "      <td>...</td>\n",
       "      <td>...</td>\n",
       "      <td>...</td>\n",
       "      <td>...</td>\n",
       "      <td>...</td>\n",
       "    </tr>\n",
       "    <tr>\n",
       "      <th>16421</th>\n",
       "      <td>743</td>\n",
       "      <td>339682.13</td>\n",
       "      <td>339682.13</td>\n",
       "      <td>0.00</td>\n",
       "      <td>0.00</td>\n",
       "      <td>339682.13</td>\n",
       "      <td>1</td>\n",
       "      <td>0</td>\n",
       "      <td>1</td>\n",
       "      <td>0</td>\n",
       "      <td>0</td>\n",
       "      <td>0</td>\n",
       "    </tr>\n",
       "    <tr>\n",
       "      <th>16422</th>\n",
       "      <td>743</td>\n",
       "      <td>6311409.28</td>\n",
       "      <td>6311409.28</td>\n",
       "      <td>0.00</td>\n",
       "      <td>0.00</td>\n",
       "      <td>0.00</td>\n",
       "      <td>1</td>\n",
       "      <td>0</td>\n",
       "      <td>0</td>\n",
       "      <td>0</td>\n",
       "      <td>0</td>\n",
       "      <td>1</td>\n",
       "    </tr>\n",
       "    <tr>\n",
       "      <th>16423</th>\n",
       "      <td>743</td>\n",
       "      <td>6311409.28</td>\n",
       "      <td>6311409.28</td>\n",
       "      <td>0.00</td>\n",
       "      <td>68488.84</td>\n",
       "      <td>6379898.11</td>\n",
       "      <td>1</td>\n",
       "      <td>0</td>\n",
       "      <td>1</td>\n",
       "      <td>0</td>\n",
       "      <td>0</td>\n",
       "      <td>0</td>\n",
       "    </tr>\n",
       "    <tr>\n",
       "      <th>16424</th>\n",
       "      <td>743</td>\n",
       "      <td>850002.52</td>\n",
       "      <td>850002.52</td>\n",
       "      <td>0.00</td>\n",
       "      <td>0.00</td>\n",
       "      <td>0.00</td>\n",
       "      <td>1</td>\n",
       "      <td>0</td>\n",
       "      <td>0</td>\n",
       "      <td>0</td>\n",
       "      <td>0</td>\n",
       "      <td>1</td>\n",
       "    </tr>\n",
       "    <tr>\n",
       "      <th>16425</th>\n",
       "      <td>743</td>\n",
       "      <td>850002.52</td>\n",
       "      <td>850002.52</td>\n",
       "      <td>0.00</td>\n",
       "      <td>6510099.11</td>\n",
       "      <td>7360101.63</td>\n",
       "      <td>1</td>\n",
       "      <td>0</td>\n",
       "      <td>1</td>\n",
       "      <td>0</td>\n",
       "      <td>0</td>\n",
       "      <td>0</td>\n",
       "    </tr>\n",
       "  </tbody>\n",
       "</table>\n",
       "<p>16426 rows × 12 columns</p>\n",
       "</div>"
      ],
      "text/plain": [
       "       step      amount  oldbalanceOrg  newbalanceOrig  oldbalanceDest  \\\n",
       "0         1     9839.64      170136.00       160296.36            0.00   \n",
       "1         1     1864.28       21249.00        19384.72            0.00   \n",
       "2         1    11668.14       41554.00        29885.86            0.00   \n",
       "3         1     7817.71       53860.00        46042.29            0.00   \n",
       "4         1     7107.77      183195.00       176087.23            0.00   \n",
       "...     ...         ...            ...             ...             ...   \n",
       "16421   743   339682.13      339682.13            0.00            0.00   \n",
       "16422   743  6311409.28     6311409.28            0.00            0.00   \n",
       "16423   743  6311409.28     6311409.28            0.00        68488.84   \n",
       "16424   743   850002.52      850002.52            0.00            0.00   \n",
       "16425   743   850002.52      850002.52            0.00      6510099.11   \n",
       "\n",
       "       newbalanceDest  isFraud  isFlaggedFraud  type_CASH_OUT  type_DEBIT  \\\n",
       "0                0.00        0               0              0           0   \n",
       "1                0.00        0               0              0           0   \n",
       "2                0.00        0               0              0           0   \n",
       "3                0.00        0               0              0           0   \n",
       "4                0.00        0               0              0           0   \n",
       "...               ...      ...             ...            ...         ...   \n",
       "16421       339682.13        1               0              1           0   \n",
       "16422            0.00        1               0              0           0   \n",
       "16423      6379898.11        1               0              1           0   \n",
       "16424            0.00        1               0              0           0   \n",
       "16425      7360101.63        1               0              1           0   \n",
       "\n",
       "       type_PAYMENT  type_TRANSFER  \n",
       "0                 1              0  \n",
       "1                 1              0  \n",
       "2                 1              0  \n",
       "3                 1              0  \n",
       "4                 1              0  \n",
       "...             ...            ...  \n",
       "16421             0              0  \n",
       "16422             0              1  \n",
       "16423             0              0  \n",
       "16424             0              1  \n",
       "16425             0              0  \n",
       "\n",
       "[16426 rows x 12 columns]"
      ]
     },
     "execution_count": 4,
     "metadata": {},
     "output_type": "execute_result"
    }
   ],
   "source": [
    "clientInformation = pd.get_dummies(clientInformation, drop_first = True);\n",
    "\n",
    "clientInformation"
   ]
  },
  {
   "cell_type": "code",
   "execution_count": 5,
   "id": "816abd5a",
   "metadata": {},
   "outputs": [
    {
     "data": {
      "text/html": [
       "<div>\n",
       "<style scoped>\n",
       "    .dataframe tbody tr th:only-of-type {\n",
       "        vertical-align: middle;\n",
       "    }\n",
       "\n",
       "    .dataframe tbody tr th {\n",
       "        vertical-align: top;\n",
       "    }\n",
       "\n",
       "    .dataframe thead th {\n",
       "        text-align: right;\n",
       "    }\n",
       "</style>\n",
       "<table border=\"1\" class=\"dataframe\">\n",
       "  <thead>\n",
       "    <tr style=\"text-align: right;\">\n",
       "      <th></th>\n",
       "      <th>step</th>\n",
       "      <th>amount</th>\n",
       "      <th>oldbalanceOrg</th>\n",
       "      <th>newbalanceOrig</th>\n",
       "      <th>oldbalanceDest</th>\n",
       "      <th>newbalanceDest</th>\n",
       "      <th>isFraud</th>\n",
       "      <th>type_CASH_OUT</th>\n",
       "      <th>type_DEBIT</th>\n",
       "      <th>type_PAYMENT</th>\n",
       "      <th>type_TRANSFER</th>\n",
       "    </tr>\n",
       "  </thead>\n",
       "  <tbody>\n",
       "    <tr>\n",
       "      <th>0</th>\n",
       "      <td>1</td>\n",
       "      <td>9839.64</td>\n",
       "      <td>170136.00</td>\n",
       "      <td>160296.36</td>\n",
       "      <td>0.00</td>\n",
       "      <td>0.00</td>\n",
       "      <td>0</td>\n",
       "      <td>0</td>\n",
       "      <td>0</td>\n",
       "      <td>1</td>\n",
       "      <td>0</td>\n",
       "    </tr>\n",
       "    <tr>\n",
       "      <th>1</th>\n",
       "      <td>1</td>\n",
       "      <td>1864.28</td>\n",
       "      <td>21249.00</td>\n",
       "      <td>19384.72</td>\n",
       "      <td>0.00</td>\n",
       "      <td>0.00</td>\n",
       "      <td>0</td>\n",
       "      <td>0</td>\n",
       "      <td>0</td>\n",
       "      <td>1</td>\n",
       "      <td>0</td>\n",
       "    </tr>\n",
       "    <tr>\n",
       "      <th>2</th>\n",
       "      <td>1</td>\n",
       "      <td>11668.14</td>\n",
       "      <td>41554.00</td>\n",
       "      <td>29885.86</td>\n",
       "      <td>0.00</td>\n",
       "      <td>0.00</td>\n",
       "      <td>0</td>\n",
       "      <td>0</td>\n",
       "      <td>0</td>\n",
       "      <td>1</td>\n",
       "      <td>0</td>\n",
       "    </tr>\n",
       "    <tr>\n",
       "      <th>3</th>\n",
       "      <td>1</td>\n",
       "      <td>7817.71</td>\n",
       "      <td>53860.00</td>\n",
       "      <td>46042.29</td>\n",
       "      <td>0.00</td>\n",
       "      <td>0.00</td>\n",
       "      <td>0</td>\n",
       "      <td>0</td>\n",
       "      <td>0</td>\n",
       "      <td>1</td>\n",
       "      <td>0</td>\n",
       "    </tr>\n",
       "    <tr>\n",
       "      <th>4</th>\n",
       "      <td>1</td>\n",
       "      <td>7107.77</td>\n",
       "      <td>183195.00</td>\n",
       "      <td>176087.23</td>\n",
       "      <td>0.00</td>\n",
       "      <td>0.00</td>\n",
       "      <td>0</td>\n",
       "      <td>0</td>\n",
       "      <td>0</td>\n",
       "      <td>1</td>\n",
       "      <td>0</td>\n",
       "    </tr>\n",
       "    <tr>\n",
       "      <th>...</th>\n",
       "      <td>...</td>\n",
       "      <td>...</td>\n",
       "      <td>...</td>\n",
       "      <td>...</td>\n",
       "      <td>...</td>\n",
       "      <td>...</td>\n",
       "      <td>...</td>\n",
       "      <td>...</td>\n",
       "      <td>...</td>\n",
       "      <td>...</td>\n",
       "      <td>...</td>\n",
       "    </tr>\n",
       "    <tr>\n",
       "      <th>16421</th>\n",
       "      <td>743</td>\n",
       "      <td>339682.13</td>\n",
       "      <td>339682.13</td>\n",
       "      <td>0.00</td>\n",
       "      <td>0.00</td>\n",
       "      <td>339682.13</td>\n",
       "      <td>1</td>\n",
       "      <td>1</td>\n",
       "      <td>0</td>\n",
       "      <td>0</td>\n",
       "      <td>0</td>\n",
       "    </tr>\n",
       "    <tr>\n",
       "      <th>16422</th>\n",
       "      <td>743</td>\n",
       "      <td>6311409.28</td>\n",
       "      <td>6311409.28</td>\n",
       "      <td>0.00</td>\n",
       "      <td>0.00</td>\n",
       "      <td>0.00</td>\n",
       "      <td>1</td>\n",
       "      <td>0</td>\n",
       "      <td>0</td>\n",
       "      <td>0</td>\n",
       "      <td>1</td>\n",
       "    </tr>\n",
       "    <tr>\n",
       "      <th>16423</th>\n",
       "      <td>743</td>\n",
       "      <td>6311409.28</td>\n",
       "      <td>6311409.28</td>\n",
       "      <td>0.00</td>\n",
       "      <td>68488.84</td>\n",
       "      <td>6379898.11</td>\n",
       "      <td>1</td>\n",
       "      <td>1</td>\n",
       "      <td>0</td>\n",
       "      <td>0</td>\n",
       "      <td>0</td>\n",
       "    </tr>\n",
       "    <tr>\n",
       "      <th>16424</th>\n",
       "      <td>743</td>\n",
       "      <td>850002.52</td>\n",
       "      <td>850002.52</td>\n",
       "      <td>0.00</td>\n",
       "      <td>0.00</td>\n",
       "      <td>0.00</td>\n",
       "      <td>1</td>\n",
       "      <td>0</td>\n",
       "      <td>0</td>\n",
       "      <td>0</td>\n",
       "      <td>1</td>\n",
       "    </tr>\n",
       "    <tr>\n",
       "      <th>16425</th>\n",
       "      <td>743</td>\n",
       "      <td>850002.52</td>\n",
       "      <td>850002.52</td>\n",
       "      <td>0.00</td>\n",
       "      <td>6510099.11</td>\n",
       "      <td>7360101.63</td>\n",
       "      <td>1</td>\n",
       "      <td>1</td>\n",
       "      <td>0</td>\n",
       "      <td>0</td>\n",
       "      <td>0</td>\n",
       "    </tr>\n",
       "  </tbody>\n",
       "</table>\n",
       "<p>16426 rows × 11 columns</p>\n",
       "</div>"
      ],
      "text/plain": [
       "       step      amount  oldbalanceOrg  newbalanceOrig  oldbalanceDest  \\\n",
       "0         1     9839.64      170136.00       160296.36            0.00   \n",
       "1         1     1864.28       21249.00        19384.72            0.00   \n",
       "2         1    11668.14       41554.00        29885.86            0.00   \n",
       "3         1     7817.71       53860.00        46042.29            0.00   \n",
       "4         1     7107.77      183195.00       176087.23            0.00   \n",
       "...     ...         ...            ...             ...             ...   \n",
       "16421   743   339682.13      339682.13            0.00            0.00   \n",
       "16422   743  6311409.28     6311409.28            0.00            0.00   \n",
       "16423   743  6311409.28     6311409.28            0.00        68488.84   \n",
       "16424   743   850002.52      850002.52            0.00            0.00   \n",
       "16425   743   850002.52      850002.52            0.00      6510099.11   \n",
       "\n",
       "       newbalanceDest  isFraud  type_CASH_OUT  type_DEBIT  type_PAYMENT  \\\n",
       "0                0.00        0              0           0             1   \n",
       "1                0.00        0              0           0             1   \n",
       "2                0.00        0              0           0             1   \n",
       "3                0.00        0              0           0             1   \n",
       "4                0.00        0              0           0             1   \n",
       "...               ...      ...            ...         ...           ...   \n",
       "16421       339682.13        1              1           0             0   \n",
       "16422            0.00        1              0           0             0   \n",
       "16423      6379898.11        1              1           0             0   \n",
       "16424            0.00        1              0           0             0   \n",
       "16425      7360101.63        1              1           0             0   \n",
       "\n",
       "       type_TRANSFER  \n",
       "0                  0  \n",
       "1                  0  \n",
       "2                  0  \n",
       "3                  0  \n",
       "4                  0  \n",
       "...              ...  \n",
       "16421              0  \n",
       "16422              1  \n",
       "16423              0  \n",
       "16424              1  \n",
       "16425              0  \n",
       "\n",
       "[16426 rows x 11 columns]"
      ]
     },
     "execution_count": 5,
     "metadata": {},
     "output_type": "execute_result"
    }
   ],
   "source": [
    "clientInformation = clientInformation.drop(\"isFlaggedFraud\", axis = 1);\n",
    "\n",
    "clientInformation\n"
   ]
  },
  {
   "cell_type": "code",
   "execution_count": 6,
   "id": "91cba69f",
   "metadata": {},
   "outputs": [
    {
     "data": {
      "text/html": [
       "<div>\n",
       "<style scoped>\n",
       "    .dataframe tbody tr th:only-of-type {\n",
       "        vertical-align: middle;\n",
       "    }\n",
       "\n",
       "    .dataframe tbody tr th {\n",
       "        vertical-align: top;\n",
       "    }\n",
       "\n",
       "    .dataframe thead th {\n",
       "        text-align: right;\n",
       "    }\n",
       "</style>\n",
       "<table border=\"1\" class=\"dataframe\">\n",
       "  <thead>\n",
       "    <tr style=\"text-align: right;\">\n",
       "      <th></th>\n",
       "      <th>step</th>\n",
       "      <th>amount</th>\n",
       "      <th>oldbalanceOrg</th>\n",
       "      <th>newbalanceOrig</th>\n",
       "      <th>oldbalanceDest</th>\n",
       "      <th>newbalanceDest</th>\n",
       "      <th>type_CASH_OUT</th>\n",
       "      <th>type_DEBIT</th>\n",
       "      <th>type_PAYMENT</th>\n",
       "      <th>type_TRANSFER</th>\n",
       "    </tr>\n",
       "  </thead>\n",
       "  <tbody>\n",
       "    <tr>\n",
       "      <th>0</th>\n",
       "      <td>1</td>\n",
       "      <td>9839.64</td>\n",
       "      <td>170136.00</td>\n",
       "      <td>160296.36</td>\n",
       "      <td>0.00</td>\n",
       "      <td>0.00</td>\n",
       "      <td>0</td>\n",
       "      <td>0</td>\n",
       "      <td>1</td>\n",
       "      <td>0</td>\n",
       "    </tr>\n",
       "    <tr>\n",
       "      <th>1</th>\n",
       "      <td>1</td>\n",
       "      <td>1864.28</td>\n",
       "      <td>21249.00</td>\n",
       "      <td>19384.72</td>\n",
       "      <td>0.00</td>\n",
       "      <td>0.00</td>\n",
       "      <td>0</td>\n",
       "      <td>0</td>\n",
       "      <td>1</td>\n",
       "      <td>0</td>\n",
       "    </tr>\n",
       "    <tr>\n",
       "      <th>2</th>\n",
       "      <td>1</td>\n",
       "      <td>11668.14</td>\n",
       "      <td>41554.00</td>\n",
       "      <td>29885.86</td>\n",
       "      <td>0.00</td>\n",
       "      <td>0.00</td>\n",
       "      <td>0</td>\n",
       "      <td>0</td>\n",
       "      <td>1</td>\n",
       "      <td>0</td>\n",
       "    </tr>\n",
       "    <tr>\n",
       "      <th>3</th>\n",
       "      <td>1</td>\n",
       "      <td>7817.71</td>\n",
       "      <td>53860.00</td>\n",
       "      <td>46042.29</td>\n",
       "      <td>0.00</td>\n",
       "      <td>0.00</td>\n",
       "      <td>0</td>\n",
       "      <td>0</td>\n",
       "      <td>1</td>\n",
       "      <td>0</td>\n",
       "    </tr>\n",
       "    <tr>\n",
       "      <th>4</th>\n",
       "      <td>1</td>\n",
       "      <td>7107.77</td>\n",
       "      <td>183195.00</td>\n",
       "      <td>176087.23</td>\n",
       "      <td>0.00</td>\n",
       "      <td>0.00</td>\n",
       "      <td>0</td>\n",
       "      <td>0</td>\n",
       "      <td>1</td>\n",
       "      <td>0</td>\n",
       "    </tr>\n",
       "    <tr>\n",
       "      <th>...</th>\n",
       "      <td>...</td>\n",
       "      <td>...</td>\n",
       "      <td>...</td>\n",
       "      <td>...</td>\n",
       "      <td>...</td>\n",
       "      <td>...</td>\n",
       "      <td>...</td>\n",
       "      <td>...</td>\n",
       "      <td>...</td>\n",
       "      <td>...</td>\n",
       "    </tr>\n",
       "    <tr>\n",
       "      <th>16421</th>\n",
       "      <td>743</td>\n",
       "      <td>339682.13</td>\n",
       "      <td>339682.13</td>\n",
       "      <td>0.00</td>\n",
       "      <td>0.00</td>\n",
       "      <td>339682.13</td>\n",
       "      <td>1</td>\n",
       "      <td>0</td>\n",
       "      <td>0</td>\n",
       "      <td>0</td>\n",
       "    </tr>\n",
       "    <tr>\n",
       "      <th>16422</th>\n",
       "      <td>743</td>\n",
       "      <td>6311409.28</td>\n",
       "      <td>6311409.28</td>\n",
       "      <td>0.00</td>\n",
       "      <td>0.00</td>\n",
       "      <td>0.00</td>\n",
       "      <td>0</td>\n",
       "      <td>0</td>\n",
       "      <td>0</td>\n",
       "      <td>1</td>\n",
       "    </tr>\n",
       "    <tr>\n",
       "      <th>16423</th>\n",
       "      <td>743</td>\n",
       "      <td>6311409.28</td>\n",
       "      <td>6311409.28</td>\n",
       "      <td>0.00</td>\n",
       "      <td>68488.84</td>\n",
       "      <td>6379898.11</td>\n",
       "      <td>1</td>\n",
       "      <td>0</td>\n",
       "      <td>0</td>\n",
       "      <td>0</td>\n",
       "    </tr>\n",
       "    <tr>\n",
       "      <th>16424</th>\n",
       "      <td>743</td>\n",
       "      <td>850002.52</td>\n",
       "      <td>850002.52</td>\n",
       "      <td>0.00</td>\n",
       "      <td>0.00</td>\n",
       "      <td>0.00</td>\n",
       "      <td>0</td>\n",
       "      <td>0</td>\n",
       "      <td>0</td>\n",
       "      <td>1</td>\n",
       "    </tr>\n",
       "    <tr>\n",
       "      <th>16425</th>\n",
       "      <td>743</td>\n",
       "      <td>850002.52</td>\n",
       "      <td>850002.52</td>\n",
       "      <td>0.00</td>\n",
       "      <td>6510099.11</td>\n",
       "      <td>7360101.63</td>\n",
       "      <td>1</td>\n",
       "      <td>0</td>\n",
       "      <td>0</td>\n",
       "      <td>0</td>\n",
       "    </tr>\n",
       "  </tbody>\n",
       "</table>\n",
       "<p>16426 rows × 10 columns</p>\n",
       "</div>"
      ],
      "text/plain": [
       "       step      amount  oldbalanceOrg  newbalanceOrig  oldbalanceDest  \\\n",
       "0         1     9839.64      170136.00       160296.36            0.00   \n",
       "1         1     1864.28       21249.00        19384.72            0.00   \n",
       "2         1    11668.14       41554.00        29885.86            0.00   \n",
       "3         1     7817.71       53860.00        46042.29            0.00   \n",
       "4         1     7107.77      183195.00       176087.23            0.00   \n",
       "...     ...         ...            ...             ...             ...   \n",
       "16421   743   339682.13      339682.13            0.00            0.00   \n",
       "16422   743  6311409.28     6311409.28            0.00            0.00   \n",
       "16423   743  6311409.28     6311409.28            0.00        68488.84   \n",
       "16424   743   850002.52      850002.52            0.00            0.00   \n",
       "16425   743   850002.52      850002.52            0.00      6510099.11   \n",
       "\n",
       "       newbalanceDest  type_CASH_OUT  type_DEBIT  type_PAYMENT  type_TRANSFER  \n",
       "0                0.00              0           0             1              0  \n",
       "1                0.00              0           0             1              0  \n",
       "2                0.00              0           0             1              0  \n",
       "3                0.00              0           0             1              0  \n",
       "4                0.00              0           0             1              0  \n",
       "...               ...            ...         ...           ...            ...  \n",
       "16421       339682.13              1           0             0              0  \n",
       "16422            0.00              0           0             0              1  \n",
       "16423      6379898.11              1           0             0              0  \n",
       "16424            0.00              0           0             0              1  \n",
       "16425      7360101.63              1           0             0              0  \n",
       "\n",
       "[16426 rows x 10 columns]"
      ]
     },
     "execution_count": 6,
     "metadata": {},
     "output_type": "execute_result"
    }
   ],
   "source": [
    "independentVariable = clientInformation[[\"step\", \"amount\", \"oldbalanceOrg\", \"newbalanceOrig\", \"oldbalanceDest\", \"newbalanceDest\", \"type_CASH_OUT\", \"type_DEBIT\", \"type_PAYMENT\", \"type_TRANSFER\"]];\n",
    "\n",
    "independentVariable"
   ]
  },
  {
   "cell_type": "code",
   "execution_count": 7,
   "id": "2c2a4d7e",
   "metadata": {},
   "outputs": [
    {
     "data": {
      "text/html": [
       "<div>\n",
       "<style scoped>\n",
       "    .dataframe tbody tr th:only-of-type {\n",
       "        vertical-align: middle;\n",
       "    }\n",
       "\n",
       "    .dataframe tbody tr th {\n",
       "        vertical-align: top;\n",
       "    }\n",
       "\n",
       "    .dataframe thead th {\n",
       "        text-align: right;\n",
       "    }\n",
       "</style>\n",
       "<table border=\"1\" class=\"dataframe\">\n",
       "  <thead>\n",
       "    <tr style=\"text-align: right;\">\n",
       "      <th></th>\n",
       "      <th>isFraud</th>\n",
       "    </tr>\n",
       "  </thead>\n",
       "  <tbody>\n",
       "    <tr>\n",
       "      <th>0</th>\n",
       "      <td>0</td>\n",
       "    </tr>\n",
       "    <tr>\n",
       "      <th>1</th>\n",
       "      <td>0</td>\n",
       "    </tr>\n",
       "    <tr>\n",
       "      <th>2</th>\n",
       "      <td>0</td>\n",
       "    </tr>\n",
       "    <tr>\n",
       "      <th>3</th>\n",
       "      <td>0</td>\n",
       "    </tr>\n",
       "    <tr>\n",
       "      <th>4</th>\n",
       "      <td>0</td>\n",
       "    </tr>\n",
       "    <tr>\n",
       "      <th>...</th>\n",
       "      <td>...</td>\n",
       "    </tr>\n",
       "    <tr>\n",
       "      <th>16421</th>\n",
       "      <td>1</td>\n",
       "    </tr>\n",
       "    <tr>\n",
       "      <th>16422</th>\n",
       "      <td>1</td>\n",
       "    </tr>\n",
       "    <tr>\n",
       "      <th>16423</th>\n",
       "      <td>1</td>\n",
       "    </tr>\n",
       "    <tr>\n",
       "      <th>16424</th>\n",
       "      <td>1</td>\n",
       "    </tr>\n",
       "    <tr>\n",
       "      <th>16425</th>\n",
       "      <td>1</td>\n",
       "    </tr>\n",
       "  </tbody>\n",
       "</table>\n",
       "<p>16426 rows × 1 columns</p>\n",
       "</div>"
      ],
      "text/plain": [
       "       isFraud\n",
       "0            0\n",
       "1            0\n",
       "2            0\n",
       "3            0\n",
       "4            0\n",
       "...        ...\n",
       "16421        1\n",
       "16422        1\n",
       "16423        1\n",
       "16424        1\n",
       "16425        1\n",
       "\n",
       "[16426 rows x 1 columns]"
      ]
     },
     "execution_count": 7,
     "metadata": {},
     "output_type": "execute_result"
    }
   ],
   "source": [
    "dependentVariable = clientInformation[[\"isFraud\"]];\n",
    "\n",
    "dependentVariable"
   ]
  },
  {
   "cell_type": "code",
   "execution_count": 8,
   "id": "a350488a",
   "metadata": {},
   "outputs": [],
   "source": [
    "from sklearn.model_selection import train_test_split;\n",
    "\n",
    "x_train, x_test, y_train, y_test = train_test_split(independentVariable, dependentVariable, test_size = 1/3, random_state = 0);"
   ]
  },
  {
   "cell_type": "code",
   "execution_count": null,
   "id": "9c5d70e0",
   "metadata": {},
   "outputs": [],
   "source": [
    "x_train"
   ]
  },
  {
   "cell_type": "code",
   "execution_count": null,
   "id": "b78859f7",
   "metadata": {},
   "outputs": [],
   "source": [
    "y_train"
   ]
  },
  {
   "cell_type": "code",
   "execution_count": null,
   "id": "c35396b9",
   "metadata": {},
   "outputs": [],
   "source": [
    "x_test"
   ]
  },
  {
   "cell_type": "code",
   "execution_count": null,
   "id": "1154e1b1",
   "metadata": {},
   "outputs": [],
   "source": [
    "y_test"
   ]
  },
  {
   "cell_type": "code",
   "execution_count": 9,
   "id": "8bc3a72d",
   "metadata": {},
   "outputs": [],
   "source": [
    "from sklearn.preprocessing import StandardScaler;\n",
    "\n",
    "standardization = StandardScaler();\n",
    "\n",
    "x_train = standardization.fit_transform(x_train);\n",
    "\n",
    "x_test = standardization.transform(x_test);\n"
   ]
  },
  {
   "cell_type": "code",
   "execution_count": 10,
   "id": "136a23ac",
   "metadata": {},
   "outputs": [
    {
     "name": "stdout",
     "output_type": "stream",
     "text": [
      "Fitting 5 folds for each of 160 candidates, totalling 800 fits\n"
     ]
    },
    {
     "name": "stderr",
     "output_type": "stream",
     "text": [
      "C:\\Users\\hp\\Anaconda3\\envs\\virtualml\\lib\\site-packages\\sklearn\\model_selection\\_validation.py:372: FitFailedWarning: \n",
      "240 fits failed out of a total of 800.\n",
      "The score on these train-test partitions for these parameters will be set to nan.\n",
      "If these failures are not expected, you can try to debug them by setting error_score='raise'.\n",
      "\n",
      "Below are more details about the failures:\n",
      "--------------------------------------------------------------------------------\n",
      "80 fits failed with the following error:\n",
      "Traceback (most recent call last):\n",
      "  File \"C:\\Users\\hp\\Anaconda3\\envs\\virtualml\\lib\\site-packages\\sklearn\\model_selection\\_validation.py\", line 680, in _fit_and_score\n",
      "    estimator.fit(X_train, y_train, **fit_params)\n",
      "  File \"C:\\Users\\hp\\Anaconda3\\envs\\virtualml\\lib\\site-packages\\sklearn\\linear_model\\_logistic.py\", line 1461, in fit\n",
      "    solver = _check_solver(self.solver, self.penalty, self.dual)\n",
      "  File \"C:\\Users\\hp\\Anaconda3\\envs\\virtualml\\lib\\site-packages\\sklearn\\linear_model\\_logistic.py\", line 449, in _check_solver\n",
      "    % (solver, penalty)\n",
      "ValueError: Solver newton-cg supports only 'l2' or 'none' penalties, got l1 penalty.\n",
      "\n",
      "--------------------------------------------------------------------------------\n",
      "80 fits failed with the following error:\n",
      "Traceback (most recent call last):\n",
      "  File \"C:\\Users\\hp\\Anaconda3\\envs\\virtualml\\lib\\site-packages\\sklearn\\model_selection\\_validation.py\", line 680, in _fit_and_score\n",
      "    estimator.fit(X_train, y_train, **fit_params)\n",
      "  File \"C:\\Users\\hp\\Anaconda3\\envs\\virtualml\\lib\\site-packages\\sklearn\\linear_model\\_logistic.py\", line 1461, in fit\n",
      "    solver = _check_solver(self.solver, self.penalty, self.dual)\n",
      "  File \"C:\\Users\\hp\\Anaconda3\\envs\\virtualml\\lib\\site-packages\\sklearn\\linear_model\\_logistic.py\", line 449, in _check_solver\n",
      "    % (solver, penalty)\n",
      "ValueError: Solver lbfgs supports only 'l2' or 'none' penalties, got l1 penalty.\n",
      "\n",
      "--------------------------------------------------------------------------------\n",
      "80 fits failed with the following error:\n",
      "Traceback (most recent call last):\n",
      "  File \"C:\\Users\\hp\\Anaconda3\\envs\\virtualml\\lib\\site-packages\\sklearn\\model_selection\\_validation.py\", line 680, in _fit_and_score\n",
      "    estimator.fit(X_train, y_train, **fit_params)\n",
      "  File \"C:\\Users\\hp\\Anaconda3\\envs\\virtualml\\lib\\site-packages\\sklearn\\linear_model\\_logistic.py\", line 1461, in fit\n",
      "    solver = _check_solver(self.solver, self.penalty, self.dual)\n",
      "  File \"C:\\Users\\hp\\Anaconda3\\envs\\virtualml\\lib\\site-packages\\sklearn\\linear_model\\_logistic.py\", line 449, in _check_solver\n",
      "    % (solver, penalty)\n",
      "ValueError: Solver sag supports only 'l2' or 'none' penalties, got l1 penalty.\n",
      "\n",
      "  warnings.warn(some_fits_failed_message, FitFailedWarning)\n",
      "C:\\Users\\hp\\Anaconda3\\envs\\virtualml\\lib\\site-packages\\sklearn\\model_selection\\_search.py:972: UserWarning: One or more of the test scores are non-finite: [       nan        nan 0.99131124        nan 0.98446729 0.98757186\n",
      " 0.98757186 0.9871966  0.9857857  0.98418499        nan        nan\n",
      " 0.9910318         nan 0.98314401 0.98644388 0.98644388 0.98644388\n",
      " 0.98493686 0.98239192        nan        nan 0.99401196        nan\n",
      " 0.98437578 0.9908461  0.9908461  0.99047222 0.98616478 0.98428436\n",
      "        nan        nan 0.99401196        nan 0.98362382 0.99028575\n",
      " 0.99028575 0.99028575 0.98550537 0.98343457        nan        nan\n",
      " 0.99410723        nan 0.98428436 0.99177792 0.99177792 0.99140525\n",
      " 0.98616478 0.98437578        nan        nan 0.99392           nan\n",
      " 0.98362382 0.9909401  0.9909401  0.9909401  0.98569366 0.98362382\n",
      "        nan        nan 0.99447564        nan 0.98428436 0.99270939\n",
      " 0.99261624 0.99261624 0.98616478 0.98437578        nan        nan\n",
      " 0.9942902         nan 0.98362382 0.99242986 0.99242986 0.99242986\n",
      " 0.9857882  0.98362382        nan        nan 0.99410731        nan\n",
      " 0.98428436 0.99354488 0.99354488 0.99298849 0.98616478 0.98428436\n",
      "        nan        nan 0.99438309        nan 0.98362382 0.99271126\n",
      " 0.99271126 0.99270939 0.9857882  0.98362382        nan        nan\n",
      " 0.99447589        nan 0.98428436 0.99391746 0.99391746 0.99345335\n",
      " 0.98616478 0.98437578        nan        nan 0.99429266        nan\n",
      " 0.98362382 0.99289696 0.99298976 0.99280458 0.9857882  0.98362382\n",
      "        nan        nan 0.99410731        nan 0.98428436 0.99484727\n",
      " 0.99484727 0.99475582 0.98616478 0.98428436        nan        nan\n",
      " 0.99429292        nan 0.98362382 0.9945709  0.9945709  0.99456963\n",
      " 0.9857882  0.98362382        nan        nan 0.99438546        nan\n",
      " 0.98428436 0.99484794 0.99484794 0.99475582 0.98616478 0.98428436\n",
      "        nan        nan 0.99429266        nan 0.98362382 0.99484794\n",
      " 0.99484794 0.99484794 0.9857882  0.98362382]\n",
      "  category=UserWarning,\n",
      "C:\\Users\\hp\\Anaconda3\\envs\\virtualml\\lib\\site-packages\\sklearn\\utils\\validation.py:993: DataConversionWarning: A column-vector y was passed when a 1d array was expected. Please change the shape of y to (n_samples, ), for example using ravel().\n",
      "  y = column_or_1d(y, warn=True)\n"
     ]
    }
   ],
   "source": [
    "from sklearn.linear_model import LogisticRegression;\n",
    "\n",
    "from sklearn.model_selection import GridSearchCV;\n",
    "\n",
    "\n",
    "\n",
    "param_grid ={\"penalty\":[\"l1\", \"l2\"], \"C\":[1.0, 10, 20, 50, 80, 100, 1000, 10000], \"fit_intercept\":[True, False], \n",
    "             \n",
    "             \"solver\":[\"newton-cg\", \"lbfgs\", \"liblinear\", \"sag\", \"saga\"]\n",
    "            \n",
    "            }\n",
    "\n",
    "grid = GridSearchCV(LogisticRegression(), param_grid, refit = True, verbose = 3, n_jobs=-1, scoring=\"f1\");\n",
    "\n",
    "grid.fit(x_train, y_train);\n",
    "\n",
    "\n"
   ]
  },
  {
   "cell_type": "code",
   "execution_count": 11,
   "id": "7f71473d",
   "metadata": {},
   "outputs": [],
   "source": [
    "y_pred = grid.predict(x_test);"
   ]
  },
  {
   "cell_type": "code",
   "execution_count": 12,
   "id": "69c9594b",
   "metadata": {},
   "outputs": [
    {
     "name": "stdout",
     "output_type": "stream",
     "text": [
      "[[2721    1]\n",
      " [  24 2730]]\n"
     ]
    }
   ],
   "source": [
    "from sklearn.metrics import confusion_matrix;\n",
    "\n",
    "logisticRegressionConfusionMatrix = confusion_matrix(y_test, y_pred);\n",
    "\n",
    "print(logisticRegressionConfusionMatrix);\n"
   ]
  },
  {
   "cell_type": "code",
   "execution_count": 13,
   "id": "202da5bb",
   "metadata": {},
   "outputs": [
    {
     "name": "stdout",
     "output_type": "stream",
     "text": [
      "              precision    recall  f1-score   support\n",
      "\n",
      "           0       0.99      1.00      1.00      2722\n",
      "           1       1.00      0.99      1.00      2754\n",
      "\n",
      "    accuracy                           1.00      5476\n",
      "   macro avg       1.00      1.00      1.00      5476\n",
      "weighted avg       1.00      1.00      1.00      5476\n",
      "\n"
     ]
    }
   ],
   "source": [
    "from sklearn.metrics import classification_report;\n",
    "\n",
    "logisticRegressionClassifierReport = classification_report(y_test, y_pred);\n",
    "\n",
    "print(logisticRegressionClassifierReport);"
   ]
  },
  {
   "cell_type": "markdown",
   "id": "87755f6e",
   "metadata": {},
   "source": [
    "# 1. Metric(Accuracy Score)\n",
    "## The best performance is 1"
   ]
  },
  {
   "cell_type": "code",
   "execution_count": 14,
   "id": "5cc0b7a5",
   "metadata": {},
   "outputs": [
    {
     "name": "stdout",
     "output_type": "stream",
     "text": [
      "0.9954346238130022\n"
     ]
    }
   ],
   "source": [
    "from sklearn.metrics import accuracy_score;\n",
    "\n",
    "logisticRegressionClassifierAccuracy = accuracy_score(y_test, y_pred);\n",
    "\n",
    "print(logisticRegressionClassifierAccuracy);"
   ]
  },
  {
   "cell_type": "markdown",
   "id": "d6bece03",
   "metadata": {},
   "source": [
    "# 2. Metric(Balanced Accuracy)\n",
    "## The best value is 1 and the worst value is 0"
   ]
  },
  {
   "cell_type": "code",
   "execution_count": 15,
   "id": "81a49c5f",
   "metadata": {},
   "outputs": [
    {
     "name": "stdout",
     "output_type": "stream",
     "text": [
      "0.99545901306069\n"
     ]
    }
   ],
   "source": [
    "from sklearn.metrics import balanced_accuracy_score;\n",
    "\n",
    "logisticRegressionClassifierBalanced = balanced_accuracy_score(y_test, y_pred);\n",
    "\n",
    "print(logisticRegressionClassifierBalanced);"
   ]
  },
  {
   "cell_type": "markdown",
   "id": "d5b09d98",
   "metadata": {},
   "source": [
    "# 3. Metric(Top K-Accuracy Score)\n",
    "## The top-k accuracy score. The best performance is 1"
   ]
  },
  {
   "cell_type": "code",
   "execution_count": 16,
   "id": "a610a051",
   "metadata": {},
   "outputs": [
    {
     "name": "stdout",
     "output_type": "stream",
     "text": [
      "1.0\n"
     ]
    },
    {
     "name": "stderr",
     "output_type": "stream",
     "text": [
      "C:\\Users\\hp\\Anaconda3\\envs\\virtualml\\lib\\site-packages\\sklearn\\metrics\\_ranking.py:1751: UndefinedMetricWarning: 'k' (2) greater than or equal to 'n_classes' (2) will result in a perfect score and is therefore meaningless.\n",
      "  UndefinedMetricWarning,\n"
     ]
    }
   ],
   "source": [
    "from sklearn.metrics import top_k_accuracy_score;\n",
    "\n",
    "logisticRegressionClassiferTopK = top_k_accuracy_score(y_test, y_pred);\n",
    "\n",
    "print(logisticRegressionClassiferTopK);"
   ]
  },
  {
   "cell_type": "markdown",
   "id": "dca12143",
   "metadata": {},
   "source": [
    "# 4. Metric(Average Precision Score)\n",
    "## The best value is 1 and the worst value is 0"
   ]
  },
  {
   "cell_type": "code",
   "execution_count": 17,
   "id": "147bc44d",
   "metadata": {},
   "outputs": [
    {
     "name": "stdout",
     "output_type": "stream",
     "text": [
      "0.9953051889413477\n"
     ]
    }
   ],
   "source": [
    "from sklearn.metrics import average_precision_score;\n",
    "\n",
    "logisticRegressionClassifierPrecision = average_precision_score(y_test, y_pred);\n",
    "\n",
    "print(logisticRegressionClassifierPrecision);"
   ]
  },
  {
   "cell_type": "markdown",
   "id": "83cb45c0",
   "metadata": {},
   "source": [
    "# 5. Metric(Brier Score Loss)\n",
    "## The best value is 1 and the worst value is 0"
   ]
  },
  {
   "cell_type": "code",
   "execution_count": 18,
   "id": "2fa189d5",
   "metadata": {},
   "outputs": [
    {
     "name": "stdout",
     "output_type": "stream",
     "text": [
      "0.004565376186997808\n"
     ]
    }
   ],
   "source": [
    "from sklearn.metrics import brier_score_loss;\n",
    "\n",
    "logisticRegressionClassiferBrier = brier_score_loss(y_test, y_pred);\n",
    "\n",
    "print(logisticRegressionClassiferBrier);"
   ]
  },
  {
   "cell_type": "markdown",
   "id": "aa92c597",
   "metadata": {},
   "source": [
    "# 6. Metric(F1 Score)\n",
    "## The best value is 1 and the worst value is 0"
   ]
  },
  {
   "cell_type": "code",
   "execution_count": 19,
   "id": "b8891908",
   "metadata": {},
   "outputs": [
    {
     "name": "stdout",
     "output_type": "stream",
     "text": [
      "0.9954421148587055\n"
     ]
    }
   ],
   "source": [
    "from sklearn.metrics import f1_score;\n",
    "\n",
    "logisticRegressionClassifierF1score = f1_score(y_test, y_pred);\n",
    "\n",
    "print(logisticRegressionClassifierF1score);"
   ]
  },
  {
   "cell_type": "markdown",
   "id": "95de31aa",
   "metadata": {},
   "source": [
    "# 7. Metric(F1 Score - Macro)\n",
    "## The best value is 1 and the worst value is 0"
   ]
  },
  {
   "cell_type": "code",
   "execution_count": 20,
   "id": "04639014",
   "metadata": {},
   "outputs": [
    {
     "name": "stdout",
     "output_type": "stream",
     "text": [
      "0.9954346114809349\n"
     ]
    }
   ],
   "source": [
    "from sklearn.metrics import f1_score;\n",
    "\n",
    "logisticRegressionClassifierF1Macro = f1_score(y_test, y_pred, average='macro');\n",
    "\n",
    "print(logisticRegressionClassifierF1Macro);"
   ]
  },
  {
   "cell_type": "markdown",
   "id": "8ff44f75",
   "metadata": {},
   "source": [
    "# 8. Metric(F1 Score - Micro)\n",
    "## The best value is 1 and the worst value is 0"
   ]
  },
  {
   "cell_type": "code",
   "execution_count": 21,
   "id": "0b10a1f6",
   "metadata": {},
   "outputs": [
    {
     "name": "stdout",
     "output_type": "stream",
     "text": [
      "0.9954346238130022\n"
     ]
    }
   ],
   "source": [
    "from sklearn.metrics import f1_score;\n",
    "\n",
    "logisticRegressionClassifierF1Micro = f1_score(y_test, y_pred, average='micro');\n",
    "\n",
    "print(logisticRegressionClassifierF1Micro);"
   ]
  },
  {
   "cell_type": "markdown",
   "id": "71343556",
   "metadata": {},
   "source": [
    "# 9. Metric(F1 Score - Weighted)\n",
    "## The best value is 1 and the worst value is 0"
   ]
  },
  {
   "cell_type": "code",
   "execution_count": 22,
   "id": "473e6bff",
   "metadata": {},
   "outputs": [
    {
     "name": "stdout",
     "output_type": "stream",
     "text": [
      "0.9954346553282849\n"
     ]
    }
   ],
   "source": [
    "from sklearn.metrics import f1_score;\n",
    "\n",
    "logisticRegressionClassifierF1Weighted = f1_score(y_test, y_pred, average='weighted');\n",
    "\n",
    "print(logisticRegressionClassifierF1Weighted);"
   ]
  },
  {
   "cell_type": "markdown",
   "id": "b89eadcb",
   "metadata": {},
   "source": [
    "# 10. Metric(F1 Score - Samples)\n",
    "## The best value is 1 and the worst value is 0"
   ]
  },
  {
   "cell_type": "code",
   "execution_count": 23,
   "id": "78e3ccde",
   "metadata": {},
   "outputs": [
    {
     "name": "stdout",
     "output_type": "stream",
     "text": [
      "[0.99542711 0.99544211]\n"
     ]
    }
   ],
   "source": [
    "from sklearn.metrics import f1_score;\n",
    "\n",
    "logisticRegressionClassifierF1Samples = f1_score(y_test, y_pred, average= None);\n",
    "\n",
    "print(logisticRegressionClassifierF1Samples);"
   ]
  },
  {
   "cell_type": "markdown",
   "id": "2e0c22b9",
   "metadata": {},
   "source": [
    "# 11. Metric(Log_Loss)\n",
    "## The best value is 1 and the worst value is 0"
   ]
  },
  {
   "cell_type": "code",
   "execution_count": 24,
   "id": "b5762a17",
   "metadata": {},
   "outputs": [
    {
     "name": "stdout",
     "output_type": "stream",
     "text": [
      "0.15768265329989092\n"
     ]
    }
   ],
   "source": [
    "from sklearn.metrics import log_loss;\n",
    "\n",
    "logisticRegressionClassifierLogLoss = log_loss(y_test, y_pred);\n",
    "\n",
    "print(logisticRegressionClassifierLogLoss);"
   ]
  },
  {
   "cell_type": "markdown",
   "id": "e855c148",
   "metadata": {},
   "source": [
    "# 12. Metric(Precision Score)\n",
    "## The best value is 1 and the worst value is 0"
   ]
  },
  {
   "cell_type": "code",
   "execution_count": 25,
   "id": "587a419f",
   "metadata": {},
   "outputs": [
    {
     "name": "stdout",
     "output_type": "stream",
     "text": [
      "0.9996338337605273\n"
     ]
    }
   ],
   "source": [
    "from sklearn.metrics import precision_score;\n",
    "\n",
    "logisticRegressionClassifierPrecisionScore = precision_score(y_test, y_pred);\n",
    "\n",
    "print(logisticRegressionClassifierPrecisionScore);"
   ]
  },
  {
   "cell_type": "markdown",
   "id": "b8ce341a",
   "metadata": {},
   "source": [
    "# 13. Metric(Precision Score - Macro)\n",
    "## The best value is 1 and the worst value is 0"
   ]
  },
  {
   "cell_type": "code",
   "execution_count": 26,
   "id": "bb067891",
   "metadata": {},
   "outputs": [
    {
     "name": "stdout",
     "output_type": "stream",
     "text": [
      "0.9954453321808101\n"
     ]
    }
   ],
   "source": [
    "from sklearn.metrics import precision_score;\n",
    "\n",
    "logisticRegressionClassifierPrecisionScoreMacro = precision_score(y_test, y_pred, average='macro');\n",
    "\n",
    "print(logisticRegressionClassifierPrecisionScoreMacro);"
   ]
  },
  {
   "cell_type": "markdown",
   "id": "ba1bdadc",
   "metadata": {},
   "source": [
    "# 14. Metric(Precision Score - Micro)\n",
    "## The best value is 1 and the worst value is 0"
   ]
  },
  {
   "cell_type": "code",
   "execution_count": 27,
   "id": "f68d5a32",
   "metadata": {},
   "outputs": [
    {
     "name": "stdout",
     "output_type": "stream",
     "text": [
      "0.9954346238130022\n"
     ]
    }
   ],
   "source": [
    "from sklearn.metrics import precision_score;\n",
    "\n",
    "LogisticRegressionClassifierPrecisionScoreMicro = precision_score(y_test, y_pred, average='micro');\n",
    "\n",
    "print(LogisticRegressionClassifierPrecisionScoreMicro);"
   ]
  },
  {
   "cell_type": "markdown",
   "id": "e0d39074",
   "metadata": {},
   "source": [
    "# 15. Metric(Precision Score - Weighted)\n",
    "## The best value is 1 and the worst value is 0"
   ]
  },
  {
   "cell_type": "code",
   "execution_count": 28,
   "id": "9b72527b",
   "metadata": {},
   "outputs": [
    {
     "name": "stdout",
     "output_type": "stream",
     "text": [
      "0.9954698084500854\n"
     ]
    }
   ],
   "source": [
    "from sklearn.metrics import precision_score;\n",
    "\n",
    "logisticRegressionClassifierPrecisionScoreWeighted = precision_score(y_test, y_pred, average='weighted');\n",
    "\n",
    "print(logisticRegressionClassifierPrecisionScoreWeighted);"
   ]
  },
  {
   "cell_type": "markdown",
   "id": "1f16430a",
   "metadata": {},
   "source": [
    "# 16. Metric(Precision Score - None)\n",
    "## The best value is 1 and the worst value is 0"
   ]
  },
  {
   "cell_type": "code",
   "execution_count": 29,
   "id": "50ea588d",
   "metadata": {},
   "outputs": [
    {
     "name": "stdout",
     "output_type": "stream",
     "text": [
      "[0.99125683 0.99963383]\n"
     ]
    }
   ],
   "source": [
    "from sklearn.metrics import precision_score;\n",
    "\n",
    "logisticRegressionClassifierPrecisionScoreNone = precision_score(y_test, y_pred, average=None);\n",
    "\n",
    "print(logisticRegressionClassifierPrecisionScoreNone);"
   ]
  },
  {
   "cell_type": "markdown",
   "id": "1d203be1",
   "metadata": {},
   "source": [
    "# 17. Metric(Recall)\n",
    "## The best value is 1 and the worst value is 0"
   ]
  },
  {
   "cell_type": "code",
   "execution_count": 30,
   "id": "43a04e0b",
   "metadata": {},
   "outputs": [
    {
     "name": "stdout",
     "output_type": "stream",
     "text": [
      "0.9912854030501089\n"
     ]
    }
   ],
   "source": [
    "from sklearn.metrics import recall_score;\n",
    "\n",
    "logisticRegressionClassifierRecall = recall_score(y_test, y_pred);\n",
    "\n",
    "print(logisticRegressionClassifierRecall);"
   ]
  },
  {
   "cell_type": "markdown",
   "id": "c1a4109c",
   "metadata": {},
   "source": [
    "# 18. Metric(Recall - Macro)\n",
    "## The best value is 1 and the worst value is 0"
   ]
  },
  {
   "cell_type": "code",
   "execution_count": 31,
   "id": "885c2c2f",
   "metadata": {},
   "outputs": [
    {
     "name": "stdout",
     "output_type": "stream",
     "text": [
      "0.99545901306069\n"
     ]
    }
   ],
   "source": [
    "from sklearn.metrics import recall_score;\n",
    "\n",
    "logisticRegressionClassifierRecallMacro = recall_score(y_test, y_pred, average='macro');\n",
    "\n",
    "print(logisticRegressionClassifierRecallMacro);"
   ]
  },
  {
   "cell_type": "markdown",
   "id": "38f63c78",
   "metadata": {},
   "source": [
    "# 19. Metric(Recall - Micro)\n",
    "## The best value is 1 and the worst value is 0"
   ]
  },
  {
   "cell_type": "code",
   "execution_count": 32,
   "id": "9a5d8060",
   "metadata": {},
   "outputs": [
    {
     "name": "stdout",
     "output_type": "stream",
     "text": [
      "0.9954346238130022\n"
     ]
    }
   ],
   "source": [
    "from sklearn.metrics import recall_score;\n",
    "\n",
    "logisticRegressionClassifierRecallMicro = recall_score(y_test, y_pred, average='micro');\n",
    "\n",
    "print(logisticRegressionClassifierRecallMicro);"
   ]
  },
  {
   "cell_type": "markdown",
   "id": "975e2466",
   "metadata": {},
   "source": [
    "# 20. Metric(Recall - Weighted)\n",
    "## The best value is 1 and the worst value is 0"
   ]
  },
  {
   "cell_type": "code",
   "execution_count": 33,
   "id": "2095e82c",
   "metadata": {},
   "outputs": [
    {
     "name": "stdout",
     "output_type": "stream",
     "text": [
      "0.9954346238130022\n"
     ]
    }
   ],
   "source": [
    "from sklearn.metrics import recall_score;\n",
    "\n",
    "logisticRegressionClassifierRecallWeighted = recall_score(y_test, y_pred, average='weighted');\n",
    "\n",
    "print(logisticRegressionClassifierRecallWeighted);"
   ]
  },
  {
   "cell_type": "markdown",
   "id": "cb5a5967",
   "metadata": {},
   "source": [
    "# 21. Metric(Recall - None)\n",
    "## The best value is 1 and the worst value is 0"
   ]
  },
  {
   "cell_type": "code",
   "execution_count": 34,
   "id": "43db6ddc",
   "metadata": {},
   "outputs": [
    {
     "name": "stdout",
     "output_type": "stream",
     "text": [
      "[0.99963262 0.9912854 ]\n"
     ]
    }
   ],
   "source": [
    "from sklearn.metrics import recall_score;\n",
    "\n",
    "logisticRegressionClassifierRecallNone = recall_score(y_test, y_pred, average=None, zero_division=1);\n",
    "\n",
    "print(logisticRegressionClassifierRecallNone);"
   ]
  },
  {
   "cell_type": "markdown",
   "id": "84ad0733",
   "metadata": {},
   "source": [
    "# 22. Metric(Jaccard Score)\n",
    "## The best value is 1 and the worst value is 0"
   ]
  },
  {
   "cell_type": "code",
   "execution_count": 35,
   "id": "d4c5499d",
   "metadata": {},
   "outputs": [
    {
     "name": "stdout",
     "output_type": "stream",
     "text": [
      "0.9909255898366606\n"
     ]
    }
   ],
   "source": [
    "from sklearn.metrics import jaccard_score;\n",
    "\n",
    "logisticRegressionClassifierJaccard = jaccard_score(y_test, y_pred);\n",
    "\n",
    "print(logisticRegressionClassifierJaccard);"
   ]
  },
  {
   "cell_type": "markdown",
   "id": "821f1146",
   "metadata": {},
   "source": [
    "# 23. Metric(Jaccard - None)\n",
    "## The best value is 1 and the worst value is 0"
   ]
  },
  {
   "cell_type": "code",
   "execution_count": 36,
   "id": "47d016fd",
   "metadata": {},
   "outputs": [
    {
     "name": "stdout",
     "output_type": "stream",
     "text": [
      "[0.99089585 0.99092559]\n"
     ]
    }
   ],
   "source": [
    "from sklearn.metrics import jaccard_score;\n",
    "\n",
    "logisticRegressionClassifierJaccardNone = jaccard_score(y_test, y_pred, average=None);\n",
    "\n",
    "print(logisticRegressionClassifierJaccardNone);"
   ]
  },
  {
   "cell_type": "markdown",
   "id": "f81443d9",
   "metadata": {},
   "source": [
    "# 24. Metric(Jaccard - Weighted)\n",
    "## The best value is 1 and the worst value is 0"
   ]
  },
  {
   "cell_type": "code",
   "execution_count": 37,
   "id": "3010bbd7",
   "metadata": {},
   "outputs": [
    {
     "name": "stdout",
     "output_type": "stream",
     "text": [
      "0.9909108060712194\n"
     ]
    }
   ],
   "source": [
    "from sklearn.metrics import jaccard_score;\n",
    "\n",
    "logisticRegressionClassifierJaccardWeighted = jaccard_score(y_test, y_pred, average='weighted');\n",
    "\n",
    "print(logisticRegressionClassifierJaccardWeighted);"
   ]
  },
  {
   "cell_type": "markdown",
   "id": "d5682473",
   "metadata": {},
   "source": [
    "# 25. Metric(Jaccard - Micro)\n",
    "## The best value is 1 and the worst value is 0"
   ]
  },
  {
   "cell_type": "code",
   "execution_count": 38,
   "id": "054aec62",
   "metadata": {},
   "outputs": [
    {
     "name": "stdout",
     "output_type": "stream",
     "text": [
      "0.9909107435011816\n"
     ]
    }
   ],
   "source": [
    "from sklearn.metrics import jaccard_score;\n",
    "\n",
    "logisticRegressionClassifierJaccardMicro = jaccard_score(y_test, y_pred, average='micro');\n",
    "\n",
    "print(logisticRegressionClassifierJaccardMicro);"
   ]
  },
  {
   "cell_type": "markdown",
   "id": "445e1e80",
   "metadata": {},
   "source": [
    "# 26. Metric(Rac Auc Score)\n",
    "## The best value is 1 and the worst value is 0"
   ]
  },
  {
   "cell_type": "code",
   "execution_count": 39,
   "id": "6fc12139",
   "metadata": {},
   "outputs": [
    {
     "name": "stdout",
     "output_type": "stream",
     "text": [
      "0.99545901306069\n"
     ]
    }
   ],
   "source": [
    "from sklearn.metrics import roc_auc_score;\n",
    "\n",
    "logisticRegressionClassifierRoc = roc_auc_score(y_test, y_pred);\n",
    "\n",
    "print(logisticRegressionClassifierRoc);"
   ]
  },
  {
   "cell_type": "markdown",
   "id": "4c91aee1",
   "metadata": {},
   "source": [
    "# 27. Metric(Rac Auc Score - None)\n",
    "## The best value is 1 and the worst value is 0"
   ]
  },
  {
   "cell_type": "code",
   "execution_count": 40,
   "id": "9d2bf022",
   "metadata": {},
   "outputs": [
    {
     "name": "stdout",
     "output_type": "stream",
     "text": [
      "0.99545901306069\n"
     ]
    }
   ],
   "source": [
    "from sklearn.metrics import roc_auc_score;\n",
    "\n",
    "logisticRegressionClassifierRocNone = roc_auc_score(y_test, y_pred, average=None);\n",
    "\n",
    "print(logisticRegressionClassifierRocNone);"
   ]
  },
  {
   "cell_type": "markdown",
   "id": "df082392",
   "metadata": {},
   "source": [
    "# 28. Metric(Rac Auc Score - Macro)\n",
    "## The best value is 1 and the worst value is 0"
   ]
  },
  {
   "cell_type": "code",
   "execution_count": 41,
   "id": "ef71c811",
   "metadata": {},
   "outputs": [
    {
     "name": "stdout",
     "output_type": "stream",
     "text": [
      "0.99545901306069\n"
     ]
    }
   ],
   "source": [
    "from sklearn.metrics import roc_auc_score;\n",
    "\n",
    "logisticRegressionClassifierRocMacro = roc_auc_score(y_test, y_pred, average='macro');\n",
    "\n",
    "print(logisticRegressionClassifierRocMacro);"
   ]
  },
  {
   "cell_type": "markdown",
   "id": "87de60db",
   "metadata": {},
   "source": [
    "# 29. Metric(Rac Auc Score - Micro)\n",
    "## The best value is 1 and the worst value is 0"
   ]
  },
  {
   "cell_type": "code",
   "execution_count": 42,
   "id": "c3bbae93",
   "metadata": {},
   "outputs": [
    {
     "name": "stdout",
     "output_type": "stream",
     "text": [
      "0.99545901306069\n"
     ]
    }
   ],
   "source": [
    "from sklearn.metrics import roc_auc_score;\n",
    "\n",
    "logisticRegressionClassifierRocMicro = roc_auc_score(y_test, y_pred, average='micro');\n",
    "\n",
    "print(logisticRegressionClassifierRocMicro);"
   ]
  },
  {
   "cell_type": "markdown",
   "id": "300fad5c",
   "metadata": {},
   "source": [
    "# 30. Metric(Rac Auc Score - Weighted)\n",
    "## The best value is 1 and the worst value is 0"
   ]
  },
  {
   "cell_type": "code",
   "execution_count": 43,
   "id": "509a89c3",
   "metadata": {},
   "outputs": [
    {
     "name": "stdout",
     "output_type": "stream",
     "text": [
      "0.99545901306069\n"
     ]
    }
   ],
   "source": [
    "from sklearn.metrics import roc_auc_score;\n",
    "\n",
    "logisticRegressionClassifierRocWeighted = roc_auc_score(y_test, y_pred, average='weighted');\n",
    "\n",
    "print(logisticRegressionClassifierRocWeighted);"
   ]
  }
 ],
 "metadata": {
  "kernelspec": {
   "display_name": "Python 3 (ipykernel)",
   "language": "python",
   "name": "python3"
  },
  "language_info": {
   "codemirror_mode": {
    "name": "ipython",
    "version": 3
   },
   "file_extension": ".py",
   "mimetype": "text/x-python",
   "name": "python",
   "nbconvert_exporter": "python",
   "pygments_lexer": "ipython3",
   "version": "3.7.6"
  }
 },
 "nbformat": 4,
 "nbformat_minor": 5
}
